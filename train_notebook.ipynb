{
 "cells": [
  {
   "cell_type": "code",
   "execution_count": 1,
   "outputs": [
    {
     "name": "stderr",
     "text": [
      "Using TensorFlow backend.\n"
     ],
     "output_type": "stream"
    }
   ],
   "source": [
    "import tensorflow as tf\n",
    "import matplotlib.pyplot as plt\n",
    "\n",
    "\n",
    "physical_devices = tf.config.experimental.list_physical_devices('GPU')\n",
    "assert len(physical_devices) > 0, \"Not enough GPU hardware devices available\"\n",
    "tf.config.experimental.set_memory_growth(physical_devices[0], False)\n",
    "\n",
    "import os\n",
    "\n",
    "import numpy as np\n",
    "from keras.applications.vgg16 import preprocess_input\n",
    "from keras.preprocessing import image\n",
    "\n",
    "from loupe_keras import NetVLAD\n",
    "\n",
    "\n",
    "def get_imlist(path):\n",
    "    return [os.path.join(path, f) for f in os.listdir(path) if f.endswith(u'.jpg')]\n",
    "\n",
    "\n",
    "def create_image_dict(img_list):\n",
    "    input_shape = (224, 224, 3)\n",
    "    tensor = {}\n",
    "    for path in img_list:\n",
    "        img = image.load_img(path, target_size=(input_shape[0], input_shape[1]))\n",
    "        img = image.img_to_array(img)\n",
    "        img = preprocess_input(img)\n",
    "        img_key = path.strip('holidays_small/')\n",
    "        tensor[img_key] = img\n",
    "    # tensor = np.array(tensor)\n",
    "    return tensor\n"
   ],
   "metadata": {
    "collapsed": false,
    "pycharm": {
     "name": "#%%\n",
     "is_executing": false
    }
   }
  },
  {
   "cell_type": "code",
   "execution_count": 2,
   "outputs": [
    {
     "data": {
      "text/plain": "dict_keys(['138708.jpg', '134001.jpg', '138604.jpg', '107500.jpg', '124300.jpg', '123100.jpg', '122301.jpg', '115600.jpg', '130600.jpg', '101502.jpg', '141201.jpg', '146003.jpg', '128601.jpg', '106903.jpg', '139603.jpg', '101200.jpg', '118202.jpg', '112602.jpg', '139505.jpg', '121101.jpg', '113403.jpg', '108601.jpg', '138303.jpg', '133703.jpg', '148101.jpg', '131803.jpg', '132902.jpg', '130401.jpg', '123402.jpg', '104100.jpg', '139103.jpg', '106602.jpg', '106702.jpg', '122400.jpg', '106201.jpg', '106402.jpg', '139801.jpg', '117403.jpg', '142302.jpg', '111500.jpg', '118300.jpg', '121700.jpg', '137400.jpg', '101400.jpg', '132401.jpg', '106300.jpg', '146501.jpg', '139205.jpg', '134401.jpg', '126702.jpg', '132102.jpg', '138905.jpg', '105102.jpg', '112000.jpg', '120101.jpg', '106801.jpg', '138302.jpg', '134601.jpg', '113402.jpg', '133901.jpg', '139301.jpg', '112500.jpg', '148301.jpg', '119400.jpg', '104002.jpg', '147402.jpg', '109500.jpg', '137801.jpg', '141800.jpg', '132402.jpg', '109802.jpg', '137401.jpg', '117901.jpg', '126806.jpg', '143701.jpg', '112900.jpg', '107203.jpg', '114400.jpg', '123401.jpg', '124002.jpg', '103302.jpg', '137302.jpg', '119203.jpg', '117200.jpg', '145801.jpg', '144200.jpg', '134901.jpg', '140502.jpg', '117900.jpg', '102001.jpg', '108801.jpg', '145500.jpg', '122709.jpg', '123404.jpg', '148002.jpg', '114001.jpg', '122201.jpg', '148400.jpg', '104203.jpg', '116201.jpg', '103201.jpg', '123600.jpg', '101500.jpg', '139400.jpg', '147103.jpg', '131100.jpg', '120200.jpg', '105400.jpg', '144402.jpg', '124202.jpg', '134603.jpg', '142801.jpg', '139602.jpg', '128800.jpg', '126002.jpg', '125401.jpg', '107000.jpg', '112901.jpg', '133002.jpg', '114801.jpg', '139002.jpg', '107400.jpg', '134502.jpg', '144802.jpg', '147701.jpg', '122901.jpg', '111400.jpg', '141901.jpg', '117402.jpg', '121201.jpg', '106901.jpg', '146502.jpg', '117101.jpg', '133801.jpg', '135401.jpg', '134801.jpg', '135902.jpg', '110600.jpg', '130700.jpg', '126901.jpg', '100800.jpg', '127403.jpg', '125800.jpg', '138603.jpg', '149603.jpg', '126703.jpg', '142701.jpg', '144600.jpg', '103500.jpg', '146801.jpg', '144500.jpg', '103503.jpg', '125500.jpg', '100001.jpg', '131001.jpg', '131603.jpg', '101201.jpg', '138506.jpg', '121801.jpg', '118001.jpg', '147100.jpg', '111200.jpg', '102101.jpg', '131802.jpg', '138802.jpg', '142300.jpg', '141101.jpg', '130501.jpg', '141000.jpg', '134803.jpg', '127300.jpg', '108802.jpg', '115401.jpg', '110301.jpg', '100002.jpg', '104501.jpg', '100500.jpg', '104500.jpg', '124802.jpg', '136705.jpg', '130201.jpg', '112300.jpg', '126500.jpg', '135101.jpg', '107701.jpg', '149701.jpg', '146601.jpg', '118401.jpg', '127602.jpg', '145601.jpg', '128501.jpg', '142600.jpg', '117401.jpg', '137504.jpg', '147401.jpg', '135703.jpg', '101600.jpg', '106603.jpg', '125000.jpg', '139202.jpg', '127802.jpg', '138701.jpg', '149002.jpg', '119501.jpg', '143601.jpg', '128200.jpg', '113404.jpg', '119001.jpg', '117700.jpg', '122302.jpg', '131801.jpg', '136900.jpg', '142901.jpg', '111001.jpg', '127202.jpg', '115702.jpg', '126100.jpg', '113501.jpg', '111901.jpg', '103902.jpg', '146001.jpg', '139502.jpg', '146204.jpg', '134100.jpg', '125600.jpg', '146100.jpg', '112002.jpg', '121301.jpg', '140200.jpg', '140300.jpg', '115601.jpg', '117500.jpg', '136503.jpg', '136301.jpg', '143700.jpg', '138601.jpg', '143900.jpg', '103101.jpg', '122707.jpg', '109600.jpg', '101700.jpg', '117000.jpg', '132301.jpg', '130301.jpg', '136903.jpg', '100700.jpg', '132600.jpg', '103303.jpg', '110800.jpg', '115100.jpg', '124000.jpg', '124500.jpg', '105101.jpg', '121601.jpg', '105500.jpg', '139005.jpg', '130300.jpg', '119700.jpg', '132300.jpg', '147702.jpg', '100101.jpg', '135400.jpg', '134400.jpg', '115900.jpg', '147102.jpg', '110000.jpg', '138507.jpg', '133600.jpg', '142101.jpg', '135402.jpg', '102901.jpg', '145502.jpg', '115001.jpg', '138305.jpg', '100901.jpg', '140500.jpg', '137102.jpg', '111101.jpg', '136701.jpg', '138705.jpg', '116402.jpg', '121400.jpg', '143600.jpg', '134802.jpg', '132511.jpg', '101601.jpg', '140201.jpg', '136601.jpg', '136400.jpg', '130900.jpg', '132502.jpg', '127100.jpg', '137300.jpg', '122601.jpg', '142301.jpg', '101000.jpg', '145600.jpg', '122500.jpg', '134700.jpg', '141301.jpg', '129200.jpg', '121403.jpg', '126101.jpg', '140901.jpg', '140301.jpg', '137501.jpg', '102000.jpg', '121701.jpg', '114502.jpg', '108301.jpg', '144701.jpg', '103002.jpg', '112501.jpg', '135802.jpg', '116200.jpg', '108105.jpg', '118003.jpg', '115701.jpg', '108104.jpg', '124302.jpg', '125901.jpg', '140600.jpg', '115301.jpg', '108202.jpg', '143501.jpg', '126000.jpg', '107900.jpg', '126601.jpg', '114101.jpg', '144700.jpg', '102200.jpg', '102400.jpg', '128300.jpg', '131000.jpg', '116703.jpg', '117100.jpg', '138002.jpg', '125301.jpg', '137600.jpg', '135800.jpg', '116001.jpg', '142401.jpg', '120301.jpg', '123205.jpg', '107001.jpg', '108200.jpg', '139100.jpg', '104200.jpg', '115200.jpg', '112401.jpg', '113801.jpg', '128000.jpg', '118303.jpg', '120400.jpg', '129501.jpg', '105201.jpg', '111100.jpg', '136005.jpg', '141202.jpg', '136901.jpg', '103702.jpg', '139204.jpg', '147802.jpg', '112601.jpg', '130001.jpg', '138700.jpg', '120001.jpg', '138502.jpg', '105200.jpg', '149500.jpg', '104201.jpg', '104902.jpg', '118600.jpg', '100701.jpg', '146203.jpg', '132505.jpg', '106604.jpg', '117802.jpg', '138702.jpg', '100801.jpg', '145202.jpg', '144300.jpg', '130802.jpg', '126704.jpg', '100601.jpg', '139101.jpg', '136102.jpg', '145803.jpg', '112101.jpg', '122706.jpg', '131200.jpg', '149801.jpg', '131400.jpg', '114601.jpg', '103301.jpg', '106200.jpg', '112600.jpg', '131102.jpg', '119800.jpg', '111702.jpg', '149800.jpg', '116802.jpg', '138704.jpg', '142002.jpg', '121200.jpg', '126804.jpg', '136403.jpg', '127001.jpg', '130000.jpg', '140800.jpg', '105501.jpg', '133802.jpg', '139201.jpg', '133701.jpg', '137702.jpg', '127501.jpg', '145200.jpg', '134201.jpg', '114903.jpg', '116900.jpg', '131602.jpg', '144800.jpg', '137701.jpg', '110001.jpg', '119401.jpg', '115700.jpg', '102202.jpg', '143904.jpg', '142200.jpg', '139500.jpg', '118500.jpg', '103700.jpg', '141700.jpg', '129701.jpg', '144101.jpg', '145100.jpg', '106800.jpg', '137603.jpg', '143903.jpg', '131301.jpg', '128400.jpg', '137006.jpg', '134800.jpg', '131502.jpg', '133200.jpg', '125702.jpg', '103801.jpg', '112408.jpg', '141900.jpg', '145501.jpg', '144001.jpg', '136007.jpg', '138706.jpg', '146401.jpg', '137103.jpg', '108203.jpg', '113201.jpg', '103102.jpg', '110302.jpg', '117400.jpg', '102800.jpg', '147304.jpg', '112003.jpg', '139303.jpg', '137602.jpg', '116100.jpg', '136704.jpg', '138011.jpg', '107201.jpg', '115000.jpg', '132508.jpg', '140503.jpg', '142601.jpg', '126402.jpg', '145402.jpg', '138600.jpg', '147502.jpg', '127401.jpg', '119300.jpg', '108103.jpg', '117801.jpg', '106606.jpg', '114700.jpg', '127801.jpg', '113800.jpg', '145300.jpg', '105700.jpg', '111800.jpg', '136800.jpg', '140700.jpg', '148700.jpg', '133900.jpg', '101101.jpg', '149102.jpg', '126900.jpg', '142501.jpg', '138010.jpg', '129002.jpg', '116101.jpg', '120201.jpg', '121500.jpg', '149301.jpg', '106501.jpg', '119202.jpg', '103401.jpg', '127901.jpg', '116801.jpg', '104700.jpg', '149001.jpg', '148801.jpg', '124001.jpg', '104800.jpg', '116800.jpg', '133601.jpg', '129201.jpg', '118900.jpg', '148202.jpg', '133301.jpg', '139003.jpg', '138501.jpg', '145002.jpg', '143200.jpg', '138904.jpg', '109800.jpg', '114402.jpg', '140501.jpg', '148401.jpg', '148900.jpg', '136500.jpg', '108100.jpg', '136009.jpg', '146205.jpg', '144704.jpg', '125200.jpg', '130500.jpg', '110501.jpg', '129900.jpg', '134604.jpg', '122600.jpg', '138301.jpg', '145301.jpg', '109400.jpg', '137301.jpg', '126902.jpg', '126401.jpg', '105100.jpg', '139004.jpg', '140400.jpg', '146202.jpg', '117601.jpg', '134600.jpg', '114100.jpg', '136010.jpg', '114401.jpg', '132201.jpg', '138009.jpg', '149400.jpg', '147602.jpg', '149302.jpg', '123901.jpg', '109300.jpg', '107300.jpg', '144903.jpg', '104601.jpg', '148601.jpg', '104400.jpg', '133000.jpg', '149700.jpg', '122002.jpg', '132510.jpg', '116300.jpg', '141704.jpg', '132001.jpg', '106202.jpg', '118800.jpg', '143100.jpg', '119602.jpg', '146404.jpg', '129001.jpg', '123700.jpg', '126001.jpg', '138100.jpg', '126705.jpg', '146400.jpg', '118700.jpg', '103601.jpg', '114002.jpg', '121901.jpg', '111701.jpg', '139600.jpg', '135502.jpg', '145400.jpg', '148100.jpg', '146500.jpg', '106301.jpg', '119500.jpg', '113701.jpg', '143901.jpg', '113601.jpg', '111000.jpg', '128901.jpg', '135901.jpg', '144601.jpg', '113401.jpg', '149300.jpg', '126301.jpg', '115902.jpg', '132000.jpg', '106703.jpg', '100400.jpg', '112404.jpg', '144301.jpg', '105001.jpg', '120800.jpg', '141500.jpg', '146300.jpg', '136703.jpg', '119201.jpg', '108600.jpg', '116401.jpg', '100401.jpg', '122705.jpg', '146200.jpg', '134000.jpg', '141803.jpg', '137101.jpg', '125703.jpg', '140803.jpg', '121402.jpg', '146303.jpg', '117102.jpg', '142201.jpg', '136101.jpg', '139001.jpg', '138605.jpg', '146800.jpg', '137503.jpg', '108700.jpg', '115101.jpg', '138003.jpg', '114504.jpg', '118201.jpg', '104502.jpg', '138901.jpg', '103501.jpg', '104401.jpg', '119801.jpg', '108501.jpg', '147202.jpg', '138102.jpg', '109501.jpg', '141400.jpg', '123201.jpg', '106902.jpg', '136702.jpg', '128801.jpg', '115201.jpg', '145102.jpg', '114501.jpg', '101401.jpg', '122200.jpg', '123701.jpg', '145901.jpg', '119301.jpg', '141001.jpg', '139504.jpg', '122000.jpg', '108901.jpg', '138101.jpg', '136003.jpg', '118803.jpg', '147400.jpg', '100000.jpg', '120501.jpg', '124800.jpg', '144703.jpg', '131701.jpg', '102402.jpg', '115500.jpg', '137003.jpg', '109401.jpg', '138307.jpg', '120901.jpg', '149600.jpg', '110201.jpg', '107100.jpg', '122602.jpg', '122700.jpg', '105401.jpg', '120600.jpg', '103200.jpg', '122704.jpg', '127502.jpg', '137901.jpg', '123000.jpg', '127600.jpg', '134101.jpg', '111401.jpg', '131300.jpg', '100301.jpg', '129400.jpg', '129600.jpg', '145003.jpg', '142001.jpg', '107200.jpg', '105600.jpg', '147300.jpg', '126805.jpg', '132601.jpg', '101701.jpg', '132303.jpg', '132509.jpg', '121401.jpg', '119100.jpg', '144803.jpg', '142700.jpg', '125101.jpg', '126800.jpg', '131101.jpg', '110401.jpg', '131800.jpg', '119200.jpg', '134003.jpg', '128600.jpg', '102100.jpg', '122801.jpg', '138012.jpg', '127601.jpg', '140100.jpg', '107601.jpg', '138505.jpg', '143902.jpg', '114902.jpg', '145900.jpg', '138306.jpg', '125700.jpg', '111300.jpg', '110101.jpg', '125300.jpg', '141401.jpg', '128900.jpg', '146403.jpg', '104300.jpg', '123800.jpg', '149101.jpg', '133202.jpg', '100302.jpg', '131402.jpg', '140801.jpg', '136006.jpg', '114000.jpg', '136501.jpg', '127500.jpg', '142100.jpg', '102601.jpg', '108401.jpg', '147302.jpg', '105000.jpg', '141702.jpg', '106100.jpg', '126502.jpg', '141302.jpg', '124301.jpg', '133401.jpg', '118302.jpg', '146901.jpg', '115602.jpg', '136502.jpg', '102600.jpg', '145101.jpg', '125701.jpg', '104600.jpg', '101300.jpg', '116901.jpg', '137601.jpg', '104003.jpg', '113900.jpg', '128201.jpg', '109700.jpg', '113000.jpg', '144901.jpg', '125102.jpg', '123301.jpg', '128301.jpg', '133800.jpg', '132700.jpg', '136505.jpg', '142003.jpg', '129101.jpg', '103900.jpg', '116803.jpg', '105301.jpg', '110601.jpg', '104802.jpg', '111600.jpg', '147200.jpg', '109901.jpg', '143401.jpg', '103304.jpg', '148003.jpg', '135103.jpg', '147501.jpg', '132507.jpg', '121000.jpg', '103300.jpg', '122101.jpg', '122900.jpg', '103000.jpg', '138800.jpg', '135102.jpg', '100200.jpg', '119601.jpg', '107600.jpg', '118402.jpg', '146600.jpg', '136002.jpg', '110701.jpg', '133201.jpg', '133500.jpg', '114503.jpg', '105901.jpg', '124801.jpg', '128100.jpg', '139501.jpg', '137100.jpg', '101801.jpg', '129800.jpg', '108500.jpg', '106601.jpg', '115901.jpg', '125900.jpg', '139503.jpg', '134602.jpg', '123204.jpg', '135501.jpg', '145000.jpg', '146000.jpg', '147901.jpg', '143300.jpg', '110300.jpg', '113100.jpg', '145201.jpg', '108201.jpg', '133300.jpg', '115300.jpg', '138703.jpg', '129003.jpg', '111900.jpg', '137800.jpg', '148701.jpg', '145001.jpg', '144000.jpg', '101404.jpg', '143803.jpg', '130801.jpg', '123001.jpg', '148000.jpg', '132302.jpg', '122001.jpg', '107800.jpg', '148501.jpg', '107501.jpg', '114703.jpg', '116601.jpg', '137004.jpg', '146602.jpg', '138000.jpg', '116500.jpg', '148603.jpg', '140001.jpg', '101001.jpg', '108300.jpg', '113001.jpg', '132506.jpg', '139302.jpg', '104001.jpg', '135601.jpg', '112902.jpg', '134703.jpg', '119101.jpg', '136504.jpg', '103502.jpg', '138903.jpg', '118801.jpg', '143301.jpg', '126808.jpg', '144102.jpg', '127701.jpg', '146405.jpg', '121404.jpg', '134402.jpg', '114200.jpg', '145800.jpg', '103204.jpg', '110801.jpg', '102303.jpg', '126201.jpg', '118802.jpg', '118301.jpg', '111201.jpg', '110700.jpg', '111002.jpg', '148600.jpg', '138004.jpg', '126202.jpg', '146206.jpg', '148200.jpg', '114701.jpg', '114300.jpg', '106700.jpg', '124101.jpg', '149900.jpg', '100501.jpg', '110400.jpg', '122202.jpg', '141703.jpg', '106000.jpg', '135600.jpg', '126803.jpg', '140401.jpg', '102301.jpg', '139105.jpg', '138007.jpg', '104801.jpg', '147000.jpg', '129000.jpg', '137500.jpg', '136804.jpg', '114500.jpg', '120300.jpg', '137200.jpg', '138602.jpg', '137005.jpg', '116301.jpg', '133501.jpg', '147603.jpg', '132901.jpg', '140701.jpg', '147900.jpg', '105104.jpg', '120000.jpg', '124900.jpg', '122701.jpg', '134300.jpg', '146101.jpg', '110901.jpg', '118901.jpg', '125801.jpg', '134504.jpg', '130102.jpg', '108800.jpg', '141600.jpg', '108701.jpg', '123500.jpg', '131501.jpg', '138900.jpg', '144100.jpg', '138401.jpg', '118100.jpg', '149501.jpg', '138200.jpg', '148004.jpg', '133001.jpg', '125601.jpg', '135900.jpg', '104701.jpg', '113500.jpg', '106002.jpg', '100600.jpg', '138006.jpg', '112800.jpg', '140900.jpg', '122502.jpg', '107902.jpg', '107801.jpg', '120601.jpg', '122501.jpg', '138304.jpg', '122702.jpg', '133602.jpg', '120703.jpg', '112400.jpg', '135503.jpg', '106001.jpg', '126801.jpg', '148602.jpg', '109200.jpg', '139901.jpg', '130100.jpg', '122708.jpg', '109001.jpg', '101800.jpg', '141601.jpg', '120702.jpg', '118002.jpg', '136200.jpg', '113300.jpg', '141304.jpg', '119600.jpg', '110200.jpg', '148500.jpg', '127800.jpg', '131500.jpg', '130800.jpg', '121800.jpg', '133702.jpg', '142502.jpg', '127900.jpg', '101503.jpg', '124600.jpg', '122503.jpg', '104101.jpg', '113200.jpg', '109201.jpg', '111700.jpg', '131700.jpg', '132501.jpg', '136801.jpg', '114900.jpg', '119901.jpg', '131901.jpg', '138202.jpg', '106600.jpg', '146301.jpg', '131600.jpg', '149000.jpg', '145701.jpg', '105801.jpg', '137703.jpg', '143001.jpg', '109701.jpg', '113901.jpg', '105601.jpg', '117302.jpg', '107700.jpg', '136000.jpg', '136402.jpg', '141100.jpg', '102300.jpg', '109601.jpg', '126102.jpg', '135302.jpg', '119701.jpg', '147201.jpg', '124700.jpg', '149604.jpg', '139000.jpg', '131201.jpg', '128101.jpg', '131900.jpg', '100902.jpg', '135801.jpg', '114800.jpg', '108102.jpg', '144900.jpg', '132701.jpg', '107702.jpg', '112405.jpg', '146402.jpg', '144801.jpg', '114600.jpg', '141200.jpg', '139104.jpg', '139300.jpg', '104901.jpg', '123003.jpg', '138801.jpg', '129100.jpg', '147800.jpg', '107401.jpg', '139404.jpg', '123203.jpg', '102302.jpg', '123202.jpg', '125001.jpg', '112700.jpg', '121600.jpg', '135201.jpg', '139701.jpg', '141802.jpg', '142800.jpg', '118501.jpg', '134900.jpg', '129700.jpg', '125202.jpg', '127301.jpg', '137007.jpg', '117300.jpg', '143400.jpg', '124901.jpg', '122800.jpg', '132900.jpg', '108101.jpg', '149902.jpg', '122504.jpg', '127200.jpg', '109100.jpg', '127000.jpg', '120700.jpg', '124701.jpg', '139200.jpg', '101301.jpg', '144902.jpg', '132400.jpg', '107202.jpg', '145401.jpg', '123403.jpg', '104900.jpg', '130901.jpg', '130701.jpg', '104004.jpg', '107101.jpg', '127402.jpg', '115400.jpg', '133400.jpg', '112403.jpg', '119000.jpg', '132100.jpg', '103100.jpg', '113502.jpg', '120701.jpg', '132801.jpg', '136707.jpg', '105802.jpg', '138308.jpg', '105800.jpg', '137900.jpg', '123501.jpg', '139700.jpg', '117600.jpg', '148001.jpg', '101501.jpg', '112801.jpg', '100502.jpg', '109000.jpg', '137700.jpg', '141801.jpg', '134501.jpg', '138503.jpg', '136202.jpg', '138001.jpg', '137000.jpg', '123400.jpg', '116600.jpg', '133100.jpg', '138803.jpg', '127201.jpg', '103203.jpg', '119604.jpg', '147101.jpg', '148203.jpg', '104006.jpg', '102401.jpg', '110500.jpg', '111601.jpg', '108001.jpg', '126200.jpg', '127503.jpg', '134804.jpg', '132800.jpg', '122100.jpg', '111501.jpg', '101702.jpg', '143702.jpg', '121900.jpg', '137201.jpg', '149901.jpg', '147301.jpg', '106900.jpg', '108400.jpg', '123602.jpg', '144804.jpg', '106500.jpg', '105300.jpg', '119605.jpg', '101504.jpg', '109301.jpg', '138300.jpg', '107301.jpg', '130302.jpg', '116400.jpg', '124003.jpg', '121100.jpg', '100201.jpg', '134301.jpg', '139402.jpg', '136201.jpg', '126400.jpg', '140902.jpg', '112200.jpg', '126701.jpg', '144104.jpg', '131401.jpg', '140101.jpg', '110900.jpg', '117501.jpg', '124402.jpg', '139203.jpg', '135003.jpg', '146701.jpg', '125201.jpg', '143201.jpg', '117301.jpg', '104000.jpg', '116501.jpg', '126700.jpg', '119703.jpg', '128502.jpg', '139506.jpg', '114901.jpg', '144501.jpg', '136103.jpg', '114201.jpg', '124501.jpg', '143101.jpg', '102802.jpg', '123101.jpg', '142000.jpg', '110802.jpg', '149201.jpg', '106403.jpg', '123601.jpg', '102500.jpg', '136001.jpg', '141701.jpg', '137802.jpg', '118000.jpg', '116700.jpg', '108900.jpg', '102201.jpg', '129202.jpg', '134002.jpg', '120100.jpg', '146102.jpg', '100900.jpg', '104202.jpg', '118400.jpg', '138309.jpg', '125501.jpg', '105002.jpg', '129301.jpg', '101900.jpg', '104005.jpg', '142900.jpg', '100503.jpg', '121001.jpg', '118601.jpg', '123801.jpg', '144103.jpg', '137704.jpg', '146302.jpg', '129601.jpg', '120900.jpg', '107901.jpg', '149200.jpg', '125100.jpg', '122402.jpg', '105900.jpg', '122401.jpg', '139900.jpg', '111801.jpg', '145802.jpg', '119900.jpg', '101403.jpg', '130303.jpg', '117701.jpg', '132200.jpg', '146700.jpg', '112001.jpg', '130601.jpg', '109402.jpg', '112406.jpg', '136805.jpg', '125802.jpg', '140802.jpg', '113400.jpg', '131805.jpg', '147801.jpg', '112302.jpg', '130101.jpg', '135200.jpg', '113301.jpg', '115501.jpg', '146201.jpg', '106401.jpg', '103202.jpg', '101100.jpg', '138005.jpg', '106400.jpg', '101402.jpg', '136100.jpg', '133003.jpg', '135002.jpg', '129401.jpg', '125400.jpg', '116701.jpg', '131804.jpg', '136401.jpg', '144302.jpg', '112402.jpg', '126802.jpg', '148300.jpg', '130200.jpg', '120500.jpg', '138500.jpg', '115801.jpg', '138008.jpg', '105701.jpg', '147601.jpg', '108902.jpg', '144702.jpg', '146207.jpg', '138201.jpg', '121300.jpg', '135701.jpg', '106101.jpg', '130400.jpg', '141501.jpg', '102900.jpg', '135300.jpg', '124601.jpg', '119603.jpg', '109900.jpg', '139800.jpg', '136203.jpg', '144401.jpg', '134200.jpg', '128001.jpg', '139102.jpg', '138203.jpg', '132503.jpg', '147600.jpg', '129300.jpg', '124400.jpg', '136902.jpg', '143000.jpg', '147700.jpg', '138104.jpg', '116002.jpg', '149401.jpg', '125203.jpg', '119704.jpg', '143802.jpg', '135700.jpg', '124201.jpg', '136004.jpg', '127101.jpg', '143800.jpg', '101901.jpg', '137705.jpg', '103600.jpg', '142500.jpg', '135702.jpg', '116702.jpg', '133101.jpg', '120801.jpg', '148901.jpg', '142004.jpg', '134702.jpg', '148800.jpg', '136803.jpg', '102700.jpg', '122203.jpg', '112100.jpg', '100100.jpg', '124200.jpg', '117800.jpg', '100300.jpg', '112407.jpg', '123300.jpg', '106605.jpg', '112201.jpg', '131601.jpg', '137502.jpg', '117201.jpg', '144201.jpg', '114301.jpg', '126300.jpg', '112701.jpg', '139403.jpg', '126501.jpg', '111301.jpg', '118101.jpg', '102501.jpg', '136700.jpg', '148201.jpg', '123200.jpg', '124100.jpg', '148902.jpg', '103701.jpg', '129500.jpg', '149100.jpg', '136802.jpg', '135500.jpg', '137002.jpg', '136300.jpg', '139601.jpg', '115800.jpg', '103001.jpg', '145902.jpg', '112301.jpg', '149602.jpg', '134605.jpg', '128700.jpg', '111703.jpg', '126600.jpg', '143500.jpg', '136008.jpg', '135301.jpg', '132504.jpg', '103800.jpg', '129901.jpg', '120401.jpg', '134503.jpg', '146900.jpg', '138103.jpg', '136600.jpg', '128500.jpg', '134403.jpg', '108000.jpg', '133700.jpg', '144400.jpg', '114702.jpg', '138504.jpg', '139401.jpg', '108106.jpg', '129801.jpg', '121501.jpg', '128401.jpg', '145203.jpg', '138105.jpg', '135001.jpg', '123002.jpg', '138707.jpg', '147303.jpg', '113101.jpg', '132500.jpg', '122703.jpg', '129802.jpg', '105103.jpg', '134701.jpg', '140000.jpg', '118200.jpg', '113600.jpg', '113700.jpg', '142400.jpg', '147001.jpg', '104301.jpg', '110100.jpg', '110702.jpg', '131503.jpg', '122300.jpg', '128002.jpg', '128701.jpg', '117001.jpg', '122102.jpg', '136706.jpg', '119702.jpg', '149601.jpg', '129602.jpg', '124401.jpg', '143801.jpg', '127400.jpg', '137001.jpg', '103901.jpg', '104402.jpg', '106701.jpg', '138400.jpg', '116000.jpg', '132101.jpg', '147500.jpg', '135000.jpg', '102801.jpg', '123900.jpg', '134500.jpg', '135100.jpg', '146002.jpg', '102701.jpg', '141303.jpg', '145700.jpg', '135104.jpg', '109801.jpg', '141300.jpg', '140601.jpg', '109101.jpg', '138902.jpg', '118701.jpg', '126807.jpg', '106704.jpg', '127700.jpg', '103400.jpg'])"
     },
     "metadata": {},
     "output_type": "execute_result",
     "execution_count": 2
    }
   ],
   "source": [
    "img_dict = create_image_dict(get_imlist('holidays_small'))\n",
    "img_dict.keys()"
   ],
   "metadata": {
    "collapsed": false,
    "pycharm": {
     "name": "#%%\n",
     "is_executing": false
    }
   }
  },
  {
   "cell_type": "code",
   "execution_count": 3,
   "outputs": [
    {
     "name": "stdout",
     "text": [
      "(1491, 500)\n"
     ],
     "output_type": "stream"
    }
   ],
   "source": [
    "n_queries = 500\n",
    "\n",
    "# create dataset\n",
    "images = []\n",
    "labels = []\n",
    "\n",
    "labeled_file = open(\"labeled.dat\", \"r\")\n",
    "for line in labeled_file.readlines():\n",
    "    split = line.split(\" \")[:3]\n",
    "\n",
    "    images.append(img_dict[split[0]])\n",
    "    label_index = int(split[2])\n",
    "    label = np.zeros(n_queries)\n",
    "    label[label_index] = 1\n",
    "    labels.append(label)\n",
    "\n",
    "images = np.array(images)\n",
    "labels = np.array(labels).astype('int32')\n",
    "print(labels.shape)"
   ],
   "metadata": {
    "collapsed": false,
    "pycharm": {
     "name": "#%%\n",
     "is_executing": false
    }
   }
  },
  {
   "cell_type": "code",
   "execution_count": 4,
   "outputs": [
    {
     "name": "stdout",
     "text": [
      "Model: \"model_1\"\n_________________________________________________________________\nLayer (type)                 Output Shape              Param #   \n=================================================================\ninput_1 (InputLayer)         (None, 224, 224, 3)       0         \n_________________________________________________________________\nblock1_conv1 (Conv2D)        (None, 224, 224, 64)      1792      \n_________________________________________________________________\nblock1_conv2 (Conv2D)        (None, 224, 224, 64)      36928     \n_________________________________________________________________\nblock1_pool (MaxPooling2D)   (None, 112, 112, 64)      0         \n_________________________________________________________________\nblock2_conv1 (Conv2D)        (None, 112, 112, 128)     73856     \n_________________________________________________________________\nblock2_conv2 (Conv2D)        (None, 112, 112, 128)     147584    \n_________________________________________________________________\nblock2_pool (MaxPooling2D)   (None, 56, 56, 128)       0         \n_________________________________________________________________\nblock3_conv1 (Conv2D)        (None, 56, 56, 256)       295168    \n_________________________________________________________________\nblock3_conv2 (Conv2D)        (None, 56, 56, 256)       590080    \n_________________________________________________________________\nblock3_conv3 (Conv2D)        (None, 56, 56, 256)       590080    \n_________________________________________________________________\nblock3_pool (MaxPooling2D)   (None, 28, 28, 256)       0         \n_________________________________________________________________\nblock4_conv1 (Conv2D)        (None, 28, 28, 512)       1180160   \n_________________________________________________________________\nblock4_conv2 (Conv2D)        (None, 28, 28, 512)       2359808   \n_________________________________________________________________\nblock4_conv3 (Conv2D)        (None, 28, 28, 512)       2359808   \n_________________________________________________________________\nblock4_pool (MaxPooling2D)   (None, 14, 14, 512)       0         \n_________________________________________________________________\nblock5_conv1 (Conv2D)        (None, 14, 14, 512)       2359808   \n_________________________________________________________________\nblock5_conv2 (Conv2D)        (None, 14, 14, 512)       2359808   \n=================================================================\nTotal params: 12,354,880\nTrainable params: 2,359,808\nNon-trainable params: 9,995,072\n_________________________________________________________________\n"
     ],
     "output_type": "stream"
    },
    {
     "name": "stderr",
     "text": [
      "/home/fede/Documenti/netvlad/venv/lib/python3.6/site-packages/keras/engine/saving.py:341: UserWarning: No training configuration found in save file: the model was *not* compiled. Compile it manually.\n  warnings.warn('No training configuration found in save file: '\n"
     ],
     "output_type": "stream"
    }
   ],
   "source": [
    "# create model\n",
    "from keras.applications import VGG16\n",
    "from keras.models import Model\n",
    "from keras import activations\n",
    "import vis.utils.utils\n",
    "\n",
    "input_shape = (224, 224, 3)\n",
    "\n",
    "# vgg = VGG16(weights='imagenet', include_top=False, pooling=False, input_shape=input_shape)\n",
    "vgg = VGG16(weights='imagenet', include_top=False, pooling='avg', input_shape=input_shape)\n",
    "\n",
    "# set layers untrainable\n",
    "for layer in vgg.layers:\n",
    "    layer.trainable = False\n",
    "    # print(layer, layer.trainable)\n",
    "    if layer.name is 'block5_conv2':\n",
    "        layer.trainable = True\n",
    "\n",
    "vgg.get_layer('block5_conv2').activation = activations.linear\n",
    "vgg = vis.utils.utils.apply_modifications(vgg)\n",
    "\n",
    "vgg = Model(vgg.input, vgg.get_layer('block5_conv2').output)\n",
    "\n",
    "# vgg.layers.pop()\n",
    "# vgg.layers.pop(0)\n",
    "\n",
    "vgg.summary()"
   ],
   "metadata": {
    "collapsed": false,
    "pycharm": {
     "name": "#%%\n",
     "is_executing": false
    }
   }
  },
  {
   "cell_type": "code",
   "execution_count": 5,
   "outputs": [],
   "source": [
    "all_descs = vgg.predict(images)"
   ],
   "metadata": {
    "collapsed": false,
    "pycharm": {
     "name": "#%%\n",
     "is_executing": false
    }
   }
  },
  {
   "cell_type": "code",
   "execution_count": 6,
   "outputs": [],
   "source": [
    "import random\n",
    "\n",
    "all_descs_ = np.transpose(all_descs, axes=(0, 3, 1, 2))\n",
    "all_descs_ = all_descs_.reshape((1491, 512, 14 * 14))\n",
    "\n",
    "locals = []\n",
    "\n",
    "for desc_matrix in all_descs_:\n",
    "    samples = random.sample(desc_matrix.tolist(), 50)\n",
    "    locals += samples"
   ],
   "metadata": {
    "collapsed": false,
    "pycharm": {
     "name": "#%%\n",
     "is_executing": false
    }
   }
  },
  {
   "cell_type": "code",
   "execution_count": 7,
   "outputs": [
    {
     "data": {
      "text/plain": "(74550, 196)"
     },
     "metadata": {},
     "output_type": "execute_result",
     "execution_count": 7
    }
   ],
   "source": [
    "from sklearn.preprocessing import normalize\n",
    "\n",
    "locals = np.array(locals)\n",
    "locals = normalize(locals, axis=1)\n",
    "locals.shape"
   ],
   "metadata": {
    "collapsed": false,
    "pycharm": {
     "name": "#%%\n",
     "is_executing": false
    }
   }
  },
  {
   "cell_type": "code",
   "execution_count": 8,
   "outputs": [],
   "source": [
    "from sklearn.cluster import MiniBatchKMeans\n",
    "\n",
    "n_clust = 64\n",
    "kmeans = MiniBatchKMeans(n_clusters=n_clust).fit(locals)"
   ],
   "metadata": {
    "collapsed": false,
    "pycharm": {
     "name": "#%%\n",
     "is_executing": false
    }
   }
  },
  {
   "cell_type": "code",
   "execution_count": 9,
   "outputs": [],
   "source": [
    "from keras.layers import Input, Dense, Reshape, Dropout, concatenate, Permute\n",
    "from keras.optimizers import Adam\n",
    "from keras.utils import plot_model\n",
    "from triplet_loss import L2NormLayer\n",
    "\n",
    "images_input = Input(shape=(224, 224, 3))\n",
    "label_input = Input(shape=(n_queries,), name=\"input_label\")\n",
    "\n",
    "transpose = Permute((3, 1, 2), input_shape=(-1, 512))(vgg([images_input]))\n",
    "embedding_size = 512\n",
    "\n",
    "# vgg_output = vgg.output_shape[1]\n",
    "# embedding = Dense(embedding_size, input_shape=(vgg_output,), activation='relu', name=\"embedding1\")(vgg([images_input]))\n",
    "reshape = Reshape((512, 14 * 14))(transpose)\n",
    "l2normalization = L2NormLayer()(reshape)\n",
    "netvlad = NetVLAD(feature_size=14 * 14, max_samples=512, cluster_size=64,\n",
    "                  output_dim=1024)(l2normalization)  # , output_dim=1024)resnet_output = resnet.output_shape[1]\n",
    "\n",
    "# netvlad_output = 8*8*64\n",
    "netvlad_output = 14 * 14 * 64\n",
    "dropout = Dropout(0.)"
   ],
   "metadata": {
    "collapsed": false,
    "pycharm": {
     "name": "#%%\n",
     "is_executing": false
    }
   }
  },
  {
   "cell_type": "code",
   "execution_count": 10,
   "outputs": [],
   "source": [
    "# embedding_output = netvlad(reshape(embedding(vgg.output)))\n",
    "labels_plus_embeddings = concatenate([label_input, netvlad])\n",
    "\n",
    "vgg_netvlad = Model(inputs=[images_input, label_input], outputs=labels_plus_embeddings)"
   ],
   "metadata": {
    "collapsed": false,
    "pycharm": {
     "name": "#%%\n",
     "is_executing": false
    }
   }
  },
  {
   "cell_type": "code",
   "execution_count": 26,
   "outputs": [],
   "source": [
    "netvlad_ = vgg_netvlad.get_layer('net_vlad_1')\n",
    "weights_netvlad = netvlad_.get_weights()"
   ],
   "metadata": {
    "collapsed": false,
    "pycharm": {
     "name": "#%%\n",
     "is_executing": false
    }
   }
  },
  {
   "cell_type": "code",
   "execution_count": 27,
   "outputs": [],
   "source": [
    "cluster_weights = kmeans.cluster_centers_\n",
    "alpha = 5.\n",
    "assignments_weights = 2 * alpha * cluster_weights\n",
    "assignments_bias = -alpha * np.sum(np.power(cluster_weights, 2), axis=1)\n",
    "\n",
    "cluster_weights = cluster_weights.T\n",
    "assignments_weights = assignments_weights.T\n",
    "assignments_bias = assignments_bias.T\n",
    "\n",
    "cluster_weights = np.expand_dims(cluster_weights, axis=0)\n",
    "# assignments_weights = np.expand_dims(assignments_weights, axis=0)\n",
    "# assignments_bias = np.expand_dims(assignments_bias, axis=0)"
   ],
   "metadata": {
    "collapsed": false,
    "pycharm": {
     "name": "#%%\n",
     "is_executing": false
    }
   }
  },
  {
   "cell_type": "code",
   "execution_count": 28,
   "outputs": [],
   "source": [
    "weights_netvlad[0] = assignments_weights\n",
    "weights_netvlad[1] = assignments_bias\n",
    "weights_netvlad[2] = cluster_weights\n",
    "\n",
    "netvlad_.set_weights(weights_netvlad)\n",
    "# vis.utils.utils.apply_modifications(vgg_netvlad)"
   ],
   "metadata": {
    "collapsed": false,
    "pycharm": {
     "name": "#%%\n",
     "is_executing": false
    }
   }
  },
  {
   "cell_type": "code",
   "execution_count": 29,
   "outputs": [
    {
     "name": "stdout",
     "text": [
      "Model: \"model_2\"\n__________________________________________________________________________________________________\nLayer (type)                    Output Shape         Param #     Connected to                     \n==================================================================================================\ninput_2 (InputLayer)            (None, 224, 224, 3)  0                                            \n__________________________________________________________________________________________________\nmodel_1 (Model)                 (None, 14, 14, 512)  12354880    input_2[0][0]                    \n__________________________________________________________________________________________________\npermute_1 (Permute)             (None, 512, 14, 14)  0           model_1[1][0]                    \n__________________________________________________________________________________________________\nreshape_1 (Reshape)             (None, 512, 196)     0           permute_1[0][0]                  \n__________________________________________________________________________________________________\nl2_norm_layer_1 (L2NormLayer)   (None, 512, 196)     0           reshape_1[0][0]                  \n__________________________________________________________________________________________________\ninput_label (InputLayer)        (None, 500)          0                                            \n__________________________________________________________________________________________________\nnet_vlad_1 (NetVLAD)            (None, 12544)        25152       l2_norm_layer_1[0][0]            \n__________________________________________________________________________________________________\nconcatenate_1 (Concatenate)     (None, 13044)        0           input_label[0][0]                \n                                                                 net_vlad_1[0][0]                 \n==================================================================================================\nTotal params: 12,380,032\nTrainable params: 2,384,960\nNon-trainable params: 9,995,072\n__________________________________________________________________________________________________\n"
     ],
     "output_type": "stream"
    }
   ],
   "source": [
    "plot_model(vgg_netvlad, to_file='base_network.png', show_shapes=True, show_layer_names=True)\n",
    "vgg_netvlad.summary()"
   ],
   "metadata": {
    "collapsed": false,
    "pycharm": {
     "name": "#%%\n",
     "is_executing": false
    }
   }
  },
  {
   "cell_type": "code",
   "execution_count": 30,
   "outputs": [],
   "source": [
    "result = vgg_netvlad.predict([images[:1], labels[:1]])"
   ],
   "metadata": {
    "collapsed": false,
    "pycharm": {
     "name": "#%%\n",
     "is_executing": false
    }
   }
  },
  {
   "cell_type": "code",
   "execution_count": 16,
   "outputs": [],
   "source": [
    "all_data_len = len(img_dict.keys())\n",
    "# n_train = all_data_len\n",
    "# n_train = 500\n",
    "\n",
    "use_all = True\n",
    "if not use_all:\n",
    "    images_train = images[n_queries:]\n",
    "    labels_train = labels[n_queries:]\n",
    "else:\n",
    "    images_train = images\n",
    "    labels_train = labels\n",
    "\n",
    "images_test = images[:n_queries]\n",
    "labels_test = labels[:n_queries]"
   ],
   "metadata": {
    "collapsed": false,
    "pycharm": {
     "name": "#%%\n",
     "is_executing": false
    }
   }
  },
  {
   "cell_type": "code",
   "execution_count": 17,
   "outputs": [],
   "source": [
    "train = False\n",
    "if train:\n",
    "    from triplet_loss import TripletLossLayer, triplet_loss_adapted_from_tf_multidimlabels\n",
    "\n",
    "    # from triplet_loss_ import batch_hard_triplet_loss_k\n",
    "    batch_size = 256\n",
    "    epochs = 96\n",
    "\n",
    "    # train session\n",
    "    opt = Adam(lr=0.0001)  # choose optimiser. RMS is good too!\n",
    "\n",
    "    # loss_layer = TripletLossLayer(alpha=1., name='triplet_loss_layer')(vgg_netvlad.output)\n",
    "    # vgg_qpn = Model(inputs=vgg_qpn.input, outputs=loss_layer)\n",
    "    vgg_netvlad.compile(optimizer=opt, loss=triplet_loss_adapted_from_tf_multidimlabels)\n",
    "\n",
    "    dummy_gt_train = np.zeros((len(images_train), netvlad_output + n_queries))\n",
    "    dummy_gt_val = np.zeros((len(images_test), netvlad_output + n_queries))\n",
    "\n",
    "    #%%\n",
    "\n",
    "    H = vgg_netvlad.fit(\n",
    "        x=[images_train, labels_train],\n",
    "        y=dummy_gt_train,\n",
    "        batch_size=batch_size,\n",
    "        epochs=epochs,\n",
    "        # validation_data=([images_test, labels_test], dummy_gt_val),\n",
    "        verbose=1,\n",
    "    )\n",
    "\n",
    "    vgg_netvlad.save_weights(\"model.h5\")\n",
    "    print(\"Saved model to disk\")\n",
    "\n",
    "    plt.figure(figsize=(8, 8))\n",
    "    plt.plot(H.history['loss'], label='training loss')\n",
    "    # plt.plot(H.history['val_loss'], label='validation loss')\n",
    "    plt.legend()\n",
    "    plt.title('Train/validation loss')\n",
    "    plt.show()"
   ],
   "metadata": {
    "collapsed": false,
    "pycharm": {
     "name": "#%%\n",
     "is_executing": false
    }
   }
  },
  {
   "cell_type": "code",
   "execution_count": 18,
   "outputs": [],
   "source": [
    "# pop triplet loss layer\n",
    "# resnet_qpn_no_loss = Model(input=resnet_qpn.input, outputs=resnet_qpn.output)\n",
    "# resnet_qpn_no_loss.layers.pop()\n",
    "# resnet_qpn_no_loss.summary()\n"
   ],
   "metadata": {
    "collapsed": false,
    "pycharm": {
     "name": "#%%\n",
     "is_executing": false
    }
   }
  },
  {
   "cell_type": "code",
   "execution_count": 31,
   "outputs": [],
   "source": [
    "# reload model from disk\n",
    "# vgg_qpn = Model([input_q, input_p, input_n], [embedding_q, embedding_p, embedding_n])\n",
    "\n",
    "# vgg_qpn.load_weights('model.h5')\n",
    "\n",
    "result = vgg_netvlad.predict([images[:1], labels[:1]])"
   ],
   "metadata": {
    "collapsed": false,
    "pycharm": {
     "name": "#%%\n",
     "is_executing": false
    }
   }
  },
  {
   "cell_type": "code",
   "execution_count": 32,
   "outputs": [
    {
     "name": "stdout",
     "text": [
      "tot images = 1491, query images = 500\n"
     ],
     "output_type": "stream"
    }
   ],
   "source": [
    "# test model\n",
    "\n",
    "# this function create a perfect ranking :)\n",
    "\n",
    "from sklearn.neighbors import NearestNeighbors\n",
    "\n",
    "input_shape = (224, 224, 3)\n",
    "\n",
    "\n",
    "def get_imlist_(path=\"holidays_small\"):\n",
    "    imnames = [os.path.join(path, f) for f in os.listdir(path) if f.endswith(u'.jpg')]\n",
    "    imnames = [path.strip('holidays_small/') for path in imnames]\n",
    "    imnames = [path.strip('.jpg') for path in imnames]\n",
    "    return imnames\n",
    "\n",
    "\n",
    "def images_to_tensor(imnames):\n",
    "    images_array = []\n",
    "\n",
    "    # open all images\n",
    "    for name in imnames:\n",
    "        img_path = 'holidays_small/' + name + '.jpg'\n",
    "        img = image.load_img(img_path, target_size=(input_shape[0], input_shape[1]))\n",
    "        img = image.img_to_array(img)\n",
    "        img = preprocess_input(img)\n",
    "        images_array.append(img)\n",
    "    images_array = np.array(images_array)\n",
    "    print(images_array.shape)\n",
    "    # images_array = preprocess_input(images_array)\n",
    "    return images_array\n",
    "\n",
    "\n",
    "imnames = get_imlist_()\n",
    "\n",
    "query_imids = [i for i, name in enumerate(imnames) if name[-2:].split('.')[0] == \"00\"]\n",
    "\n",
    "# check that everything is fine - expected output: \"tot images = 1491, query images = 500\"\n",
    "print('tot images = %d, query images = %d' % (len(imnames), len(query_imids)))"
   ],
   "metadata": {
    "collapsed": false,
    "pycharm": {
     "name": "#%%\n",
     "is_executing": false
    }
   }
  },
  {
   "cell_type": "code",
   "execution_count": 33,
   "outputs": [],
   "source": [
    "# img_tensor = images_to_tensor(imnames)\n",
    "img_tensor = [img_dict[key] for key in img_dict]\n",
    "img_tensor = np.array(img_tensor)"
   ],
   "metadata": {
    "collapsed": false,
    "pycharm": {
     "name": "#%%\n",
     "is_executing": false
    }
   }
  },
  {
   "cell_type": "code",
   "execution_count": 22,
   "outputs": [
    {
     "traceback": [
      "\u001b[0;31m---------------------------------------------------------------------------\u001b[0m",
      "\u001b[0;31mValueError\u001b[0m                                Traceback (most recent call last)",
      "\u001b[0;32m<ipython-input-22-cac0b9fde982>\u001b[0m in \u001b[0;36m<module>\u001b[0;34m\u001b[0m\n\u001b[0;32m----> 1\u001b[0;31m \u001b[0mvgg_netvlad\u001b[0m\u001b[0;34m.\u001b[0m\u001b[0mload_weights\u001b[0m\u001b[0;34m(\u001b[0m\u001b[0;34m\"model.h5\"\u001b[0m\u001b[0;34m)\u001b[0m\u001b[0;34m\u001b[0m\u001b[0;34m\u001b[0m\u001b[0m\n\u001b[0m\u001b[1;32m      2\u001b[0m \u001b[0;34m\u001b[0m\u001b[0m\n",
      "\u001b[0;32m~/Documenti/netvlad/venv/lib/python3.6/site-packages/keras/engine/saving.py\u001b[0m in \u001b[0;36mload_wrapper\u001b[0;34m(*args, **kwargs)\u001b[0m\n\u001b[1;32m    490\u001b[0m                 \u001b[0mos\u001b[0m\u001b[0;34m.\u001b[0m\u001b[0mremove\u001b[0m\u001b[0;34m(\u001b[0m\u001b[0mtmp_filepath\u001b[0m\u001b[0;34m)\u001b[0m\u001b[0;34m\u001b[0m\u001b[0;34m\u001b[0m\u001b[0m\n\u001b[1;32m    491\u001b[0m             \u001b[0;32mreturn\u001b[0m \u001b[0mres\u001b[0m\u001b[0;34m\u001b[0m\u001b[0;34m\u001b[0m\u001b[0m\n\u001b[0;32m--> 492\u001b[0;31m         \u001b[0;32mreturn\u001b[0m \u001b[0mload_function\u001b[0m\u001b[0;34m(\u001b[0m\u001b[0;34m*\u001b[0m\u001b[0margs\u001b[0m\u001b[0;34m,\u001b[0m \u001b[0;34m**\u001b[0m\u001b[0mkwargs\u001b[0m\u001b[0;34m)\u001b[0m\u001b[0;34m\u001b[0m\u001b[0;34m\u001b[0m\u001b[0m\n\u001b[0m\u001b[1;32m    493\u001b[0m \u001b[0;34m\u001b[0m\u001b[0m\n\u001b[1;32m    494\u001b[0m     \u001b[0;32mreturn\u001b[0m \u001b[0mload_wrapper\u001b[0m\u001b[0;34m\u001b[0m\u001b[0;34m\u001b[0m\u001b[0m\n",
      "\u001b[0;32m~/Documenti/netvlad/venv/lib/python3.6/site-packages/keras/engine/network.py\u001b[0m in \u001b[0;36mload_weights\u001b[0;34m(self, filepath, by_name, skip_mismatch, reshape)\u001b[0m\n\u001b[1;32m   1228\u001b[0m             \u001b[0;32melse\u001b[0m\u001b[0;34m:\u001b[0m\u001b[0;34m\u001b[0m\u001b[0;34m\u001b[0m\u001b[0m\n\u001b[1;32m   1229\u001b[0m                 saving.load_weights_from_hdf5_group(\n\u001b[0;32m-> 1230\u001b[0;31m                     f, self.layers, reshape=reshape)\n\u001b[0m\u001b[1;32m   1231\u001b[0m             \u001b[0;32mif\u001b[0m \u001b[0mhasattr\u001b[0m\u001b[0;34m(\u001b[0m\u001b[0mf\u001b[0m\u001b[0;34m,\u001b[0m \u001b[0;34m'close'\u001b[0m\u001b[0;34m)\u001b[0m\u001b[0;34m:\u001b[0m\u001b[0;34m\u001b[0m\u001b[0;34m\u001b[0m\u001b[0m\n\u001b[1;32m   1232\u001b[0m                 \u001b[0mf\u001b[0m\u001b[0;34m.\u001b[0m\u001b[0mclose\u001b[0m\u001b[0;34m(\u001b[0m\u001b[0;34m)\u001b[0m\u001b[0;34m\u001b[0m\u001b[0;34m\u001b[0m\u001b[0m\n",
      "\u001b[0;32m~/Documenti/netvlad/venv/lib/python3.6/site-packages/keras/engine/saving.py\u001b[0m in \u001b[0;36mload_weights_from_hdf5_group\u001b[0;34m(f, layers, reshape)\u001b[0m\n\u001b[1;32m   1235\u001b[0m                              ' elements.')\n\u001b[1;32m   1236\u001b[0m         \u001b[0mweight_value_tuples\u001b[0m \u001b[0;34m+=\u001b[0m \u001b[0mzip\u001b[0m\u001b[0;34m(\u001b[0m\u001b[0msymbolic_weights\u001b[0m\u001b[0;34m,\u001b[0m \u001b[0mweight_values\u001b[0m\u001b[0;34m)\u001b[0m\u001b[0;34m\u001b[0m\u001b[0;34m\u001b[0m\u001b[0m\n\u001b[0;32m-> 1237\u001b[0;31m     \u001b[0mK\u001b[0m\u001b[0;34m.\u001b[0m\u001b[0mbatch_set_value\u001b[0m\u001b[0;34m(\u001b[0m\u001b[0mweight_value_tuples\u001b[0m\u001b[0;34m)\u001b[0m\u001b[0;34m\u001b[0m\u001b[0;34m\u001b[0m\u001b[0m\n\u001b[0m\u001b[1;32m   1238\u001b[0m \u001b[0;34m\u001b[0m\u001b[0m\n\u001b[1;32m   1239\u001b[0m \u001b[0;34m\u001b[0m\u001b[0m\n",
      "\u001b[0;32m~/Documenti/netvlad/venv/lib/python3.6/site-packages/keras/backend/tensorflow_backend.py\u001b[0m in \u001b[0;36mbatch_set_value\u001b[0;34m(tuples)\u001b[0m\n\u001b[1;32m   2958\u001b[0m             \u001b[0;31m`\u001b[0m\u001b[0mvalue\u001b[0m\u001b[0;31m`\u001b[0m \u001b[0mshould\u001b[0m \u001b[0mbe\u001b[0m \u001b[0ma\u001b[0m \u001b[0mNumpy\u001b[0m \u001b[0marray\u001b[0m\u001b[0;34m.\u001b[0m\u001b[0;34m\u001b[0m\u001b[0;34m\u001b[0m\u001b[0m\n\u001b[1;32m   2959\u001b[0m     \"\"\"\n\u001b[0;32m-> 2960\u001b[0;31m     \u001b[0mtf_keras_backend\u001b[0m\u001b[0;34m.\u001b[0m\u001b[0mbatch_set_value\u001b[0m\u001b[0;34m(\u001b[0m\u001b[0mtuples\u001b[0m\u001b[0;34m)\u001b[0m\u001b[0;34m\u001b[0m\u001b[0;34m\u001b[0m\u001b[0m\n\u001b[0m\u001b[1;32m   2961\u001b[0m \u001b[0;34m\u001b[0m\u001b[0m\n\u001b[1;32m   2962\u001b[0m \u001b[0;34m\u001b[0m\u001b[0m\n",
      "\u001b[0;32m~/Documenti/netvlad/venv/lib/python3.6/site-packages/tensorflow_core/python/keras/backend.py\u001b[0m in \u001b[0;36mbatch_set_value\u001b[0;34m(tuples)\u001b[0m\n\u001b[1;32m   3341\u001b[0m     \u001b[0;32mwith\u001b[0m \u001b[0mops\u001b[0m\u001b[0;34m.\u001b[0m\u001b[0minit_scope\u001b[0m\u001b[0;34m(\u001b[0m\u001b[0;34m)\u001b[0m\u001b[0;34m:\u001b[0m\u001b[0;34m\u001b[0m\u001b[0;34m\u001b[0m\u001b[0m\n\u001b[1;32m   3342\u001b[0m       \u001b[0;32mfor\u001b[0m \u001b[0mx\u001b[0m\u001b[0;34m,\u001b[0m \u001b[0mvalue\u001b[0m \u001b[0;32min\u001b[0m \u001b[0mtuples\u001b[0m\u001b[0;34m:\u001b[0m\u001b[0;34m\u001b[0m\u001b[0;34m\u001b[0m\u001b[0m\n\u001b[0;32m-> 3343\u001b[0;31m         \u001b[0mx\u001b[0m\u001b[0;34m.\u001b[0m\u001b[0massign\u001b[0m\u001b[0;34m(\u001b[0m\u001b[0mnp\u001b[0m\u001b[0;34m.\u001b[0m\u001b[0masarray\u001b[0m\u001b[0;34m(\u001b[0m\u001b[0mvalue\u001b[0m\u001b[0;34m,\u001b[0m \u001b[0mdtype\u001b[0m\u001b[0;34m=\u001b[0m\u001b[0mdtype\u001b[0m\u001b[0;34m(\u001b[0m\u001b[0mx\u001b[0m\u001b[0;34m)\u001b[0m\u001b[0;34m)\u001b[0m\u001b[0;34m)\u001b[0m\u001b[0;34m\u001b[0m\u001b[0;34m\u001b[0m\u001b[0m\n\u001b[0m\u001b[1;32m   3344\u001b[0m   \u001b[0;32melse\u001b[0m\u001b[0;34m:\u001b[0m\u001b[0;34m\u001b[0m\u001b[0;34m\u001b[0m\u001b[0m\n\u001b[1;32m   3345\u001b[0m     \u001b[0;32mwith\u001b[0m \u001b[0mget_graph\u001b[0m\u001b[0;34m(\u001b[0m\u001b[0;34m)\u001b[0m\u001b[0;34m.\u001b[0m\u001b[0mas_default\u001b[0m\u001b[0;34m(\u001b[0m\u001b[0;34m)\u001b[0m\u001b[0;34m:\u001b[0m\u001b[0;34m\u001b[0m\u001b[0;34m\u001b[0m\u001b[0m\n",
      "\u001b[0;32m~/Documenti/netvlad/venv/lib/python3.6/site-packages/tensorflow_core/python/ops/resource_variable_ops.py\u001b[0m in \u001b[0;36massign\u001b[0;34m(self, value, use_locking, name, read_value)\u001b[0m\n\u001b[1;32m    812\u001b[0m     \u001b[0;32mwith\u001b[0m \u001b[0m_handle_graph\u001b[0m\u001b[0;34m(\u001b[0m\u001b[0mself\u001b[0m\u001b[0;34m.\u001b[0m\u001b[0mhandle\u001b[0m\u001b[0;34m)\u001b[0m\u001b[0;34m:\u001b[0m\u001b[0;34m\u001b[0m\u001b[0;34m\u001b[0m\u001b[0m\n\u001b[1;32m    813\u001b[0m       \u001b[0mvalue_tensor\u001b[0m \u001b[0;34m=\u001b[0m \u001b[0mops\u001b[0m\u001b[0;34m.\u001b[0m\u001b[0mconvert_to_tensor\u001b[0m\u001b[0;34m(\u001b[0m\u001b[0mvalue\u001b[0m\u001b[0;34m,\u001b[0m \u001b[0mdtype\u001b[0m\u001b[0;34m=\u001b[0m\u001b[0mself\u001b[0m\u001b[0;34m.\u001b[0m\u001b[0mdtype\u001b[0m\u001b[0;34m)\u001b[0m\u001b[0;34m\u001b[0m\u001b[0;34m\u001b[0m\u001b[0m\n\u001b[0;32m--> 814\u001b[0;31m       \u001b[0mself\u001b[0m\u001b[0;34m.\u001b[0m\u001b[0m_shape\u001b[0m\u001b[0;34m.\u001b[0m\u001b[0massert_is_compatible_with\u001b[0m\u001b[0;34m(\u001b[0m\u001b[0mvalue_tensor\u001b[0m\u001b[0;34m.\u001b[0m\u001b[0mshape\u001b[0m\u001b[0;34m)\u001b[0m\u001b[0;34m\u001b[0m\u001b[0;34m\u001b[0m\u001b[0m\n\u001b[0m\u001b[1;32m    815\u001b[0m       assign_op = gen_resource_variable_ops.assign_variable_op(\n\u001b[1;32m    816\u001b[0m           self.handle, value_tensor, name=name)\n",
      "\u001b[0;32m~/Documenti/netvlad/venv/lib/python3.6/site-packages/tensorflow_core/python/framework/tensor_shape.py\u001b[0m in \u001b[0;36massert_is_compatible_with\u001b[0;34m(self, other)\u001b[0m\n\u001b[1;32m   1113\u001b[0m     \"\"\"\n\u001b[1;32m   1114\u001b[0m     \u001b[0;32mif\u001b[0m \u001b[0;32mnot\u001b[0m \u001b[0mself\u001b[0m\u001b[0;34m.\u001b[0m\u001b[0mis_compatible_with\u001b[0m\u001b[0;34m(\u001b[0m\u001b[0mother\u001b[0m\u001b[0;34m)\u001b[0m\u001b[0;34m:\u001b[0m\u001b[0;34m\u001b[0m\u001b[0;34m\u001b[0m\u001b[0m\n\u001b[0;32m-> 1115\u001b[0;31m       \u001b[0;32mraise\u001b[0m \u001b[0mValueError\u001b[0m\u001b[0;34m(\u001b[0m\u001b[0;34m\"Shapes %s and %s are incompatible\"\u001b[0m \u001b[0;34m%\u001b[0m \u001b[0;34m(\u001b[0m\u001b[0mself\u001b[0m\u001b[0;34m,\u001b[0m \u001b[0mother\u001b[0m\u001b[0;34m)\u001b[0m\u001b[0;34m)\u001b[0m\u001b[0;34m\u001b[0m\u001b[0;34m\u001b[0m\u001b[0m\n\u001b[0m\u001b[1;32m   1116\u001b[0m \u001b[0;34m\u001b[0m\u001b[0m\n\u001b[1;32m   1117\u001b[0m   \u001b[0;32mdef\u001b[0m \u001b[0mmost_specific_compatible_shape\u001b[0m\u001b[0;34m(\u001b[0m\u001b[0mself\u001b[0m\u001b[0;34m,\u001b[0m \u001b[0mother\u001b[0m\u001b[0;34m)\u001b[0m\u001b[0;34m:\u001b[0m\u001b[0;34m\u001b[0m\u001b[0;34m\u001b[0m\u001b[0m\n",
      "\u001b[0;31mValueError\u001b[0m: Shapes (3, 3, 512, 512) and (64, 3, 3, 3) are incompatible"
     ],
     "ename": "ValueError",
     "evalue": "Shapes (3, 3, 512, 512) and (64, 3, 3, 3) are incompatible",
     "output_type": "error"
    }
   ],
   "source": [
    "# vgg_netvlad.load_weights(\"model.h5\")"
   ],
   "metadata": {
    "collapsed": false,
    "pycharm": {
     "name": "#%%\n",
     "is_executing": false
    }
   }
  },
  {
   "cell_type": "code",
   "execution_count": 34,
   "outputs": [
    {
     "name": "stdout",
     "text": [
      "Model: \"model_2\"\n__________________________________________________________________________________________________\nLayer (type)                    Output Shape         Param #     Connected to                     \n==================================================================================================\ninput_2 (InputLayer)            (None, 224, 224, 3)  0                                            \n__________________________________________________________________________________________________\nmodel_1 (Model)                 (None, 14, 14, 512)  12354880    input_2[0][0]                    \n__________________________________________________________________________________________________\npermute_1 (Permute)             (None, 512, 14, 14)  0           model_1[1][0]                    \n__________________________________________________________________________________________________\nreshape_1 (Reshape)             (None, 512, 196)     0           permute_1[0][0]                  \n__________________________________________________________________________________________________\nl2_norm_layer_1 (L2NormLayer)   (None, 512, 196)     0           reshape_1[0][0]                  \n__________________________________________________________________________________________________\ninput_label (InputLayer)        (None, 500)          0                                            \n__________________________________________________________________________________________________\nnet_vlad_1 (NetVLAD)            (None, 12544)        25152       l2_norm_layer_1[0][0]            \n__________________________________________________________________________________________________\nconcatenate_1 (Concatenate)     (None, 13044)        0           input_label[0][0]                \n                                                                 net_vlad_1[0][0]                 \n==================================================================================================\nTotal params: 12,380,032\nTrainable params: 2,384,960\nNon-trainable params: 9,995,072\n__________________________________________________________________________________________________\n"
     ],
     "output_type": "stream"
    },
    {
     "data": {
      "text/plain": "<Figure size 432x288 with 2 Axes>",
      "image/png": "[encoded data removed]"
     },
     "metadata": {
      "needs_background": "light"
     },
     "output_type": "display_data"
    }
   ],
   "source": [
    "vgg_netvlad.summary()\n",
    "all_feats = vgg_netvlad.predict([img_tensor, np.zeros((len(img_tensor), n_queries))])\n",
    "\n",
    "all_feats = all_feats[:, n_queries:]\n",
    "\n",
    "plt.imshow(all_feats, cmap='viridis')\n",
    "plt.colorbar()\n",
    "plt.grid(False)\n",
    "plt.show()"
   ],
   "metadata": {
    "collapsed": false,
    "pycharm": {
     "name": "#%%\n",
     "is_executing": false
    }
   }
  },
  {
   "cell_type": "code",
   "execution_count": 35,
   "outputs": [],
   "source": [
    "query_feats = all_feats[query_imids]\n",
    "\n",
    "# SOLUTION\n",
    "nbrs = NearestNeighbors(n_neighbors=1491, metric='cosine').fit(all_feats)\n",
    "distances, indices = nbrs.kneighbors(query_feats)\n"
   ],
   "metadata": {
    "collapsed": false,
    "pycharm": {
     "name": "#%%\n",
     "is_executing": false
    }
   }
  },
  {
   "cell_type": "code",
   "execution_count": 25,
   "outputs": [
    {
     "name": "stdout",
     "text": [
      "mean AP = 0.029\n",
      "Perfect mean AP = 1.000\n"
     ],
     "output_type": "stream"
    }
   ],
   "source": [
    "def make_perfect_holidays_result(imnames, q_ids):\n",
    "    perfect_idx = []\n",
    "    for qimno in q_ids:\n",
    "        qname = imnames[qimno]\n",
    "        positive_results = set([i for i, name in enumerate(imnames) if name != qname and name[:4] == qname[:4]])\n",
    "        ok = [qimno] + [i for i in positive_results]\n",
    "        others = [i for i in range(1491) if i not in positive_results and i != qimno]\n",
    "        perfect_idx.append(ok + others)\n",
    "    return np.array(perfect_idx)\n",
    "\n",
    "\n",
    "def mAP(q_ids, idx):\n",
    "    aps = []\n",
    "    for qimno, qres in zip(q_ids, idx):\n",
    "        qname = imnames[qimno]\n",
    "        # collect the positive results in the dataset\n",
    "        # the positives have the same prefix as the query image\n",
    "        positive_results = set([i for i, name in enumerate(imnames)\n",
    "                                if name != qname and name[:4] == qname[:4]])\n",
    "        #\n",
    "        # ranks of positives. We skip the result #0, assumed to be the query image\n",
    "        ranks = [i for i, res in enumerate(qres[1:]) if res in positive_results]\n",
    "        #\n",
    "        # accumulate trapezoids with this basis\n",
    "        recall_step = 1.0 / len(positive_results)\n",
    "        ap = 0\n",
    "        for ntp, rank in enumerate(ranks):\n",
    "            # ntp = nb of true positives so far\n",
    "            # rank = nb of retrieved items so far\n",
    "            # y-size on left side of trapezoid:\n",
    "            precision_0 = ntp / float(rank) if rank > 0 else 1.0\n",
    "            # y-size on right side of trapezoid:\n",
    "            precision_1 = (ntp + 1) / float(rank + 1)\n",
    "            ap += (precision_1 + precision_0) * recall_step / 2.0\n",
    "        # print('query %s, AP = %.3f' % (qname, ap))\n",
    "        aps.append(ap)\n",
    "    return np.mean(aps)\n",
    "\n",
    "\n",
    "print('mean AP = %.3f' % mAP(query_imids, indices))\n",
    "perfect_result = make_perfect_holidays_result(imnames, query_imids)\n",
    "print('Perfect mean AP = %.3f' % mAP(query_imids, perfect_result))\n",
    "\n",
    "import PIL\n",
    "\n",
    "import math\n",
    "\n",
    "\n",
    "def montage(imfiles, thumb_size=(100, 100), ok=None, shape=None):\n",
    "    # this function will create an image with thumbnailed version of imfiles.\n",
    "    # optionally the user can provide an ok list such that len(ok)==len(imfiles) to differentiate correct from wrong results\n",
    "    # optionally the user can provide a shape function which shapes the montage otherwise a square image is created.\n",
    "    images = [PIL.Image.open(imname).resize(thumb_size, PIL.Image.BILINEAR) for imname in imfiles]\n",
    "    # create a big image to contain all images\n",
    "    if shape is None:\n",
    "        n = int(math.sqrt(len(imfiles)))\n",
    "        m = n\n",
    "    else:\n",
    "        n = shape[0]\n",
    "        m = shape[1]\n",
    "    new_im = PIL.Image.new('RGB', (m * thumb_size[0], n * thumb_size[0]))\n",
    "    k = 0\n",
    "    for i in range(0, n * thumb_size[0], thumb_size[0]):\n",
    "        for j in range(0, m * thumb_size[0], thumb_size[0]):\n",
    "            region = (j, i)\n",
    "            if ok is not None:\n",
    "                if ok[k]:\n",
    "                    color = (0, 255, 0)\n",
    "                else:\n",
    "                    color = (255, 0, 0)\n",
    "                if k > 0:\n",
    "                    imar = np.array(images[k], dtype=np.uint8)\n",
    "                    imar[0:5, :, :] = color\n",
    "                    imar[:, 0:5, :] = color\n",
    "                    imar[-5:, :, :] = color\n",
    "                    imar[:, -5:, :] = color\n",
    "                    images[k] = PIL.Image.fromarray(imar)\n",
    "            new_im.paste(images[k], box=region)\n",
    "            k += 1\n",
    "    return new_im\n"
   ],
   "metadata": {
    "collapsed": false,
    "pycharm": {
     "name": "#%%\n",
     "is_executing": false
    }
   }
  },
  {
   "cell_type": "code",
   "execution_count": null,
   "outputs": [],
   "source": [
    "# here we show the first 25 queries and their 15 closest neighbours retrieved\n",
    "# gree border means ok, red wrong :)\n",
    "def show_result(display_idx, nqueries=10, nresults=10, ts=(100, 100)):\n",
    "    if nqueries is not None:\n",
    "        nrow = nqueries  # number of query images to show\n",
    "\n",
    "    if nresults is not None:\n",
    "        nres = 10  # number of results per query\n",
    "\n",
    "    for qno in range(nrow):\n",
    "        imfiles = []\n",
    "        oks = [True]\n",
    "        # show query image with white outline\n",
    "        qimno = query_imids[qno]\n",
    "        imfiles.append('holidays_small/' + imnames[qimno] + '.jpg')\n",
    "        for qres in display_idx[qno, :nres]:\n",
    "            # use image name to determine if it is a TP or FP result\n",
    "            oks.append(imnames[qres][:4] == imnames[qimno][:4])\n",
    "            imfiles.append('holidays_small/' + imnames[qres] + '.jpg')\n",
    "        print(qno, (imfiles))\n",
    "        plt.imshow(montage(imfiles, thumb_size=ts, ok=oks, shape=(1, nres)))\n",
    "        plt.show()\n"
   ],
   "metadata": {
    "collapsed": false,
    "pycharm": {
     "name": "#%%\n",
     "is_executing": false
    }
   }
  },
  {
   "cell_type": "code",
   "execution_count": null,
   "outputs": [],
   "source": [
    "show_result(indices, nqueries=50)"
   ],
   "metadata": {
    "collapsed": false,
    "pycharm": {
     "name": "#%%\n",
     "is_executing": false
    }
   }
  }
 ],
 "metadata": {
  "kernelspec": {
   "display_name": "Python 3",
   "language": "python",
   "name": "python3"
  },
  "language_info": {
   "codemirror_mode": {
    "name": "ipython",
    "version": 2
   },
   "file_extension": ".py",
   "mimetype": "text/x-python",
   "name": "python",
   "nbconvert_exporter": "python",
   "pygments_lexer": "ipython2",
   "version": "2.7.6"
  },
  "pycharm": {
   "stem_cell": {
    "cell_type": "raw",
    "source": [],
    "metadata": {
     "collapsed": false
    }
   }
  }
 },
 "nbformat": 4,
 "nbformat_minor": 0
}