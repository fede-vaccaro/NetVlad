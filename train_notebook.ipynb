{
 "cells": [
  {
   "cell_type": "code",
   "execution_count": 1,
   "outputs": [
    {
     "name": "stderr",
     "text": [
      "Using TensorFlow backend.\n"
     ],
     "output_type": "stream"
    }
   ],
   "source": [
    "from keras.callbacks import ModelCheckpoint\n",
    "from keras.preprocessing import image\n",
    "from keras.applications.resnet import preprocess_input\n",
    "import os\n",
    "import numpy as np\n",
    "\n",
    "\n",
    "def get_imlist(path):\n",
    "    return [os.path.join(path, f) for f in os.listdir(path) if f.endswith(u'.jpg')]\n",
    "\n",
    "\n",
    "def create_image_dict(img_list):\n",
    "    input_shape = (224, 224, 3)\n",
    "    tensor = {}\n",
    "    for path in img_list:\n",
    "        img = image.load_img(path, target_size=(input_shape[0], input_shape[1]))\n",
    "        img = image.img_to_array(img)\n",
    "        img = preprocess_input(img)\n",
    "        img_key = path.strip('holidays_small/')\n",
    "        tensor[img_key] = img\n",
    "    # tensor = np.array(tensor)\n",
    "    return tensor"
   ],
   "metadata": {
    "collapsed": false,
    "pycharm": {
     "name": "#%%\n",
     "is_executing": false
    }
   }
  },
  {
   "cell_type": "code",
   "execution_count": 2,
   "outputs": [
    {
     "data": {
      "text/plain": "dict_keys(['138708.jpg', '134001.jpg', '138604.jpg', '107500.jpg', '124300.jpg', '123100.jpg', '122301.jpg', '115600.jpg', '130600.jpg', '101502.jpg', '141201.jpg', '146003.jpg', '128601.jpg', '106903.jpg', '139603.jpg', '101200.jpg', '118202.jpg', '112602.jpg', '139505.jpg', '121101.jpg', '113403.jpg', '108601.jpg', '138303.jpg', '133703.jpg', '148101.jpg', '131803.jpg', '132902.jpg', '130401.jpg', '123402.jpg', '104100.jpg', '139103.jpg', '106602.jpg', '106702.jpg', '122400.jpg', '106201.jpg', '106402.jpg', '139801.jpg', '117403.jpg', '142302.jpg', '111500.jpg', '118300.jpg', '121700.jpg', '137400.jpg', '101400.jpg', '132401.jpg', '106300.jpg', '146501.jpg', '139205.jpg', '134401.jpg', '126702.jpg', '132102.jpg', '138905.jpg', '105102.jpg', '112000.jpg', '120101.jpg', '106801.jpg', '138302.jpg', '134601.jpg', '113402.jpg', '133901.jpg', '139301.jpg', '112500.jpg', '148301.jpg', '119400.jpg', '104002.jpg', '147402.jpg', '109500.jpg', '137801.jpg', '141800.jpg', '132402.jpg', '109802.jpg', '137401.jpg', '117901.jpg', '126806.jpg', '143701.jpg', '112900.jpg', '107203.jpg', '114400.jpg', '123401.jpg', '124002.jpg', '103302.jpg', '137302.jpg', '119203.jpg', '117200.jpg', '145801.jpg', '144200.jpg', '134901.jpg', '140502.jpg', '117900.jpg', '102001.jpg', '108801.jpg', '145500.jpg', '122709.jpg', '123404.jpg', '148002.jpg', '114001.jpg', '122201.jpg', '148400.jpg', '104203.jpg', '116201.jpg', '103201.jpg', '123600.jpg', '101500.jpg', '139400.jpg', '147103.jpg', '131100.jpg', '120200.jpg', '105400.jpg', '144402.jpg', '124202.jpg', '134603.jpg', '142801.jpg', '139602.jpg', '128800.jpg', '126002.jpg', '125401.jpg', '107000.jpg', '112901.jpg', '133002.jpg', '114801.jpg', '139002.jpg', '107400.jpg', '134502.jpg', '144802.jpg', '147701.jpg', '122901.jpg', '111400.jpg', '141901.jpg', '117402.jpg', '121201.jpg', '106901.jpg', '146502.jpg', '117101.jpg', '133801.jpg', '135401.jpg', '134801.jpg', '135902.jpg', '110600.jpg', '130700.jpg', '126901.jpg', '100800.jpg', '127403.jpg', '125800.jpg', '138603.jpg', '149603.jpg', '126703.jpg', '142701.jpg', '144600.jpg', '103500.jpg', '146801.jpg', '144500.jpg', '103503.jpg', '125500.jpg', '100001.jpg', '131001.jpg', '131603.jpg', '101201.jpg', '138506.jpg', '121801.jpg', '118001.jpg', '147100.jpg', '111200.jpg', '102101.jpg', '131802.jpg', '138802.jpg', '142300.jpg', '141101.jpg', '130501.jpg', '141000.jpg', '134803.jpg', '127300.jpg', '108802.jpg', '115401.jpg', '110301.jpg', '100002.jpg', '104501.jpg', '100500.jpg', '104500.jpg', '124802.jpg', '136705.jpg', '130201.jpg', '112300.jpg', '126500.jpg', '135101.jpg', '107701.jpg', '149701.jpg', '146601.jpg', '118401.jpg', '127602.jpg', '145601.jpg', '128501.jpg', '142600.jpg', '117401.jpg', '137504.jpg', '147401.jpg', '135703.jpg', '101600.jpg', '106603.jpg', '125000.jpg', '139202.jpg', '127802.jpg', '138701.jpg', '149002.jpg', '119501.jpg', '143601.jpg', '128200.jpg', '113404.jpg', '119001.jpg', '117700.jpg', '122302.jpg', '131801.jpg', '136900.jpg', '142901.jpg', '111001.jpg', '127202.jpg', '115702.jpg', '126100.jpg', '113501.jpg', '111901.jpg', '103902.jpg', '146001.jpg', '139502.jpg', '146204.jpg', '134100.jpg', '125600.jpg', '146100.jpg', '112002.jpg', '121301.jpg', '140200.jpg', '140300.jpg', '115601.jpg', '117500.jpg', '136503.jpg', '136301.jpg', '143700.jpg', '138601.jpg', '143900.jpg', '103101.jpg', '122707.jpg', '109600.jpg', '101700.jpg', '117000.jpg', '132301.jpg', '130301.jpg', '136903.jpg', '100700.jpg', '132600.jpg', '103303.jpg', '110800.jpg', '115100.jpg', '124000.jpg', '124500.jpg', '105101.jpg', '121601.jpg', '105500.jpg', '139005.jpg', '130300.jpg', '119700.jpg', '132300.jpg', '147702.jpg', '100101.jpg', '135400.jpg', '134400.jpg', '115900.jpg', '147102.jpg', '110000.jpg', '138507.jpg', '133600.jpg', '142101.jpg', '135402.jpg', '102901.jpg', '145502.jpg', '115001.jpg', '138305.jpg', '100901.jpg', '140500.jpg', '137102.jpg', '111101.jpg', '136701.jpg', '138705.jpg', '116402.jpg', '121400.jpg', '143600.jpg', '134802.jpg', '132511.jpg', '101601.jpg', '140201.jpg', '136601.jpg', '136400.jpg', '130900.jpg', '132502.jpg', '127100.jpg', '137300.jpg', '122601.jpg', '142301.jpg', '101000.jpg', '145600.jpg', '122500.jpg', '134700.jpg', '141301.jpg', '129200.jpg', '121403.jpg', '126101.jpg', '140901.jpg', '140301.jpg', '137501.jpg', '102000.jpg', '121701.jpg', '114502.jpg', '108301.jpg', '144701.jpg', '103002.jpg', '112501.jpg', '135802.jpg', '116200.jpg', '108105.jpg', '118003.jpg', '115701.jpg', '108104.jpg', '124302.jpg', '125901.jpg', '140600.jpg', '115301.jpg', '108202.jpg', '143501.jpg', '126000.jpg', '107900.jpg', '126601.jpg', '114101.jpg', '144700.jpg', '102200.jpg', '102400.jpg', '128300.jpg', '131000.jpg', '116703.jpg', '117100.jpg', '138002.jpg', '125301.jpg', '137600.jpg', '135800.jpg', '116001.jpg', '142401.jpg', '120301.jpg', '123205.jpg', '107001.jpg', '108200.jpg', '139100.jpg', '104200.jpg', '115200.jpg', '112401.jpg', '113801.jpg', '128000.jpg', '118303.jpg', '120400.jpg', '129501.jpg', '105201.jpg', '111100.jpg', '136005.jpg', '141202.jpg', '136901.jpg', '103702.jpg', '139204.jpg', '147802.jpg', '112601.jpg', '130001.jpg', '138700.jpg', '120001.jpg', '138502.jpg', '105200.jpg', '149500.jpg', '104201.jpg', '104902.jpg', '118600.jpg', '100701.jpg', '146203.jpg', '132505.jpg', '106604.jpg', '117802.jpg', '138702.jpg', '100801.jpg', '145202.jpg', '144300.jpg', '130802.jpg', '126704.jpg', '100601.jpg', '139101.jpg', '136102.jpg', '145803.jpg', '112101.jpg', '122706.jpg', '131200.jpg', '149801.jpg', '131400.jpg', '114601.jpg', '103301.jpg', '106200.jpg', '112600.jpg', '131102.jpg', '119800.jpg', '111702.jpg', '149800.jpg', '116802.jpg', '138704.jpg', '142002.jpg', '121200.jpg', '126804.jpg', '136403.jpg', '127001.jpg', '130000.jpg', '140800.jpg', '105501.jpg', '133802.jpg', '139201.jpg', '133701.jpg', '137702.jpg', '127501.jpg', '145200.jpg', '134201.jpg', '114903.jpg', '116900.jpg', '131602.jpg', '144800.jpg', '137701.jpg', '110001.jpg', '119401.jpg', '115700.jpg', '102202.jpg', '143904.jpg', '142200.jpg', '139500.jpg', '118500.jpg', '103700.jpg', '141700.jpg', '129701.jpg', '144101.jpg', '145100.jpg', '106800.jpg', '137603.jpg', '143903.jpg', '131301.jpg', '128400.jpg', '137006.jpg', '134800.jpg', '131502.jpg', '133200.jpg', '125702.jpg', '103801.jpg', '112408.jpg', '141900.jpg', '145501.jpg', '144001.jpg', '136007.jpg', '138706.jpg', '146401.jpg', '137103.jpg', '108203.jpg', '113201.jpg', '103102.jpg', '110302.jpg', '117400.jpg', '102800.jpg', '147304.jpg', '112003.jpg', '139303.jpg', '137602.jpg', '116100.jpg', '136704.jpg', '138011.jpg', '107201.jpg', '115000.jpg', '132508.jpg', '140503.jpg', '142601.jpg', '126402.jpg', '145402.jpg', '138600.jpg', '147502.jpg', '127401.jpg', '119300.jpg', '108103.jpg', '117801.jpg', '106606.jpg', '114700.jpg', '127801.jpg', '113800.jpg', '145300.jpg', '105700.jpg', '111800.jpg', '136800.jpg', '140700.jpg', '148700.jpg', '133900.jpg', '101101.jpg', '149102.jpg', '126900.jpg', '142501.jpg', '138010.jpg', '129002.jpg', '116101.jpg', '120201.jpg', '121500.jpg', '149301.jpg', '106501.jpg', '119202.jpg', '103401.jpg', '127901.jpg', '116801.jpg', '104700.jpg', '149001.jpg', '148801.jpg', '124001.jpg', '104800.jpg', '116800.jpg', '133601.jpg', '129201.jpg', '118900.jpg', '148202.jpg', '133301.jpg', '139003.jpg', '138501.jpg', '145002.jpg', '143200.jpg', '138904.jpg', '109800.jpg', '114402.jpg', '140501.jpg', '148401.jpg', '148900.jpg', '136500.jpg', '108100.jpg', '136009.jpg', '146205.jpg', '144704.jpg', '125200.jpg', '130500.jpg', '110501.jpg', '129900.jpg', '134604.jpg', '122600.jpg', '138301.jpg', '145301.jpg', '109400.jpg', '137301.jpg', '126902.jpg', '126401.jpg', '105100.jpg', '139004.jpg', '140400.jpg', '146202.jpg', '117601.jpg', '134600.jpg', '114100.jpg', '136010.jpg', '114401.jpg', '132201.jpg', '138009.jpg', '149400.jpg', '147602.jpg', '149302.jpg', '123901.jpg', '109300.jpg', '107300.jpg', '144903.jpg', '104601.jpg', '148601.jpg', '104400.jpg', '133000.jpg', '149700.jpg', '122002.jpg', '132510.jpg', '116300.jpg', '141704.jpg', '132001.jpg', '106202.jpg', '118800.jpg', '143100.jpg', '119602.jpg', '146404.jpg', '129001.jpg', '123700.jpg', '126001.jpg', '138100.jpg', '126705.jpg', '146400.jpg', '118700.jpg', '103601.jpg', '114002.jpg', '121901.jpg', '111701.jpg', '139600.jpg', '135502.jpg', '145400.jpg', '148100.jpg', '146500.jpg', '106301.jpg', '119500.jpg', '113701.jpg', '143901.jpg', '113601.jpg', '111000.jpg', '128901.jpg', '135901.jpg', '144601.jpg', '113401.jpg', '149300.jpg', '126301.jpg', '115902.jpg', '132000.jpg', '106703.jpg', '100400.jpg', '112404.jpg', '144301.jpg', '105001.jpg', '120800.jpg', '141500.jpg', '146300.jpg', '136703.jpg', '119201.jpg', '108600.jpg', '116401.jpg', '100401.jpg', '122705.jpg', '146200.jpg', '134000.jpg', '141803.jpg', '137101.jpg', '125703.jpg', '140803.jpg', '121402.jpg', '146303.jpg', '117102.jpg', '142201.jpg', '136101.jpg', '139001.jpg', '138605.jpg', '146800.jpg', '137503.jpg', '108700.jpg', '115101.jpg', '138003.jpg', '114504.jpg', '118201.jpg', '104502.jpg', '138901.jpg', '103501.jpg', '104401.jpg', '119801.jpg', '108501.jpg', '147202.jpg', '138102.jpg', '109501.jpg', '141400.jpg', '123201.jpg', '106902.jpg', '136702.jpg', '128801.jpg', '115201.jpg', '145102.jpg', '114501.jpg', '101401.jpg', '122200.jpg', '123701.jpg', '145901.jpg', '119301.jpg', '141001.jpg', '139504.jpg', '122000.jpg', '108901.jpg', '138101.jpg', '136003.jpg', '118803.jpg', '147400.jpg', '100000.jpg', '120501.jpg', '124800.jpg', '144703.jpg', '131701.jpg', '102402.jpg', '115500.jpg', '137003.jpg', '109401.jpg', '138307.jpg', '120901.jpg', '149600.jpg', '110201.jpg', '107100.jpg', '122602.jpg', '122700.jpg', '105401.jpg', '120600.jpg', '103200.jpg', '122704.jpg', '127502.jpg', '137901.jpg', '123000.jpg', '127600.jpg', '134101.jpg', '111401.jpg', '131300.jpg', '100301.jpg', '129400.jpg', '129600.jpg', '145003.jpg', '142001.jpg', '107200.jpg', '105600.jpg', '147300.jpg', '126805.jpg', '132601.jpg', '101701.jpg', '132303.jpg', '132509.jpg', '121401.jpg', '119100.jpg', '144803.jpg', '142700.jpg', '125101.jpg', '126800.jpg', '131101.jpg', '110401.jpg', '131800.jpg', '119200.jpg', '134003.jpg', '128600.jpg', '102100.jpg', '122801.jpg', '138012.jpg', '127601.jpg', '140100.jpg', '107601.jpg', '138505.jpg', '143902.jpg', '114902.jpg', '145900.jpg', '138306.jpg', '125700.jpg', '111300.jpg', '110101.jpg', '125300.jpg', '141401.jpg', '128900.jpg', '146403.jpg', '104300.jpg', '123800.jpg', '149101.jpg', '133202.jpg', '100302.jpg', '131402.jpg', '140801.jpg', '136006.jpg', '114000.jpg', '136501.jpg', '127500.jpg', '142100.jpg', '102601.jpg', '108401.jpg', '147302.jpg', '105000.jpg', '141702.jpg', '106100.jpg', '126502.jpg', '141302.jpg', '124301.jpg', '133401.jpg', '118302.jpg', '146901.jpg', '115602.jpg', '136502.jpg', '102600.jpg', '145101.jpg', '125701.jpg', '104600.jpg', '101300.jpg', '116901.jpg', '137601.jpg', '104003.jpg', '113900.jpg', '128201.jpg', '109700.jpg', '113000.jpg', '144901.jpg', '125102.jpg', '123301.jpg', '128301.jpg', '133800.jpg', '132700.jpg', '136505.jpg', '142003.jpg', '129101.jpg', '103900.jpg', '116803.jpg', '105301.jpg', '110601.jpg', '104802.jpg', '111600.jpg', '147200.jpg', '109901.jpg', '143401.jpg', '103304.jpg', '148003.jpg', '135103.jpg', '147501.jpg', '132507.jpg', '121000.jpg', '103300.jpg', '122101.jpg', '122900.jpg', '103000.jpg', '138800.jpg', '135102.jpg', '100200.jpg', '119601.jpg', '107600.jpg', '118402.jpg', '146600.jpg', '136002.jpg', '110701.jpg', '133201.jpg', '133500.jpg', '114503.jpg', '105901.jpg', '124801.jpg', '128100.jpg', '139501.jpg', '137100.jpg', '101801.jpg', '129800.jpg', '108500.jpg', '106601.jpg', '115901.jpg', '125900.jpg', '139503.jpg', '134602.jpg', '123204.jpg', '135501.jpg', '145000.jpg', '146000.jpg', '147901.jpg', '143300.jpg', '110300.jpg', '113100.jpg', '145201.jpg', '108201.jpg', '133300.jpg', '115300.jpg', '138703.jpg', '129003.jpg', '111900.jpg', '137800.jpg', '148701.jpg', '145001.jpg', '144000.jpg', '101404.jpg', '143803.jpg', '130801.jpg', '123001.jpg', '148000.jpg', '132302.jpg', '122001.jpg', '107800.jpg', '148501.jpg', '107501.jpg', '114703.jpg', '116601.jpg', '137004.jpg', '146602.jpg', '138000.jpg', '116500.jpg', '148603.jpg', '140001.jpg', '101001.jpg', '108300.jpg', '113001.jpg', '132506.jpg', '139302.jpg', '104001.jpg', '135601.jpg', '112902.jpg', '134703.jpg', '119101.jpg', '136504.jpg', '103502.jpg', '138903.jpg', '118801.jpg', '143301.jpg', '126808.jpg', '144102.jpg', '127701.jpg', '146405.jpg', '121404.jpg', '134402.jpg', '114200.jpg', '145800.jpg', '103204.jpg', '110801.jpg', '102303.jpg', '126201.jpg', '118802.jpg', '118301.jpg', '111201.jpg', '110700.jpg', '111002.jpg', '148600.jpg', '138004.jpg', '126202.jpg', '146206.jpg', '148200.jpg', '114701.jpg', '114300.jpg', '106700.jpg', '124101.jpg', '149900.jpg', '100501.jpg', '110400.jpg', '122202.jpg', '141703.jpg', '106000.jpg', '135600.jpg', '126803.jpg', '140401.jpg', '102301.jpg', '139105.jpg', '138007.jpg', '104801.jpg', '147000.jpg', '129000.jpg', '137500.jpg', '136804.jpg', '114500.jpg', '120300.jpg', '137200.jpg', '138602.jpg', '137005.jpg', '116301.jpg', '133501.jpg', '147603.jpg', '132901.jpg', '140701.jpg', '147900.jpg', '105104.jpg', '120000.jpg', '124900.jpg', '122701.jpg', '134300.jpg', '146101.jpg', '110901.jpg', '118901.jpg', '125801.jpg', '134504.jpg', '130102.jpg', '108800.jpg', '141600.jpg', '108701.jpg', '123500.jpg', '131501.jpg', '138900.jpg', '144100.jpg', '138401.jpg', '118100.jpg', '149501.jpg', '138200.jpg', '148004.jpg', '133001.jpg', '125601.jpg', '135900.jpg', '104701.jpg', '113500.jpg', '106002.jpg', '100600.jpg', '138006.jpg', '112800.jpg', '140900.jpg', '122502.jpg', '107902.jpg', '107801.jpg', '120601.jpg', '122501.jpg', '138304.jpg', '122702.jpg', '133602.jpg', '120703.jpg', '112400.jpg', '135503.jpg', '106001.jpg', '126801.jpg', '148602.jpg', '109200.jpg', '139901.jpg', '130100.jpg', '122708.jpg', '109001.jpg', '101800.jpg', '141601.jpg', '120702.jpg', '118002.jpg', '136200.jpg', '113300.jpg', '141304.jpg', '119600.jpg', '110200.jpg', '148500.jpg', '127800.jpg', '131500.jpg', '130800.jpg', '121800.jpg', '133702.jpg', '142502.jpg', '127900.jpg', '101503.jpg', '124600.jpg', '122503.jpg', '104101.jpg', '113200.jpg', '109201.jpg', '111700.jpg', '131700.jpg', '132501.jpg', '136801.jpg', '114900.jpg', '119901.jpg', '131901.jpg', '138202.jpg', '106600.jpg', '146301.jpg', '131600.jpg', '149000.jpg', '145701.jpg', '105801.jpg', '137703.jpg', '143001.jpg', '109701.jpg', '113901.jpg', '105601.jpg', '117302.jpg', '107700.jpg', '136000.jpg', '136402.jpg', '141100.jpg', '102300.jpg', '109601.jpg', '126102.jpg', '135302.jpg', '119701.jpg', '147201.jpg', '124700.jpg', '149604.jpg', '139000.jpg', '131201.jpg', '128101.jpg', '131900.jpg', '100902.jpg', '135801.jpg', '114800.jpg', '108102.jpg', '144900.jpg', '132701.jpg', '107702.jpg', '112405.jpg', '146402.jpg', '144801.jpg', '114600.jpg', '141200.jpg', '139104.jpg', '139300.jpg', '104901.jpg', '123003.jpg', '138801.jpg', '129100.jpg', '147800.jpg', '107401.jpg', '139404.jpg', '123203.jpg', '102302.jpg', '123202.jpg', '125001.jpg', '112700.jpg', '121600.jpg', '135201.jpg', '139701.jpg', '141802.jpg', '142800.jpg', '118501.jpg', '134900.jpg', '129700.jpg', '125202.jpg', '127301.jpg', '137007.jpg', '117300.jpg', '143400.jpg', '124901.jpg', '122800.jpg', '132900.jpg', '108101.jpg', '149902.jpg', '122504.jpg', '127200.jpg', '109100.jpg', '127000.jpg', '120700.jpg', '124701.jpg', '139200.jpg', '101301.jpg', '144902.jpg', '132400.jpg', '107202.jpg', '145401.jpg', '123403.jpg', '104900.jpg', '130901.jpg', '130701.jpg', '104004.jpg', '107101.jpg', '127402.jpg', '115400.jpg', '133400.jpg', '112403.jpg', '119000.jpg', '132100.jpg', '103100.jpg', '113502.jpg', '120701.jpg', '132801.jpg', '136707.jpg', '105802.jpg', '138308.jpg', '105800.jpg', '137900.jpg', '123501.jpg', '139700.jpg', '117600.jpg', '148001.jpg', '101501.jpg', '112801.jpg', '100502.jpg', '109000.jpg', '137700.jpg', '141801.jpg', '134501.jpg', '138503.jpg', '136202.jpg', '138001.jpg', '137000.jpg', '123400.jpg', '116600.jpg', '133100.jpg', '138803.jpg', '127201.jpg', '103203.jpg', '119604.jpg', '147101.jpg', '148203.jpg', '104006.jpg', '102401.jpg', '110500.jpg', '111601.jpg', '108001.jpg', '126200.jpg', '127503.jpg', '134804.jpg', '132800.jpg', '122100.jpg', '111501.jpg', '101702.jpg', '143702.jpg', '121900.jpg', '137201.jpg', '149901.jpg', '147301.jpg', '106900.jpg', '108400.jpg', '123602.jpg', '144804.jpg', '106500.jpg', '105300.jpg', '119605.jpg', '101504.jpg', '109301.jpg', '138300.jpg', '107301.jpg', '130302.jpg', '116400.jpg', '124003.jpg', '121100.jpg', '100201.jpg', '134301.jpg', '139402.jpg', '136201.jpg', '126400.jpg', '140902.jpg', '112200.jpg', '126701.jpg', '144104.jpg', '131401.jpg', '140101.jpg', '110900.jpg', '117501.jpg', '124402.jpg', '139203.jpg', '135003.jpg', '146701.jpg', '125201.jpg', '143201.jpg', '117301.jpg', '104000.jpg', '116501.jpg', '126700.jpg', '119703.jpg', '128502.jpg', '139506.jpg', '114901.jpg', '144501.jpg', '136103.jpg', '114201.jpg', '124501.jpg', '143101.jpg', '102802.jpg', '123101.jpg', '142000.jpg', '110802.jpg', '149201.jpg', '106403.jpg', '123601.jpg', '102500.jpg', '136001.jpg', '141701.jpg', '137802.jpg', '118000.jpg', '116700.jpg', '108900.jpg', '102201.jpg', '129202.jpg', '134002.jpg', '120100.jpg', '146102.jpg', '100900.jpg', '104202.jpg', '118400.jpg', '138309.jpg', '125501.jpg', '105002.jpg', '129301.jpg', '101900.jpg', '104005.jpg', '142900.jpg', '100503.jpg', '121001.jpg', '118601.jpg', '123801.jpg', '144103.jpg', '137704.jpg', '146302.jpg', '129601.jpg', '120900.jpg', '107901.jpg', '149200.jpg', '125100.jpg', '122402.jpg', '105900.jpg', '122401.jpg', '139900.jpg', '111801.jpg', '145802.jpg', '119900.jpg', '101403.jpg', '130303.jpg', '117701.jpg', '132200.jpg', '146700.jpg', '112001.jpg', '130601.jpg', '109402.jpg', '112406.jpg', '136805.jpg', '125802.jpg', '140802.jpg', '113400.jpg', '131805.jpg', '147801.jpg', '112302.jpg', '130101.jpg', '135200.jpg', '113301.jpg', '115501.jpg', '146201.jpg', '106401.jpg', '103202.jpg', '101100.jpg', '138005.jpg', '106400.jpg', '101402.jpg', '136100.jpg', '133003.jpg', '135002.jpg', '129401.jpg', '125400.jpg', '116701.jpg', '131804.jpg', '136401.jpg', '144302.jpg', '112402.jpg', '126802.jpg', '148300.jpg', '130200.jpg', '120500.jpg', '138500.jpg', '115801.jpg', '138008.jpg', '105701.jpg', '147601.jpg', '108902.jpg', '144702.jpg', '146207.jpg', '138201.jpg', '121300.jpg', '135701.jpg', '106101.jpg', '130400.jpg', '141501.jpg', '102900.jpg', '135300.jpg', '124601.jpg', '119603.jpg', '109900.jpg', '139800.jpg', '136203.jpg', '144401.jpg', '134200.jpg', '128001.jpg', '139102.jpg', '138203.jpg', '132503.jpg', '147600.jpg', '129300.jpg', '124400.jpg', '136902.jpg', '143000.jpg', '147700.jpg', '138104.jpg', '116002.jpg', '149401.jpg', '125203.jpg', '119704.jpg', '143802.jpg', '135700.jpg', '124201.jpg', '136004.jpg', '127101.jpg', '143800.jpg', '101901.jpg', '137705.jpg', '103600.jpg', '142500.jpg', '135702.jpg', '116702.jpg', '133101.jpg', '120801.jpg', '148901.jpg', '142004.jpg', '134702.jpg', '148800.jpg', '136803.jpg', '102700.jpg', '122203.jpg', '112100.jpg', '100100.jpg', '124200.jpg', '117800.jpg', '100300.jpg', '112407.jpg', '123300.jpg', '106605.jpg', '112201.jpg', '131601.jpg', '137502.jpg', '117201.jpg', '144201.jpg', '114301.jpg', '126300.jpg', '112701.jpg', '139403.jpg', '126501.jpg', '111301.jpg', '118101.jpg', '102501.jpg', '136700.jpg', '148201.jpg', '123200.jpg', '124100.jpg', '148902.jpg', '103701.jpg', '129500.jpg', '149100.jpg', '136802.jpg', '135500.jpg', '137002.jpg', '136300.jpg', '139601.jpg', '115800.jpg', '103001.jpg', '145902.jpg', '112301.jpg', '149602.jpg', '134605.jpg', '128700.jpg', '111703.jpg', '126600.jpg', '143500.jpg', '136008.jpg', '135301.jpg', '132504.jpg', '103800.jpg', '129901.jpg', '120401.jpg', '134503.jpg', '146900.jpg', '138103.jpg', '136600.jpg', '128500.jpg', '134403.jpg', '108000.jpg', '133700.jpg', '144400.jpg', '114702.jpg', '138504.jpg', '139401.jpg', '108106.jpg', '129801.jpg', '121501.jpg', '128401.jpg', '145203.jpg', '138105.jpg', '135001.jpg', '123002.jpg', '138707.jpg', '147303.jpg', '113101.jpg', '132500.jpg', '122703.jpg', '129802.jpg', '105103.jpg', '134701.jpg', '140000.jpg', '118200.jpg', '113600.jpg', '113700.jpg', '142400.jpg', '147001.jpg', '104301.jpg', '110100.jpg', '110702.jpg', '131503.jpg', '122300.jpg', '128002.jpg', '128701.jpg', '117001.jpg', '122102.jpg', '136706.jpg', '119702.jpg', '149601.jpg', '129602.jpg', '124401.jpg', '143801.jpg', '127400.jpg', '137001.jpg', '103901.jpg', '104402.jpg', '106701.jpg', '138400.jpg', '116000.jpg', '132101.jpg', '147500.jpg', '135000.jpg', '102801.jpg', '123900.jpg', '134500.jpg', '135100.jpg', '146002.jpg', '102701.jpg', '141303.jpg', '145700.jpg', '135104.jpg', '109801.jpg', '141300.jpg', '140601.jpg', '109101.jpg', '138902.jpg', '118701.jpg', '126807.jpg', '106704.jpg', '127700.jpg', '103400.jpg'])"
     },
     "metadata": {},
     "output_type": "execute_result",
     "execution_count": 2
    }
   ],
   "source": [
    "img_dict = create_image_dict(get_imlist('holidays_small'))\n",
    "img_dict.keys()"
   ],
   "metadata": {
    "collapsed": false,
    "pycharm": {
     "name": "#%%\n",
     "is_executing": false
    }
   }
  },
  {
   "cell_type": "code",
   "execution_count": 3,
   "outputs": [],
   "source": [
    "# create dataset\n",
    "queries = []\n",
    "positives = []\n",
    "negatives = []\n",
    "\n",
    "triplets_file = open(\"triplets.dat\", \"r\")\n",
    "for line in triplets_file.readlines():\n",
    "    split = line.split(\" \")[:3]\n",
    "\n",
    "    queries.append(img_dict[split[0]])\n",
    "    positives.append(img_dict[split[1]])\n",
    "    negatives.append(img_dict[split[2]])\n",
    "\n",
    "queries = np.array(queries)\n",
    "positives = np.array(positives)\n",
    "negatives = np.array(negatives)"
   ],
   "metadata": {
    "collapsed": false,
    "pycharm": {
     "name": "#%%\n",
     "is_executing": false
    }
   }
  },
  {
   "cell_type": "code",
   "execution_count": 4,
   "outputs": [
    {
     "data": {
      "text/plain": "<keras.engine.input_layer.InputLayer at 0x7feaf0b10b70>"
     },
     "metadata": {},
     "output_type": "execute_result",
     "execution_count": 4
    }
   ],
   "source": [
    "#create model\n",
    "from keras.applications import ResNet50\n",
    "\n",
    "embedding_size = 512\n",
    "\n",
    "input_shape = (224, 224, 3)\n",
    "\n",
    "resnet = ResNet50(weights='imagenet', include_top=False, pooling='avg', input_shape=input_shape)\n",
    "\n",
    "for layer in resnet.layers:\n",
    "    layer.trainable = False\n",
    "    #print(layer, layer.trainable)\n",
    "\n",
    "resnet.layers.pop(0)"
   ],
   "metadata": {
    "collapsed": false,
    "pycharm": {
     "name": "#%%\n",
     "is_executing": false
    }
   }
  },
  {
   "cell_type": "code",
   "execution_count": 5,
   "outputs": [],
   "source": [
    "#set layers untrainable\n",
    "from keras.models import Model\n",
    "from keras.layers import Input,  Dense, Dropout\n",
    "from keras.optimizers import Adam\n",
    "from keras.utils import plot_model\n",
    "from triplet_loss import L2NormLayer\n",
    "\n",
    "input_q = Input(shape=(224, 224, 3))\n",
    "input_p = Input(shape=(224, 224, 3))\n",
    "input_n = Input(shape=(224, 224, 3))\n",
    "\n",
    "resnet_q = resnet(input_q)\n",
    "resnet_p = resnet(input_p)\n",
    "resnet_n = resnet(input_n)\n",
    "\n",
    "resnet_output = resnet.output_shape[1]\n",
    "\n",
    "\n",
    "\n",
    "\"\"\"l2normalization = L2NormLayer()\n",
    "embedding = Dense(embedding_size, input_shape=(resnet_output,), activation='relu', name=\"embedding1\")\n",
    "dropout = Dropout(0.1)\n",
    "\"\"\""
   ],
   "metadata": {
    "collapsed": false,
    "pycharm": {
     "name": "#%%\n",
     "is_executing": false
    }
   }
  },
  {
   "cell_type": "code",
   "execution_count": 6,
   "outputs": [],
   "source": [
    "embedding_q = dropout(embedding(l2normalization(resnet_q)))\n",
    "embedding_p = dropout(embedding(l2normalization(resnet_p)))\n",
    "embedding_n = dropout(embedding(l2normalization(resnet_n)))\n",
    "\n",
    "resnet_qpn = Model([input_q, input_p, input_n], [embedding_q, embedding_p, embedding_n])"
   ],
   "metadata": {
    "collapsed": false,
    "pycharm": {
     "name": "#%%\n",
     "is_executing": false
    }
   }
  },
  {
   "cell_type": "code",
   "execution_count": 7,
   "outputs": [
    {
     "name": "stdout",
     "text": [
      "Model: \"model_1\"\n__________________________________________________________________________________________________\nLayer (type)                    Output Shape         Param #     Connected to                     \n==================================================================================================\ninput_2 (InputLayer)            (None, 224, 224, 3)  0                                            \n__________________________________________________________________________________________________\ninput_3 (InputLayer)            (None, 224, 224, 3)  0                                            \n__________________________________________________________________________________________________\ninput_4 (InputLayer)            (None, 224, 224, 3)  0                                            \n__________________________________________________________________________________________________\nresnet50 (Model)                (None, 2048)         23587712    input_2[0][0]                    \n                                                                 input_3[0][0]                    \n                                                                 input_4[0][0]                    \n__________________________________________________________________________________________________\nl2_norm_layer_1 (L2NormLayer)   (None, 2048)         0           resnet50[1][0]                   \n                                                                 resnet50[2][0]                   \n                                                                 resnet50[3][0]                   \n__________________________________________________________________________________________________\nembedding1 (Dense)              (None, 512)          1049088     l2_norm_layer_1[0][0]            \n                                                                 l2_norm_layer_1[1][0]            \n                                                                 l2_norm_layer_1[2][0]            \n__________________________________________________________________________________________________\ndropout_1 (Dropout)             (None, 512)          0           embedding1[0][0]                 \n                                                                 embedding1[1][0]                 \n                                                                 embedding1[2][0]                 \n==================================================================================================\nTotal params: 24,636,800\nTrainable params: 1,049,088\nNon-trainable params: 23,587,712\n__________________________________________________________________________________________________\n"
     ],
     "output_type": "stream"
    }
   ],
   "source": [
    "plot_model(resnet_qpn, to_file='base_network.png', show_shapes=True, show_layer_names=True)\n",
    "resnet_qpn.summary()\n",
    "\n",
    "result = resnet_qpn.predict([queries[:1], positives[:1], negatives[:1]])"
   ],
   "metadata": {
    "collapsed": false,
    "pycharm": {
     "name": "#%%\n",
     "is_executing": false
    }
   }
  },
  {
   "cell_type": "code",
   "execution_count": 8,
   "outputs": [],
   "source": [
    "all_data_len = len(img_dict.keys())\n",
    "n_train = 333\n",
    "\n",
    "fake_true_pred = np.zeros((n_train,embedding_size*3))\n",
    "fake_true_pred_val = np.zeros((all_data_len-n_train,embedding_size*3))\n",
    "\n",
    "queries_train = queries[:n_train]\n",
    "positives_train = positives[:n_train]\n",
    "negatives_train = negatives[:n_train]\n",
    "\n",
    "queries_test = queries[n_train:]\n",
    "positives_test = positives[n_train:]\n",
    "negatives_test = negatives[n_train:]"
   ],
   "metadata": {
    "collapsed": false,
    "pycharm": {
     "name": "#%%\n",
     "is_executing": false
    }
   }
  },
  {
   "cell_type": "code",
   "execution_count": 9,
   "outputs": [
    {
     "name": "stderr",
     "text": [
      "/home/fede/Documenti/netvlad/venv/lib/python3.6/site-packages/keras/engine/training_utils.py:819: UserWarning: Output triplet_loss_layer missing from loss dictionary. We assume this was done on purpose. The fit and evaluate APIs will not be expecting any data to be passed to triplet_loss_layer.\n  'be expecting any data to be passed to {0}.'.format(name))\n"
     ],
     "output_type": "stream"
    }
   ],
   "source": [
    "from triplet_loss import TripletLossLayer\n",
    "\n",
    "batch_size = 16\n",
    "epochs = 12\n",
    "\n",
    "# train session\n",
    "opt = Adam(lr=0.0001)  # choose optimiser. RMS is good too!\n",
    "\n",
    "loss_layer = TripletLossLayer(alpha=.1,name='triplet_loss_layer')(resnet_qpn.output)\n",
    "resnet_qpn = Model(inputs = resnet_qpn.input, outputs=loss_layer)\n",
    "resnet_qpn.compile(optimizer=opt)"
   ],
   "metadata": {
    "collapsed": false,
    "pycharm": {
     "name": "#%%\n",
     "is_executing": false
    }
   }
  },
  {
   "cell_type": "code",
   "execution_count": 10,
   "outputs": [
    {
     "name": "stdout",
     "text": [
      "Train on 333 samples, validate on 1158 samples\nEpoch 1/12\n",
      "\r 16/333 [>.............................] - ETA: 1:36 - loss: 0.1928",
      "\b\b\b\b\b\b\b\b\b\b\b\b\b\b\b\b\b\b\b\b\b\b\b\b\b\b\b\b\b\b\b\b\b\b\b\b\b\b\b\b\b\b\b\b\b\b\b\b\b\b\b\b\b\b\b\b\b\b\b\b\b\b\b\b\b\b\b\r 32/333 [=>............................] - ETA: 47s - loss: 0.1928 ",
      "\b\b\b\b\b\b\b\b\b\b\b\b\b\b\b\b\b\b\b\b\b\b\b\b\b\b\b\b\b\b\b\b\b\b\b\b\b\b\b\b\b\b\b\b\b\b\b\b\b\b\b\b\b\b\b\b\b\b\b\b\b\b\b\b\b\b\r 48/333 [===>..........................] - ETA: 30s - loss: 0.2016",
      "\b\b\b\b\b\b\b\b\b\b\b\b\b\b\b\b\b\b\b\b\b\b\b\b\b\b\b\b\b\b\b\b\b\b\b\b\b\b\b\b\b\b\b\b\b\b\b\b\b\b\b\b\b\b\b\b\b\b\b\b\b\b\b\b\b\b\r 64/333 [====>.........................] - ETA: 22s - loss: 0.2006",
      "\b\b\b\b\b\b\b\b\b\b\b\b\b\b\b\b\b\b\b\b\b\b\b\b\b\b\b\b\b\b\b\b\b\b\b\b\b\b\b\b\b\b\b\b\b\b\b\b\b\b\b\b\b\b\b\b\b\b\b\b\b\b\b\b\b\b\r 80/333 [======>.......................] - ETA: 17s - loss: 0.1991",
      "\b\b\b\b\b\b\b\b\b\b\b\b\b\b\b\b\b\b\b\b\b\b\b\b\b\b\b\b\b\b\b\b\b\b\b\b\b\b\b\b\b\b\b\b\b\b\b\b\b\b\b\b\b\b\b\b\b\b\b\b\b\b\b\b\b\b\r 96/333 [=======>......................] - ETA: 13s - loss: 0.2025",
      "\b\b\b\b\b\b\b\b\b\b\b\b\b\b\b\b\b\b\b\b\b\b\b\b\b\b\b\b\b\b\b\b\b\b\b\b\b\b\b\b\b\b\b\b\b\b\b\b\b\b\b\b\b\b\b\b\b\b\b\b\b\b\b\b\b\b\r112/333 [=========>....................] - ETA: 11s - loss: 0.1839",
      "\b\b\b\b\b\b\b\b\b\b\b\b\b\b\b\b\b\b\b\b\b\b\b\b\b\b\b\b\b\b\b\b\b\b\b\b\b\b\b\b\b\b\b\b\b\b\b\b\b\b\b\b\b\b\b\b\b\b\b\b\b\b\b\b\b\b\r128/333 [==========>...................] - ETA: 9s - loss: 0.1699 ",
      "\b\b\b\b\b\b\b\b\b\b\b\b\b\b\b\b\b\b\b\b\b\b\b\b\b\b\b\b\b\b\b\b\b\b\b\b\b\b\b\b\b\b\b\b\b\b\b\b\b\b\b\b\b\b\b\b\b\b\b\b\b\b\b\b\b\r144/333 [===========>..................] - ETA: 7s - loss: 0.1619",
      "\b\b\b\b\b\b\b\b\b\b\b\b\b\b\b\b\b\b\b\b\b\b\b\b\b\b\b\b\b\b\b\b\b\b\b\b\b\b\b\b\b\b\b\b\b\b\b\b\b\b\b\b\b\b\b\b\b\b\b\b\b\b\b\b\b\r160/333 [=============>................] - ETA: 6s - loss: 0.1695",
      "\b\b\b\b\b\b\b\b\b\b\b\b\b\b\b\b\b\b\b\b\b\b\b\b\b\b\b\b\b\b\b\b\b\b\b\b\b\b\b\b\b\b\b\b\b\b\b\b\b\b\b\b\b\b\b\b\b\b\b\b\b\b\b\b\b\r176/333 [==============>...............] - ETA: 5s - loss: 0.1635",
      "\b\b\b\b\b\b\b\b\b\b\b\b\b\b\b\b\b\b\b\b\b\b\b\b\b\b\b\b\b\b\b\b\b\b\b\b\b\b\b\b\b\b\b\b\b\b\b\b\b\b\b\b\b\b\b\b\b\b\b\b\b\b\b\b\b\r192/333 [================>.............] - ETA: 4s - loss: 0.1635",
      "\b\b\b\b\b\b\b\b\b\b\b\b\b\b\b\b\b\b\b\b\b\b\b\b\b\b\b\b\b\b\b\b\b\b\b\b\b\b\b\b\b\b\b\b\b\b\b\b\b\b\b\b\b\b\b\b\b\b\b\b\b\b\b\b\b\r208/333 [=================>............] - ETA: 4s - loss: 0.1588",
      "\b\b\b\b\b\b\b\b\b\b\b\b\b\b\b\b\b\b\b\b\b\b\b\b\b\b\b\b\b\b\b\b\b\b\b\b\b\b\b\b\b\b\b\b\b\b\b\b\b\b\b\b\b\b\b\b\b\b\b\b\b\b\b\b\b\r224/333 [===================>..........] - ETA: 3s - loss: 0.1549",
      "\b\b\b\b\b\b\b\b\b\b\b\b\b\b\b\b\b\b\b\b\b\b\b\b\b\b\b\b\b\b\b\b\b\b\b\b\b\b\b\b\b\b\b\b\b\b\b\b\b\b\b\b\b\b\b\b\b\b\b\b\b\b\b\b\b\r240/333 [====================>.........] - ETA: 2s - loss: 0.1533",
      "\b\b\b\b\b\b\b\b\b\b\b\b\b\b\b\b\b\b\b\b\b\b\b\b\b\b\b\b\b\b\b\b\b\b\b\b\b\b\b\b\b\b\b\b\b\b\b\b\b\b\b\b\b\b\b\b\b\b\b\b\b\b\b\b\b\r256/333 [======================>.......] - ETA: 2s - loss: 0.1515",
      "\b\b\b\b\b\b\b\b\b\b\b\b\b\b\b\b\b\b\b\b\b\b\b\b\b\b\b\b\b\b\b\b\b\b\b\b\b\b\b\b\b\b\b\b\b\b\b\b\b\b\b\b\b\b\b\b\b\b\b\b\b\b\b\b\b\r272/333 [=======================>......] - ETA: 1s - loss: 0.1571",
      "\b\b\b\b\b\b\b\b\b\b\b\b\b\b\b\b\b\b\b\b\b\b\b\b\b\b\b\b\b\b\b\b\b\b\b\b\b\b\b\b\b\b\b\b\b\b\b\b\b\b\b\b\b\b\b\b\b\b\b\b\b\b\b\b\b\r288/333 [========================>.....] - ETA: 1s - loss: 0.1492",
      "\b\b\b\b\b\b\b\b\b\b\b\b\b\b\b\b\b\b\b\b\b\b\b\b\b\b\b\b\b\b\b\b\b\b\b\b\b\b\b\b\b\b\b\b\b\b\b\b\b\b\b\b\b\b\b\b\b\b\b\b\b\b\b\b\b\r304/333 [==========================>...] - ETA: 0s - loss: 0.1546",
      "\b\b\b\b\b\b\b\b\b\b\b\b\b\b\b\b\b\b\b\b\b\b\b\b\b\b\b\b\b\b\b\b\b\b\b\b\b\b\b\b\b\b\b\b\b\b\b\b\b\b\b\b\b\b\b\b\b\b\b\b\b\b\b\b\b\r320/333 [===========================>..] - ETA: 0s - loss: 0.1529",
      "\b\b\b\b\b\b\b\b\b\b\b\b\b\b\b\b\b\b\b\b\b\b\b\b\b\b\b\b\b\b\b\b\b\b\b\b\b\b\b\b\b\b\b\b\b\b\b\b\b\b\b\b\b\b\b\b\b\b\b\b\b\b\b\b\b\r333/333 [==============================] - 25s 75ms/step - loss: 0.1481 - val_loss: 0.1115\n",
      "Epoch 2/12\n\r 16/333 [>.............................] - ETA: 2s - loss: 0.0745",
      "\b\b\b\b\b\b\b\b\b\b\b\b\b\b\b\b\b\b\b\b\b\b\b\b\b\b\b\b\b\b\b\b\b\b\b\b\b\b\b\b\b\b\b\b\b\b\b\b\b\b\b\b\b\b\b\b\b\b\b\b\b\b\b\b\b\r 32/333 [=>............................] - ETA: 2s - loss: 0.0372",
      "\b\b\b\b\b\b\b\b\b\b\b\b\b\b\b\b\b\b\b\b\b\b\b\b\b\b\b\b\b\b\b\b\b\b\b\b\b\b\b\b\b\b\b\b\b\b\b\b\b\b\b\b\b\b\b\b\b\b\b\b\b\b\b\b\b\r 48/333 [===>..........................] - ETA: 2s - loss: 0.0446",
      "\b\b\b\b\b\b\b\b\b\b\b\b\b\b\b\b\b\b\b\b\b\b\b\b\b\b\b\b\b\b\b\b\b\b\b\b\b\b\b\b\b\b\b\b\b\b\b\b\b\b\b\b\b\b\b\b\b\b\b\b\b\b\b\b\b\r 64/333 [====>.........................] - ETA: 2s - loss: 0.0696",
      "\b\b\b\b\b\b\b\b\b\b\b\b\b\b\b\b\b\b\b\b\b\b\b\b\b\b\b\b\b\b\b\b\b\b\b\b\b\b\b\b\b\b\b\b\b\b\b\b\b\b\b\b\b\b\b\b\b\b\b\b\b\b\b\b\b\r 80/333 [======>.......................] - ETA: 2s - loss: 0.0642",
      "\b\b\b\b\b\b\b\b\b\b\b\b\b\b\b\b\b\b\b\b\b\b\b\b\b\b\b\b\b\b\b\b\b\b\b\b\b\b\b\b\b\b\b\b\b\b\b\b\b\b\b\b\b\b\b\b\b\b\b\b\b\b\b\b\b\r 96/333 [=======>......................] - ETA: 2s - loss: 0.0604",
      "\b\b\b\b\b\b\b\b\b\b\b\b\b\b\b\b\b\b\b\b\b\b\b\b\b\b\b\b\b\b\b\b\b\b\b\b\b\b\b\b\b\b\b\b\b\b\b\b\b\b\b\b\b\b\b\b\b\b\b\b\b\b\b\b\b\r112/333 [=========>....................] - ETA: 2s - loss: 0.0518",
      "\b\b\b\b\b\b\b\b\b\b\b\b\b\b\b\b\b\b\b\b\b\b\b\b\b\b\b\b\b\b\b\b\b\b\b\b\b\b\b\b\b\b\b\b\b\b\b\b\b\b\b\b\b\b\b\b\b\b\b\b\b\b\b\b\b\r128/333 [==========>...................] - ETA: 1s - loss: 0.0495",
      "\b\b\b\b\b\b\b\b\b\b\b\b\b\b\b\b\b\b\b\b\b\b\b\b\b\b\b\b\b\b\b\b\b\b\b\b\b\b\b\b\b\b\b\b\b\b\b\b\b\b\b\b\b\b\b\b\b\b\b\b\b\b\b\b\b\r144/333 [===========>..................] - ETA: 1s - loss: 0.0469",
      "\b\b\b\b\b\b\b\b\b\b\b\b\b\b\b\b\b\b\b\b\b\b\b\b\b\b\b\b\b\b\b\b\b\b\b\b\b\b\b\b\b\b\b\b\b\b\b\b\b\b\b\b\b\b\b\b\b\b\b\b\b\b\b\b\b\r160/333 [=============>................] - ETA: 1s - loss: 0.0438",
      "\b\b\b\b\b\b\b\b\b\b\b\b\b\b\b\b\b\b\b\b\b\b\b\b\b\b\b\b\b\b\b\b\b\b\b\b\b\b\b\b\b\b\b\b\b\b\b\b\b\b\b\b\b\b\b\b\b\b\b\b\b\b\b\b\b\r176/333 [==============>...............] - ETA: 1s - loss: 0.0403",
      "\b\b\b\b\b\b\b\b\b\b\b\b\b\b\b\b\b\b\b\b\b\b\b\b\b\b\b\b\b\b\b\b\b\b\b\b\b\b\b\b\b\b\b\b\b\b\b\b\b\b\b\b\b\b\b\b\b\b\b\b\b\b\b\b\b\r192/333 [================>.............] - ETA: 1s - loss: 0.0451",
      "\b\b\b\b\b\b\b\b\b\b\b\b\b\b\b\b\b\b\b\b\b\b\b\b\b\b\b\b\b\b\b\b\b\b\b\b\b\b\b\b\b\b\b\b\b\b\b\b\b\b\b\b\b\b\b\b\b\b\b\b\b\b\b\b\b\r208/333 [=================>............] - ETA: 1s - loss: 0.0416",
      "\b\b\b\b\b\b\b\b\b\b\b\b\b\b\b\b\b\b\b\b\b\b\b\b\b\b\b\b\b\b\b\b\b\b\b\b\b\b\b\b\b\b\b\b\b\b\b\b\b\b\b\b\b\b\b\b\b\b\b\b\b\b\b\b\b\r224/333 [===================>..........] - ETA: 1s - loss: 0.0555",
      "\b\b\b\b\b\b\b\b\b\b\b\b\b\b\b\b\b\b\b\b\b\b\b\b\b\b\b\b\b\b\b\b\b\b\b\b\b\b\b\b\b\b\b\b\b\b\b\b\b\b\b\b\b\b\b\b\b\b\b\b\b\b\b\b\b\r240/333 [====================>.........] - ETA: 0s - loss: 0.0628",
      "\b\b\b\b\b\b\b\b\b\b\b\b\b\b\b\b\b\b\b\b\b\b\b\b\b\b\b\b\b\b\b\b\b\b\b\b\b\b\b\b\b\b\b\b\b\b\b\b\b\b\b\b\b\b\b\b\b\b\b\b\b\b\b\b\b\r256/333 [======================>.......] - ETA: 0s - loss: 0.0589",
      "\b\b\b\b\b\b\b\b\b\b\b\b\b\b\b\b\b\b\b\b\b\b\b\b\b\b\b\b\b\b\b\b\b\b\b\b\b\b\b\b\b\b\b\b\b\b\b\b\b\b\b\b\b\b\b\b\b\b\b\b\b\b\b\b\b\r272/333 [=======================>......] - ETA: 0s - loss: 0.0621",
      "\b\b\b\b\b\b\b\b\b\b\b\b\b\b\b\b\b\b\b\b\b\b\b\b\b\b\b\b\b\b\b\b\b\b\b\b\b\b\b\b\b\b\b\b\b\b\b\b\b\b\b\b\b\b\b\b\b\b\b\b\b\b\b\b\b\r288/333 [========================>.....] - ETA: 0s - loss: 0.0586",
      "\b\b\b\b\b\b\b\b\b\b\b\b\b\b\b\b\b\b\b\b\b\b\b\b\b\b\b\b\b\b\b\b\b\b\b\b\b\b\b\b\b\b\b\b\b\b\b\b\b\b\b\b\b\b\b\b\b\b\b\b\b\b\b\b\b\r304/333 [==========================>...] - ETA: 0s - loss: 0.0565",
      "\b\b\b\b\b\b\b\b\b\b\b\b\b\b\b\b\b\b\b\b\b\b\b\b\b\b\b\b\b\b\b\b\b\b\b\b\b\b\b\b\b\b\b\b\b\b\b\b\b\b\b\b\b\b\b\b\b\b\b\b\b\b\b\b\b\r320/333 [===========================>..] - ETA: 0s - loss: 0.0541",
      "\b\b\b\b\b\b\b\b\b\b\b\b\b\b\b\b\b\b\b\b\b\b\b\b\b\b\b\b\b\b\b\b\b\b\b\b\b\b\b\b\b\b\b\b\b\b\b\b\b\b\b\b\b\b\b\b\b\b\b\b\b\b\b\b\b\r333/333 [==============================] - 16s 49ms/step - loss: 0.0531 - val_loss: 0.0952\n",
      "Epoch 3/12\n\r 16/333 [>.............................] - ETA: 2s - loss: 0.0198",
      "\b\b\b\b\b\b\b\b\b\b\b\b\b\b\b\b\b\b\b\b\b\b\b\b\b\b\b\b\b\b\b\b\b\b\b\b\b\b\b\b\b\b\b\b\b\b\b\b\b\b\b\b\b\b\b\b\b\b\b\b\b\b\b\b\b\r 32/333 [=>............................] - ETA: 2s - loss: 0.0099",
      "\b\b\b\b\b\b\b\b\b\b\b\b\b\b\b\b\b\b\b\b\b\b\b\b\b\b\b\b\b\b\b\b\b\b\b\b\b\b\b\b\b\b\b\b\b\b\b\b\b\b\b\b\b\b\b\b\b\b\b\b\b\b\b\b\b\r 48/333 [===>..........................] - ETA: 2s - loss: 0.0412",
      "\b\b\b\b\b\b\b\b\b\b\b\b\b\b\b\b\b\b\b\b\b\b\b\b\b\b\b\b\b\b\b\b\b\b\b\b\b\b\b\b\b\b\b\b\b\b\b\b\b\b\b\b\b\b\b\b\b\b\b\b\b\b\b\b\b\r 64/333 [====>.........................] - ETA: 2s - loss: 0.0377",
      "\b\b\b\b\b\b\b\b\b\b\b\b\b\b\b\b\b\b\b\b\b\b\b\b\b\b\b\b\b\b\b\b\b\b\b\b\b\b\b\b\b\b\b\b\b\b\b\b\b\b\b\b\b\b\b\b\b\b\b\b\b\b\b\b\b\r 80/333 [======>.......................] - ETA: 2s - loss: 0.0384",
      "\b\b\b\b\b\b\b\b\b\b\b\b\b\b\b\b\b\b\b\b\b\b\b\b\b\b\b\b\b\b\b\b\b\b\b\b\b\b\b\b\b\b\b\b\b\b\b\b\b\b\b\b\b\b\b\b\b\b\b\b\b\b\b\b\b\r 96/333 [=======>......................] - ETA: 2s - loss: 0.0320",
      "\b\b\b\b\b\b\b\b\b\b\b\b\b\b\b\b\b\b\b\b\b\b\b\b\b\b\b\b\b\b\b\b\b\b\b\b\b\b\b\b\b\b\b\b\b\b\b\b\b\b\b\b\b\b\b\b\b\b\b\b\b\b\b\b\b\r112/333 [=========>....................] - ETA: 2s - loss: 0.0545",
      "\b\b\b\b\b\b\b\b\b\b\b\b\b\b\b\b\b\b\b\b\b\b\b\b\b\b\b\b\b\b\b\b\b\b\b\b\b\b\b\b\b\b\b\b\b\b\b\b\b\b\b\b\b\b\b\b\b\b\b\b\b\b\b\b\b\r128/333 [==========>...................] - ETA: 2s - loss: 0.0477",
      "\b\b\b\b\b\b\b\b\b\b\b\b\b\b\b\b\b\b\b\b\b\b\b\b\b\b\b\b\b\b\b\b\b\b\b\b\b\b\b\b\b\b\b\b\b\b\b\b\b\b\b\b\b\b\b\b\b\b\b\b\b\b\b\b\b\r144/333 [===========>..................] - ETA: 1s - loss: 0.0424",
      "\b\b\b\b\b\b\b\b\b\b\b\b\b\b\b\b\b\b\b\b\b\b\b\b\b\b\b\b\b\b\b\b\b\b\b\b\b\b\b\b\b\b\b\b\b\b\b\b\b\b\b\b\b\b\b\b\b\b\b\b\b\b\b\b\b\r160/333 [=============>................] - ETA: 1s - loss: 0.0462",
      "\b\b\b\b\b\b\b\b\b\b\b\b\b\b\b\b\b\b\b\b\b\b\b\b\b\b\b\b\b\b\b\b\b\b\b\b\b\b\b\b\b\b\b\b\b\b\b\b\b\b\b\b\b\b\b\b\b\b\b\b\b\b\b\b\b\r176/333 [==============>...............] - ETA: 1s - loss: 0.0490",
      "\b\b\b\b\b\b\b\b\b\b\b\b\b\b\b\b\b\b\b\b\b\b\b\b\b\b\b\b\b\b\b\b\b\b\b\b\b\b\b\b\b\b\b\b\b\b\b\b\b\b\b\b\b\b\b\b\b\b\b\b\b\b\b\b\b\r192/333 [================>.............] - ETA: 1s - loss: 0.0449",
      "\b\b\b\b\b\b\b\b\b\b\b\b\b\b\b\b\b\b\b\b\b\b\b\b\b\b\b\b\b\b\b\b\b\b\b\b\b\b\b\b\b\b\b\b\b\b\b\b\b\b\b\b\b\b\b\b\b\b\b\b\b\b\b\b\b\r208/333 [=================>............] - ETA: 1s - loss: 0.0421",
      "\b\b\b\b\b\b\b\b\b\b\b\b\b\b\b\b\b\b\b\b\b\b\b\b\b\b\b\b\b\b\b\b\b\b\b\b\b\b\b\b\b\b\b\b\b\b\b\b\b\b\b\b\b\b\b\b\b\b\b\b\b\b\b\b\b\r224/333 [===================>..........] - ETA: 1s - loss: 0.0446",
      "\b\b\b\b\b\b\b\b\b\b\b\b\b\b\b\b\b\b\b\b\b\b\b\b\b\b\b\b\b\b\b\b\b\b\b\b\b\b\b\b\b\b\b\b\b\b\b\b\b\b\b\b\b\b\b\b\b\b\b\b\b\b\b\b\b\r240/333 [====================>.........] - ETA: 0s - loss: 0.0419",
      "\b\b\b\b\b\b\b\b\b\b\b\b\b\b\b\b\b\b\b\b\b\b\b\b\b\b\b\b\b\b\b\b\b\b\b\b\b\b\b\b\b\b\b\b\b\b\b\b\b\b\b\b\b\b\b\b\b\b\b\b\b\b\b\b\b\r256/333 [======================>.......] - ETA: 0s - loss: 0.0392",
      "\b\b\b\b\b\b\b\b\b\b\b\b\b\b\b\b\b\b\b\b\b\b\b\b\b\b\b\b\b\b\b\b\b\b\b\b\b\b\b\b\b\b\b\b\b\b\b\b\b\b\b\b\b\b\b\b\b\b\b\b\b\b\b\b\b\r272/333 [=======================>......] - ETA: 0s - loss: 0.0375",
      "\b\b\b\b\b\b\b\b\b\b\b\b\b\b\b\b\b\b\b\b\b\b\b\b\b\b\b\b\b\b\b\b\b\b\b\b\b\b\b\b\b\b\b\b\b\b\b\b\b\b\b\b\b\b\b\b\b\b\b\b\b\b\b\b\b\r288/333 [========================>.....] - ETA: 0s - loss: 0.0363",
      "\b\b\b\b\b\b\b\b\b\b\b\b\b\b\b\b\b\b\b\b\b\b\b\b\b\b\b\b\b\b\b\b\b\b\b\b\b\b\b\b\b\b\b\b\b\b\b\b\b\b\b\b\b\b\b\b\b\b\b\b\b\b\b\b\b\r304/333 [==========================>...] - ETA: 0s - loss: 0.0347",
      "\b\b\b\b\b\b\b\b\b\b\b\b\b\b\b\b\b\b\b\b\b\b\b\b\b\b\b\b\b\b\b\b\b\b\b\b\b\b\b\b\b\b\b\b\b\b\b\b\b\b\b\b\b\b\b\b\b\b\b\b\b\b\b\b\b\r320/333 [===========================>..] - ETA: 0s - loss: 0.0329",
      "\b\b\b\b\b\b\b\b\b\b\b\b\b\b\b\b\b\b\b\b\b\b\b\b\b\b\b\b\b\b\b\b\b\b\b\b\b\b\b\b\b\b\b\b\b\b\b\b\b\b\b\b\b\b\b\b\b\b\b\b\b\b\b\b\b\r333/333 [==============================] - 16s 49ms/step - loss: 0.0347 - val_loss: 0.0875\n",
      "Epoch 4/12\n\r 16/333 [>.............................] - ETA: 2s - loss: 0.0000e+00",
      "\b\b\b\b\b\b\b\b\b\b\b\b\b\b\b\b\b\b\b\b\b\b\b\b\b\b\b\b\b\b\b\b\b\b\b\b\b\b\b\b\b\b\b\b\b\b\b\b\b\b\b\b\b\b\b\b\b\b\b\b\b\b\b\b\b\b\b\b\b\r 32/333 [=>............................] - ETA: 2s - loss: 0.0177    ",
      "\b\b\b\b\b\b\b\b\b\b\b\b\b\b\b\b\b\b\b\b\b\b\b\b\b\b\b\b\b\b\b\b\b\b\b\b\b\b\b\b\b\b\b\b\b\b\b\b\b\b\b\b\b\b\b\b\b\b\b\b\b\b\b\b\b\r 48/333 [===>..........................] - ETA: 2s - loss: 0.0118",
      "\b\b\b\b\b\b\b\b\b\b\b\b\b\b\b\b\b\b\b\b\b\b\b\b\b\b\b\b\b\b\b\b\b\b\b\b\b\b\b\b\b\b\b\b\b\b\b\b\b\b\b\b\b\b\b\b\b\b\b\b\b\b\b\b\b\r 64/333 [====>.........................] - ETA: 2s - loss: 0.0088",
      "\b\b\b\b\b\b\b\b\b\b\b\b\b\b\b\b\b\b\b\b\b\b\b\b\b\b\b\b\b\b\b\b\b\b\b\b\b\b\b\b\b\b\b\b\b\b\b\b\b\b\b\b\b\b\b\b\b\b\b\b\b\b\b\b\b\r 80/333 [======>.......................] - ETA: 2s - loss: 0.0134",
      "\b\b\b\b\b\b\b\b\b\b\b\b\b\b\b\b\b\b\b\b\b\b\b\b\b\b\b\b\b\b\b\b\b\b\b\b\b\b\b\b\b\b\b\b\b\b\b\b\b\b\b\b\b\b\b\b\b\b\b\b\b\b\b\b\b\r 96/333 [=======>......................] - ETA: 2s - loss: 0.0129",
      "\b\b\b\b\b\b\b\b\b\b\b\b\b\b\b\b\b\b\b\b\b\b\b\b\b\b\b\b\b\b\b\b\b\b\b\b\b\b\b\b\b\b\b\b\b\b\b\b\b\b\b\b\b\b\b\b\b\b\b\b\b\b\b\b\b\r112/333 [=========>....................] - ETA: 2s - loss: 0.0110",
      "\b\b\b\b\b\b\b\b\b\b\b\b\b\b\b\b\b\b\b\b\b\b\b\b\b\b\b\b\b\b\b\b\b\b\b\b\b\b\b\b\b\b\b\b\b\b\b\b\b\b\b\b\b\b\b\b\b\b\b\b\b\b\b\b\b\r128/333 [==========>...................] - ETA: 1s - loss: 0.0097",
      "\b\b\b\b\b\b\b\b\b\b\b\b\b\b\b\b\b\b\b\b\b\b\b\b\b\b\b\b\b\b\b\b\b\b\b\b\b\b\b\b\b\b\b\b\b\b\b\b\b\b\b\b\b\b\b\b\b\b\b\b\b\b\b\b\b\r144/333 [===========>..................] - ETA: 1s - loss: 0.0086",
      "\b\b\b\b\b\b\b\b\b\b\b\b\b\b\b\b\b\b\b\b\b\b\b\b\b\b\b\b\b\b\b\b\b\b\b\b\b\b\b\b\b\b\b\b\b\b\b\b\b\b\b\b\b\b\b\b\b\b\b\b\b\b\b\b\b\r160/333 [=============>................] - ETA: 1s - loss: 0.0112",
      "\b\b\b\b\b\b\b\b\b\b\b\b\b\b\b\b\b\b\b\b\b\b\b\b\b\b\b\b\b\b\b\b\b\b\b\b\b\b\b\b\b\b\b\b\b\b\b\b\b\b\b\b\b\b\b\b\b\b\b\b\b\b\b\b\b\r176/333 [==============>...............] - ETA: 1s - loss: 0.0102",
      "\b\b\b\b\b\b\b\b\b\b\b\b\b\b\b\b\b\b\b\b\b\b\b\b\b\b\b\b\b\b\b\b\b\b\b\b\b\b\b\b\b\b\b\b\b\b\b\b\b\b\b\b\b\b\b\b\b\b\b\b\b\b\b\b\b\r192/333 [================>.............] - ETA: 1s - loss: 0.0094",
      "\b\b\b\b\b\b\b\b\b\b\b\b\b\b\b\b\b\b\b\b\b\b\b\b\b\b\b\b\b\b\b\b\b\b\b\b\b\b\b\b\b\b\b\b\b\b\b\b\b\b\b\b\b\b\b\b\b\b\b\b\b\b\b\b\b\r208/333 [=================>............] - ETA: 1s - loss: 0.0086",
      "\b\b\b\b\b\b\b\b\b\b\b\b\b\b\b\b\b\b\b\b\b\b\b\b\b\b\b\b\b\b\b\b\b\b\b\b\b\b\b\b\b\b\b\b\b\b\b\b\b\b\b\b\b\b\b\b\b\b\b\b\b\b\b\b\b\r224/333 [===================>..........] - ETA: 1s - loss: 0.0123",
      "\b\b\b\b\b\b\b\b\b\b\b\b\b\b\b\b\b\b\b\b\b\b\b\b\b\b\b\b\b\b\b\b\b\b\b\b\b\b\b\b\b\b\b\b\b\b\b\b\b\b\b\b\b\b\b\b\b\b\b\b\b\b\b\b\b\r240/333 [====================>.........] - ETA: 0s - loss: 0.0115",
      "\b\b\b\b\b\b\b\b\b\b\b\b\b\b\b\b\b\b\b\b\b\b\b\b\b\b\b\b\b\b\b\b\b\b\b\b\b\b\b\b\b\b\b\b\b\b\b\b\b\b\b\b\b\b\b\b\b\b\b\b\b\b\b\b\b\r256/333 [======================>.......] - ETA: 0s - loss: 0.0108",
      "\b\b\b\b\b\b\b\b\b\b\b\b\b\b\b\b\b\b\b\b\b\b\b\b\b\b\b\b\b\b\b\b\b\b\b\b\b\b\b\b\b\b\b\b\b\b\b\b\b\b\b\b\b\b\b\b\b\b\b\b\b\b\b\b\b\r272/333 [=======================>......] - ETA: 0s - loss: 0.0101",
      "\b\b\b\b\b\b\b\b\b\b\b\b\b\b\b\b\b\b\b\b\b\b\b\b\b\b\b\b\b\b\b\b\b\b\b\b\b\b\b\b\b\b\b\b\b\b\b\b\b\b\b\b\b\b\b\b\b\b\b\b\b\b\b\b\b\r288/333 [========================>.....] - ETA: 0s - loss: 0.0115",
      "\b\b\b\b\b\b\b\b\b\b\b\b\b\b\b\b\b\b\b\b\b\b\b\b\b\b\b\b\b\b\b\b\b\b\b\b\b\b\b\b\b\b\b\b\b\b\b\b\b\b\b\b\b\b\b\b\b\b\b\b\b\b\b\b\b\r304/333 [==========================>...] - ETA: 0s - loss: 0.0109",
      "\b\b\b\b\b\b\b\b\b\b\b\b\b\b\b\b\b\b\b\b\b\b\b\b\b\b\b\b\b\b\b\b\b\b\b\b\b\b\b\b\b\b\b\b\b\b\b\b\b\b\b\b\b\b\b\b\b\b\b\b\b\b\b\b\b\r320/333 [===========================>..] - ETA: 0s - loss: 0.0104",
      "\b\b\b\b\b\b\b\b\b\b\b\b\b\b\b\b\b\b\b\b\b\b\b\b\b\b\b\b\b\b\b\b\b\b\b\b\b\b\b\b\b\b\b\b\b\b\b\b\b\b\b\b\b\b\b\b\b\b\b\b\b\b\b\b\b\r333/333 [==============================] - 16s 48ms/step - loss: 0.0099 - val_loss: 0.0830\n",
      "Epoch 5/12\n\r 16/333 [>.............................] - ETA: 2s - loss: 0.0000e+00",
      "\b\b\b\b\b\b\b\b\b\b\b\b\b\b\b\b\b\b\b\b\b\b\b\b\b\b\b\b\b\b\b\b\b\b\b\b\b\b\b\b\b\b\b\b\b\b\b\b\b\b\b\b\b\b\b\b\b\b\b\b\b\b\b\b\b\b\b\b\b\r 32/333 [=>............................] - ETA: 2s - loss: 0.0000e+00",
      "\b\b\b\b\b\b\b\b\b\b\b\b\b\b\b\b\b\b\b\b\b\b\b\b\b\b\b\b\b\b\b\b\b\b\b\b\b\b\b\b\b\b\b\b\b\b\b\b\b\b\b\b\b\b\b\b\b\b\b\b\b\b\b\b\b\b\b\b\b\r 48/333 [===>..........................] - ETA: 2s - loss: 0.0049    ",
      "\b\b\b\b\b\b\b\b\b\b\b\b\b\b\b\b\b\b\b\b\b\b\b\b\b\b\b\b\b\b\b\b\b\b\b\b\b\b\b\b\b\b\b\b\b\b\b\b\b\b\b\b\b\b\b\b\b\b\b\b\b\b\b\b\b\r 64/333 [====>.........................] - ETA: 2s - loss: 0.0064",
      "\b\b\b\b\b\b\b\b\b\b\b\b\b\b\b\b\b\b\b\b\b\b\b\b\b\b\b\b\b\b\b\b\b\b\b\b\b\b\b\b\b\b\b\b\b\b\b\b\b\b\b\b\b\b\b\b\b\b\b\b\b\b\b\b\b\r 80/333 [======>.......................] - ETA: 2s - loss: 0.0058",
      "\b\b\b\b\b\b\b\b\b\b\b\b\b\b\b\b\b\b\b\b\b\b\b\b\b\b\b\b\b\b\b\b\b\b\b\b\b\b\b\b\b\b\b\b\b\b\b\b\b\b\b\b\b\b\b\b\b\b\b\b\b\b\b\b\b\r 96/333 [=======>......................] - ETA: 2s - loss: 0.0094",
      "\b\b\b\b\b\b\b\b\b\b\b\b\b\b\b\b\b\b\b\b\b\b\b\b\b\b\b\b\b\b\b\b\b\b\b\b\b\b\b\b\b\b\b\b\b\b\b\b\b\b\b\b\b\b\b\b\b\b\b\b\b\b\b\b\b\r112/333 [=========>....................] - ETA: 2s - loss: 0.0080",
      "\b\b\b\b\b\b\b\b\b\b\b\b\b\b\b\b\b\b\b\b\b\b\b\b\b\b\b\b\b\b\b\b\b\b\b\b\b\b\b\b\b\b\b\b\b\b\b\b\b\b\b\b\b\b\b\b\b\b\b\b\b\b\b\b\b\r128/333 [==========>...................] - ETA: 1s - loss: 0.0070",
      "\b\b\b\b\b\b\b\b\b\b\b\b\b\b\b\b\b\b\b\b\b\b\b\b\b\b\b\b\b\b\b\b\b\b\b\b\b\b\b\b\b\b\b\b\b\b\b\b\b\b\b\b\b\b\b\b\b\b\b\b\b\b\b\b\b\r144/333 [===========>..................] - ETA: 1s - loss: 0.0068",
      "\b\b\b\b\b\b\b\b\b\b\b\b\b\b\b\b\b\b\b\b\b\b\b\b\b\b\b\b\b\b\b\b\b\b\b\b\b\b\b\b\b\b\b\b\b\b\b\b\b\b\b\b\b\b\b\b\b\b\b\b\b\b\b\b\b\r160/333 [=============>................] - ETA: 1s - loss: 0.0068",
      "\b\b\b\b\b\b\b\b\b\b\b\b\b\b\b\b\b\b\b\b\b\b\b\b\b\b\b\b\b\b\b\b\b\b\b\b\b\b\b\b\b\b\b\b\b\b\b\b\b\b\b\b\b\b\b\b\b\b\b\b\b\b\b\b\b\r176/333 [==============>...............] - ETA: 1s - loss: 0.0061",
      "\b\b\b\b\b\b\b\b\b\b\b\b\b\b\b\b\b\b\b\b\b\b\b\b\b\b\b\b\b\b\b\b\b\b\b\b\b\b\b\b\b\b\b\b\b\b\b\b\b\b\b\b\b\b\b\b\b\b\b\b\b\b\b\b\b\r192/333 [================>.............] - ETA: 1s - loss: 0.0056",
      "\b\b\b\b\b\b\b\b\b\b\b\b\b\b\b\b\b\b\b\b\b\b\b\b\b\b\b\b\b\b\b\b\b\b\b\b\b\b\b\b\b\b\b\b\b\b\b\b\b\b\b\b\b\b\b\b\b\b\b\b\b\b\b\b\b\r208/333 [=================>............] - ETA: 1s - loss: 0.0052",
      "\b\b\b\b\b\b\b\b\b\b\b\b\b\b\b\b\b\b\b\b\b\b\b\b\b\b\b\b\b\b\b\b\b\b\b\b\b\b\b\b\b\b\b\b\b\b\b\b\b\b\b\b\b\b\b\b\b\b\b\b\b\b\b\b\b\r224/333 [===================>..........] - ETA: 1s - loss: 0.0050",
      "\b\b\b\b\b\b\b\b\b\b\b\b\b\b\b\b\b\b\b\b\b\b\b\b\b\b\b\b\b\b\b\b\b\b\b\b\b\b\b\b\b\b\b\b\b\b\b\b\b\b\b\b\b\b\b\b\b\b\b\b\b\b\b\b\b\r240/333 [====================>.........] - ETA: 0s - loss: 0.0047",
      "\b\b\b\b\b\b\b\b\b\b\b\b\b\b\b\b\b\b\b\b\b\b\b\b\b\b\b\b\b\b\b\b\b\b\b\b\b\b\b\b\b\b\b\b\b\b\b\b\b\b\b\b\b\b\b\b\b\b\b\b\b\b\b\b\b\r256/333 [======================>.......] - ETA: 0s - loss: 0.0044",
      "\b\b\b\b\b\b\b\b\b\b\b\b\b\b\b\b\b\b\b\b\b\b\b\b\b\b\b\b\b\b\b\b\b\b\b\b\b\b\b\b\b\b\b\b\b\b\b\b\b\b\b\b\b\b\b\b\b\b\b\b\b\b\b\b\b\r272/333 [=======================>......] - ETA: 0s - loss: 0.0041",
      "\b\b\b\b\b\b\b\b\b\b\b\b\b\b\b\b\b\b\b\b\b\b\b\b\b\b\b\b\b\b\b\b\b\b\b\b\b\b\b\b\b\b\b\b\b\b\b\b\b\b\b\b\b\b\b\b\b\b\b\b\b\b\b\b\b\r288/333 [========================>.....] - ETA: 0s - loss: 0.0039",
      "\b\b\b\b\b\b\b\b\b\b\b\b\b\b\b\b\b\b\b\b\b\b\b\b\b\b\b\b\b\b\b\b\b\b\b\b\b\b\b\b\b\b\b\b\b\b\b\b\b\b\b\b\b\b\b\b\b\b\b\b\b\b\b\b\b\r304/333 [==========================>...] - ETA: 0s - loss: 0.0037",
      "\b\b\b\b\b\b\b\b\b\b\b\b\b\b\b\b\b\b\b\b\b\b\b\b\b\b\b\b\b\b\b\b\b\b\b\b\b\b\b\b\b\b\b\b\b\b\b\b\b\b\b\b\b\b\b\b\b\b\b\b\b\b\b\b\b\r320/333 [===========================>..] - ETA: 0s - loss: 0.0035",
      "\b\b\b\b\b\b\b\b\b\b\b\b\b\b\b\b\b\b\b\b\b\b\b\b\b\b\b\b\b\b\b\b\b\b\b\b\b\b\b\b\b\b\b\b\b\b\b\b\b\b\b\b\b\b\b\b\b\b\b\b\b\b\b\b\b\r333/333 [==============================] - 16s 49ms/step - loss: 0.0034 - val_loss: 0.0806\n",
      "Epoch 6/12\n\r 16/333 [>.............................] - ETA: 2s - loss: 0.0000e+00",
      "\b\b\b\b\b\b\b\b\b\b\b\b\b\b\b\b\b\b\b\b\b\b\b\b\b\b\b\b\b\b\b\b\b\b\b\b\b\b\b\b\b\b\b\b\b\b\b\b\b\b\b\b\b\b\b\b\b\b\b\b\b\b\b\b\b\b\b\b\b\r 32/333 [=>............................] - ETA: 2s - loss: 0.0000e+00",
      "\b\b\b\b\b\b\b\b\b\b\b\b\b\b\b\b\b\b\b\b\b\b\b\b\b\b\b\b\b\b\b\b\b\b\b\b\b\b\b\b\b\b\b\b\b\b\b\b\b\b\b\b\b\b\b\b\b\b\b\b\b\b\b\b\b\b\b\b\b\r 48/333 [===>..........................] - ETA: 2s - loss: 0.0000e+00",
      "\b\b\b\b\b\b\b\b\b\b\b\b\b\b\b\b\b\b\b\b\b\b\b\b\b\b\b\b\b\b\b\b\b\b\b\b\b\b\b\b\b\b\b\b\b\b\b\b\b\b\b\b\b\b\b\b\b\b\b\b\b\b\b\b\b\b\b\b\b\r 64/333 [====>.........................] - ETA: 2s - loss: 0.0000e+00",
      "\b\b\b\b\b\b\b\b\b\b\b\b\b\b\b\b\b\b\b\b\b\b\b\b\b\b\b\b\b\b\b\b\b\b\b\b\b\b\b\b\b\b\b\b\b\b\b\b\b\b\b\b\b\b\b\b\b\b\b\b\b\b\b\b\b\b\b\b\b\r 80/333 [======>.......................] - ETA: 2s - loss: 0.0027    ",
      "\b\b\b\b\b\b\b\b\b\b\b\b\b\b\b\b\b\b\b\b\b\b\b\b\b\b\b\b\b\b\b\b\b\b\b\b\b\b\b\b\b\b\b\b\b\b\b\b\b\b\b\b\b\b\b\b\b\b\b\b\b\b\b\b\b\r 96/333 [=======>......................] - ETA: 2s - loss: 0.0022",
      "\b\b\b\b\b\b\b\b\b\b\b\b\b\b\b\b\b\b\b\b\b\b\b\b\b\b\b\b\b\b\b\b\b\b\b\b\b\b\b\b\b\b\b\b\b\b\b\b\b\b\b\b\b\b\b\b\b\b\b\b\b\b\b\b\b\r112/333 [=========>....................] - ETA: 2s - loss: 0.0019",
      "\b\b\b\b\b\b\b\b\b\b\b\b\b\b\b\b\b\b\b\b\b\b\b\b\b\b\b\b\b\b\b\b\b\b\b\b\b\b\b\b\b\b\b\b\b\b\b\b\b\b\b\b\b\b\b\b\b\b\b\b\b\b\b\b\b\r128/333 [==========>...................] - ETA: 2s - loss: 0.0044",
      "\b\b\b\b\b\b\b\b\b\b\b\b\b\b\b\b\b\b\b\b\b\b\b\b\b\b\b\b\b\b\b\b\b\b\b\b\b\b\b\b\b\b\b\b\b\b\b\b\b\b\b\b\b\b\b\b\b\b\b\b\b\b\b\b\b\r144/333 [===========>..................] - ETA: 1s - loss: 0.0039",
      "\b\b\b\b\b\b\b\b\b\b\b\b\b\b\b\b\b\b\b\b\b\b\b\b\b\b\b\b\b\b\b\b\b\b\b\b\b\b\b\b\b\b\b\b\b\b\b\b\b\b\b\b\b\b\b\b\b\b\b\b\b\b\b\b\b\r160/333 [=============>................] - ETA: 1s - loss: 0.0036",
      "\b\b\b\b\b\b\b\b\b\b\b\b\b\b\b\b\b\b\b\b\b\b\b\b\b\b\b\b\b\b\b\b\b\b\b\b\b\b\b\b\b\b\b\b\b\b\b\b\b\b\b\b\b\b\b\b\b\b\b\b\b\b\b\b\b\r176/333 [==============>...............] - ETA: 1s - loss: 0.0032",
      "\b\b\b\b\b\b\b\b\b\b\b\b\b\b\b\b\b\b\b\b\b\b\b\b\b\b\b\b\b\b\b\b\b\b\b\b\b\b\b\b\b\b\b\b\b\b\b\b\b\b\b\b\b\b\b\b\b\b\b\b\b\b\b\b\b\r192/333 [================>.............] - ETA: 1s - loss: 0.0049",
      "\b\b\b\b\b\b\b\b\b\b\b\b\b\b\b\b\b\b\b\b\b\b\b\b\b\b\b\b\b\b\b\b\b\b\b\b\b\b\b\b\b\b\b\b\b\b\b\b\b\b\b\b\b\b\b\b\b\b\b\b\b\b\b\b\b\r208/333 [=================>............] - ETA: 1s - loss: 0.0045",
      "\b\b\b\b\b\b\b\b\b\b\b\b\b\b\b\b\b\b\b\b\b\b\b\b\b\b\b\b\b\b\b\b\b\b\b\b\b\b\b\b\b\b\b\b\b\b\b\b\b\b\b\b\b\b\b\b\b\b\b\b\b\b\b\b\b\r224/333 [===================>..........] - ETA: 1s - loss: 0.0042",
      "\b\b\b\b\b\b\b\b\b\b\b\b\b\b\b\b\b\b\b\b\b\b\b\b\b\b\b\b\b\b\b\b\b\b\b\b\b\b\b\b\b\b\b\b\b\b\b\b\b\b\b\b\b\b\b\b\b\b\b\b\b\b\b\b\b\r240/333 [====================>.........] - ETA: 0s - loss: 0.0046",
      "\b\b\b\b\b\b\b\b\b\b\b\b\b\b\b\b\b\b\b\b\b\b\b\b\b\b\b\b\b\b\b\b\b\b\b\b\b\b\b\b\b\b\b\b\b\b\b\b\b\b\b\b\b\b\b\b\b\b\b\b\b\b\b\b\b\r256/333 [======================>.......] - ETA: 0s - loss: 0.0043",
      "\b\b\b\b\b\b\b\b\b\b\b\b\b\b\b\b\b\b\b\b\b\b\b\b\b\b\b\b\b\b\b\b\b\b\b\b\b\b\b\b\b\b\b\b\b\b\b\b\b\b\b\b\b\b\b\b\b\b\b\b\b\b\b\b\b\r272/333 [=======================>......] - ETA: 0s - loss: 0.0041",
      "\b\b\b\b\b\b\b\b\b\b\b\b\b\b\b\b\b\b\b\b\b\b\b\b\b\b\b\b\b\b\b\b\b\b\b\b\b\b\b\b\b\b\b\b\b\b\b\b\b\b\b\b\b\b\b\b\b\b\b\b\b\b\b\b\b\r288/333 [========================>.....] - ETA: 0s - loss: 0.0044",
      "\b\b\b\b\b\b\b\b\b\b\b\b\b\b\b\b\b\b\b\b\b\b\b\b\b\b\b\b\b\b\b\b\b\b\b\b\b\b\b\b\b\b\b\b\b\b\b\b\b\b\b\b\b\b\b\b\b\b\b\b\b\b\b\b\b\r304/333 [==========================>...] - ETA: 0s - loss: 0.0042",
      "\b\b\b\b\b\b\b\b\b\b\b\b\b\b\b\b\b\b\b\b\b\b\b\b\b\b\b\b\b\b\b\b\b\b\b\b\b\b\b\b\b\b\b\b\b\b\b\b\b\b\b\b\b\b\b\b\b\b\b\b\b\b\b\b\b\r320/333 [===========================>..] - ETA: 0s - loss: 0.0040",
      "\b\b\b\b\b\b\b\b\b\b\b\b\b\b\b\b\b\b\b\b\b\b\b\b\b\b\b\b\b\b\b\b\b\b\b\b\b\b\b\b\b\b\b\b\b\b\b\b\b\b\b\b\b\b\b\b\b\b\b\b\b\b\b\b\b\r333/333 [==============================] - 16s 49ms/step - loss: 0.0038 - val_loss: 0.0789\n",
      "Epoch 7/12\n\r 16/333 [>.............................] - ETA: 2s - loss: 0.0336",
      "\b\b\b\b\b\b\b\b\b\b\b\b\b\b\b\b\b\b\b\b\b\b\b\b\b\b\b\b\b\b\b\b\b\b\b\b\b\b\b\b\b\b\b\b\b\b\b\b\b\b\b\b\b\b\b\b\b\b\b\b\b\b\b\b\b\r 32/333 [=>............................] - ETA: 2s - loss: 0.0168",
      "\b\b\b\b\b\b\b\b\b\b\b\b\b\b\b\b\b\b\b\b\b\b\b\b\b\b\b\b\b\b\b\b\b\b\b\b\b\b\b\b\b\b\b\b\b\b\b\b\b\b\b\b\b\b\b\b\b\b\b\b\b\b\b\b\b\r 48/333 [===>..........................] - ETA: 2s - loss: 0.0112",
      "\b\b\b\b\b\b\b\b\b\b\b\b\b\b\b\b\b\b\b\b\b\b\b\b\b\b\b\b\b\b\b\b\b\b\b\b\b\b\b\b\b\b\b\b\b\b\b\b\b\b\b\b\b\b\b\b\b\b\b\b\b\b\b\b\b\r 64/333 [====>.........................] - ETA: 2s - loss: 0.0084",
      "\b\b\b\b\b\b\b\b\b\b\b\b\b\b\b\b\b\b\b\b\b\b\b\b\b\b\b\b\b\b\b\b\b\b\b\b\b\b\b\b\b\b\b\b\b\b\b\b\b\b\b\b\b\b\b\b\b\b\b\b\b\b\b\b\b\r 80/333 [======>.......................] - ETA: 2s - loss: 0.0079",
      "\b\b\b\b\b\b\b\b\b\b\b\b\b\b\b\b\b\b\b\b\b\b\b\b\b\b\b\b\b\b\b\b\b\b\b\b\b\b\b\b\b\b\b\b\b\b\b\b\b\b\b\b\b\b\b\b\b\b\b\b\b\b\b\b\b\r 96/333 [=======>......................] - ETA: 2s - loss: 0.0066",
      "\b\b\b\b\b\b\b\b\b\b\b\b\b\b\b\b\b\b\b\b\b\b\b\b\b\b\b\b\b\b\b\b\b\b\b\b\b\b\b\b\b\b\b\b\b\b\b\b\b\b\b\b\b\b\b\b\b\b\b\b\b\b\b\b\b\r112/333 [=========>....................] - ETA: 2s - loss: 0.0057",
      "\b\b\b\b\b\b\b\b\b\b\b\b\b\b\b\b\b\b\b\b\b\b\b\b\b\b\b\b\b\b\b\b\b\b\b\b\b\b\b\b\b\b\b\b\b\b\b\b\b\b\b\b\b\b\b\b\b\b\b\b\b\b\b\b\b\r128/333 [==========>...................] - ETA: 1s - loss: 0.0049",
      "\b\b\b\b\b\b\b\b\b\b\b\b\b\b\b\b\b\b\b\b\b\b\b\b\b\b\b\b\b\b\b\b\b\b\b\b\b\b\b\b\b\b\b\b\b\b\b\b\b\b\b\b\b\b\b\b\b\b\b\b\b\b\b\b\b\r144/333 [===========>..................] - ETA: 1s - loss: 0.0044",
      "\b\b\b\b\b\b\b\b\b\b\b\b\b\b\b\b\b\b\b\b\b\b\b\b\b\b\b\b\b\b\b\b\b\b\b\b\b\b\b\b\b\b\b\b\b\b\b\b\b\b\b\b\b\b\b\b\b\b\b\b\b\b\b\b\b\r160/333 [=============>................] - ETA: 1s - loss: 0.0040",
      "\b\b\b\b\b\b\b\b\b\b\b\b\b\b\b\b\b\b\b\b\b\b\b\b\b\b\b\b\b\b\b\b\b\b\b\b\b\b\b\b\b\b\b\b\b\b\b\b\b\b\b\b\b\b\b\b\b\b\b\b\b\b\b\b\b\r176/333 [==============>...............] - ETA: 1s - loss: 0.0040",
      "\b\b\b\b\b\b\b\b\b\b\b\b\b\b\b\b\b\b\b\b\b\b\b\b\b\b\b\b\b\b\b\b\b\b\b\b\b\b\b\b\b\b\b\b\b\b\b\b\b\b\b\b\b\b\b\b\b\b\b\b\b\b\b\b\b\r192/333 [================>.............] - ETA: 1s - loss: 0.0040",
      "\b\b\b\b\b\b\b\b\b\b\b\b\b\b\b\b\b\b\b\b\b\b\b\b\b\b\b\b\b\b\b\b\b\b\b\b\b\b\b\b\b\b\b\b\b\b\b\b\b\b\b\b\b\b\b\b\b\b\b\b\b\b\b\b\b\r208/333 [=================>............] - ETA: 1s - loss: 0.0040",
      "\b\b\b\b\b\b\b\b\b\b\b\b\b\b\b\b\b\b\b\b\b\b\b\b\b\b\b\b\b\b\b\b\b\b\b\b\b\b\b\b\b\b\b\b\b\b\b\b\b\b\b\b\b\b\b\b\b\b\b\b\b\b\b\b\b\r224/333 [===================>..........] - ETA: 1s - loss: 0.0037",
      "\b\b\b\b\b\b\b\b\b\b\b\b\b\b\b\b\b\b\b\b\b\b\b\b\b\b\b\b\b\b\b\b\b\b\b\b\b\b\b\b\b\b\b\b\b\b\b\b\b\b\b\b\b\b\b\b\b\b\b\b\b\b\b\b\b\r240/333 [====================>.........] - ETA: 0s - loss: 0.0035",
      "\b\b\b\b\b\b\b\b\b\b\b\b\b\b\b\b\b\b\b\b\b\b\b\b\b\b\b\b\b\b\b\b\b\b\b\b\b\b\b\b\b\b\b\b\b\b\b\b\b\b\b\b\b\b\b\b\b\b\b\b\b\b\b\b\b\r256/333 [======================>.......] - ETA: 0s - loss: 0.0033",
      "\b\b\b\b\b\b\b\b\b\b\b\b\b\b\b\b\b\b\b\b\b\b\b\b\b\b\b\b\b\b\b\b\b\b\b\b\b\b\b\b\b\b\b\b\b\b\b\b\b\b\b\b\b\b\b\b\b\b\b\b\b\b\b\b\b\r272/333 [=======================>......] - ETA: 0s - loss: 0.0031",
      "\b\b\b\b\b\b\b\b\b\b\b\b\b\b\b\b\b\b\b\b\b\b\b\b\b\b\b\b\b\b\b\b\b\b\b\b\b\b\b\b\b\b\b\b\b\b\b\b\b\b\b\b\b\b\b\b\b\b\b\b\b\b\b\b\b\r288/333 [========================>.....] - ETA: 0s - loss: 0.0029",
      "\b\b\b\b\b\b\b\b\b\b\b\b\b\b\b\b\b\b\b\b\b\b\b\b\b\b\b\b\b\b\b\b\b\b\b\b\b\b\b\b\b\b\b\b\b\b\b\b\b\b\b\b\b\b\b\b\b\b\b\b\b\b\b\b\b\r304/333 [==========================>...] - ETA: 0s - loss: 0.0028",
      "\b\b\b\b\b\b\b\b\b\b\b\b\b\b\b\b\b\b\b\b\b\b\b\b\b\b\b\b\b\b\b\b\b\b\b\b\b\b\b\b\b\b\b\b\b\b\b\b\b\b\b\b\b\b\b\b\b\b\b\b\b\b\b\b\b\r320/333 [===========================>..] - ETA: 0s - loss: 0.0026",
      "\b\b\b\b\b\b\b\b\b\b\b\b\b\b\b\b\b\b\b\b\b\b\b\b\b\b\b\b\b\b\b\b\b\b\b\b\b\b\b\b\b\b\b\b\b\b\b\b\b\b\b\b\b\b\b\b\b\b\b\b\b\b\b\b\b\r333/333 [==============================] - 16s 48ms/step - loss: 0.0025 - val_loss: 0.0771\n",
      "Epoch 8/12\n\r 16/333 [>.............................] - ETA: 2s - loss: 0.0000e+00",
      "\b\b\b\b\b\b\b\b\b\b\b\b\b\b\b\b\b\b\b\b\b\b\b\b\b\b\b\b\b\b\b\b\b\b\b\b\b\b\b\b\b\b\b\b\b\b\b\b\b\b\b\b\b\b\b\b\b\b\b\b\b\b\b\b\b\b\b\b\b\r 32/333 [=>............................] - ETA: 2s - loss: 0.0000e+00",
      "\b\b\b\b\b\b\b\b\b\b\b\b\b\b\b\b\b\b\b\b\b\b\b\b\b\b\b\b\b\b\b\b\b\b\b\b\b\b\b\b\b\b\b\b\b\b\b\b\b\b\b\b\b\b\b\b\b\b\b\b\b\b\b\b\b\b\b\b\b\r 48/333 [===>..........................] - ETA: 2s - loss: 0.0000e+00",
      "\b\b\b\b\b\b\b\b\b\b\b\b\b\b\b\b\b\b\b\b\b\b\b\b\b\b\b\b\b\b\b\b\b\b\b\b\b\b\b\b\b\b\b\b\b\b\b\b\b\b\b\b\b\b\b\b\b\b\b\b\b\b\b\b\b\b\b\b\b\r 64/333 [====>.........................] - ETA: 2s - loss: 0.0000e+00",
      "\b\b\b\b\b\b\b\b\b\b\b\b\b\b\b\b\b\b\b\b\b\b\b\b\b\b\b\b\b\b\b\b\b\b\b\b\b\b\b\b\b\b\b\b\b\b\b\b\b\b\b\b\b\b\b\b\b\b\b\b\b\b\b\b\b\b\b\b\b\r 80/333 [======>.......................] - ETA: 2s - loss: 0.0000e+00",
      "\b\b\b\b\b\b\b\b\b\b\b\b\b\b\b\b\b\b\b\b\b\b\b\b\b\b\b\b\b\b\b\b\b\b\b\b\b\b\b\b\b\b\b\b\b\b\b\b\b\b\b\b\b\b\b\b\b\b\b\b\b\b\b\b\b\b\b\b\b\r 96/333 [=======>......................] - ETA: 2s - loss: 0.0000e+00",
      "\b\b\b\b\b\b\b\b\b\b\b\b\b\b\b\b\b\b\b\b\b\b\b\b\b\b\b\b\b\b\b\b\b\b\b\b\b\b\b\b\b\b\b\b\b\b\b\b\b\b\b\b\b\b\b\b\b\b\b\b\b\b\b\b\b\b\b\b\b\r112/333 [=========>....................] - ETA: 2s - loss: 0.0000e+00",
      "\b\b\b\b\b\b\b\b\b\b\b\b\b\b\b\b\b\b\b\b\b\b\b\b\b\b\b\b\b\b\b\b\b\b\b\b\b\b\b\b\b\b\b\b\b\b\b\b\b\b\b\b\b\b\b\b\b\b\b\b\b\b\b\b\b\b\b\b\b\r128/333 [==========>...................] - ETA: 1s - loss: 0.0000e+00",
      "\b\b\b\b\b\b\b\b\b\b\b\b\b\b\b\b\b\b\b\b\b\b\b\b\b\b\b\b\b\b\b\b\b\b\b\b\b\b\b\b\b\b\b\b\b\b\b\b\b\b\b\b\b\b\b\b\b\b\b\b\b\b\b\b\b\b\b\b\b\r144/333 [===========>..................] - ETA: 1s - loss: 0.0000e+00",
      "\b\b\b\b\b\b\b\b\b\b\b\b\b\b\b\b\b\b\b\b\b\b\b\b\b\b\b\b\b\b\b\b\b\b\b\b\b\b\b\b\b\b\b\b\b\b\b\b\b\b\b\b\b\b\b\b\b\b\b\b\b\b\b\b\b\b\b\b\b\r160/333 [=============>................] - ETA: 1s - loss: 0.0000e+00",
      "\b\b\b\b\b\b\b\b\b\b\b\b\b\b\b\b\b\b\b\b\b\b\b\b\b\b\b\b\b\b\b\b\b\b\b\b\b\b\b\b\b\b\b\b\b\b\b\b\b\b\b\b\b\b\b\b\b\b\b\b\b\b\b\b\b\b\b\b\b\r176/333 [==============>...............] - ETA: 1s - loss: 0.0000e+00",
      "\b\b\b\b\b\b\b\b\b\b\b\b\b\b\b\b\b\b\b\b\b\b\b\b\b\b\b\b\b\b\b\b\b\b\b\b\b\b\b\b\b\b\b\b\b\b\b\b\b\b\b\b\b\b\b\b\b\b\b\b\b\b\b\b\b\b\b\b\b\r192/333 [================>.............] - ETA: 1s - loss: 7.7102e-05",
      "\b\b\b\b\b\b\b\b\b\b\b\b\b\b\b\b\b\b\b\b\b\b\b\b\b\b\b\b\b\b\b\b\b\b\b\b\b\b\b\b\b\b\b\b\b\b\b\b\b\b\b\b\b\b\b\b\b\b\b\b\b\b\b\b\b\b\b\b\b\r208/333 [=================>............] - ETA: 1s - loss: 7.1171e-05",
      "\b\b\b\b\b\b\b\b\b\b\b\b\b\b\b\b\b\b\b\b\b\b\b\b\b\b\b\b\b\b\b\b\b\b\b\b\b\b\b\b\b\b\b\b\b\b\b\b\b\b\b\b\b\b\b\b\b\b\b\b\b\b\b\b\b\b\b\b\b\r224/333 [===================>..........] - ETA: 1s - loss: 6.6087e-05",
      "\b\b\b\b\b\b\b\b\b\b\b\b\b\b\b\b\b\b\b\b\b\b\b\b\b\b\b\b\b\b\b\b\b\b\b\b\b\b\b\b\b\b\b\b\b\b\b\b\b\b\b\b\b\b\b\b\b\b\b\b\b\b\b\b\b\b\b\b\b\r240/333 [====================>.........] - ETA: 0s - loss: 6.1681e-05",
      "\b\b\b\b\b\b\b\b\b\b\b\b\b\b\b\b\b\b\b\b\b\b\b\b\b\b\b\b\b\b\b\b\b\b\b\b\b\b\b\b\b\b\b\b\b\b\b\b\b\b\b\b\b\b\b\b\b\b\b\b\b\b\b\b\b\b\b\b\b\r256/333 [======================>.......] - ETA: 0s - loss: 5.7826e-05",
      "\b\b\b\b\b\b\b\b\b\b\b\b\b\b\b\b\b\b\b\b\b\b\b\b\b\b\b\b\b\b\b\b\b\b\b\b\b\b\b\b\b\b\b\b\b\b\b\b\b\b\b\b\b\b\b\b\b\b\b\b\b\b\b\b\b\b\b\b\b\r272/333 [=======================>......] - ETA: 0s - loss: 5.4425e-05",
      "\b\b\b\b\b\b\b\b\b\b\b\b\b\b\b\b\b\b\b\b\b\b\b\b\b\b\b\b\b\b\b\b\b\b\b\b\b\b\b\b\b\b\b\b\b\b\b\b\b\b\b\b\b\b\b\b\b\b\b\b\b\b\b\b\b\b\b\b\b\r288/333 [========================>.....] - ETA: 0s - loss: 0.0019    ",
      "\b\b\b\b\b\b\b\b\b\b\b\b\b\b\b\b\b\b\b\b\b\b\b\b\b\b\b\b\b\b\b\b\b\b\b\b\b\b\b\b\b\b\b\b\b\b\b\b\b\b\b\b\b\b\b\b\b\b\b\b\b\b\b\b\b\r304/333 [==========================>...] - ETA: 0s - loss: 0.0018",
      "\b\b\b\b\b\b\b\b\b\b\b\b\b\b\b\b\b\b\b\b\b\b\b\b\b\b\b\b\b\b\b\b\b\b\b\b\b\b\b\b\b\b\b\b\b\b\b\b\b\b\b\b\b\b\b\b\b\b\b\b\b\b\b\b\b\r320/333 [===========================>..] - ETA: 0s - loss: 0.0018",
      "\b\b\b\b\b\b\b\b\b\b\b\b\b\b\b\b\b\b\b\b\b\b\b\b\b\b\b\b\b\b\b\b\b\b\b\b\b\b\b\b\b\b\b\b\b\b\b\b\b\b\b\b\b\b\b\b\b\b\b\b\b\b\b\b\b\r333/333 [==============================] - 16s 48ms/step - loss: 0.0022 - val_loss: 0.0764\n",
      "Epoch 9/12\n\r 16/333 [>.............................] - ETA: 2s - loss: 0.0000e+00",
      "\b\b\b\b\b\b\b\b\b\b\b\b\b\b\b\b\b\b\b\b\b\b\b\b\b\b\b\b\b\b\b\b\b\b\b\b\b\b\b\b\b\b\b\b\b\b\b\b\b\b\b\b\b\b\b\b\b\b\b\b\b\b\b\b\b\b\b\b\b\r 32/333 [=>............................] - ETA: 2s - loss: 0.0000e+00",
      "\b\b\b\b\b\b\b\b\b\b\b\b\b\b\b\b\b\b\b\b\b\b\b\b\b\b\b\b\b\b\b\b\b\b\b\b\b\b\b\b\b\b\b\b\b\b\b\b\b\b\b\b\b\b\b\b\b\b\b\b\b\b\b\b\b\b\b\b\b\r 48/333 [===>..........................] - ETA: 2s - loss: 0.0000e+00",
      "\b\b\b\b\b\b\b\b\b\b\b\b\b\b\b\b\b\b\b\b\b\b\b\b\b\b\b\b\b\b\b\b\b\b\b\b\b\b\b\b\b\b\b\b\b\b\b\b\b\b\b\b\b\b\b\b\b\b\b\b\b\b\b\b\b\b\b\b\b\r 64/333 [====>.........................] - ETA: 2s - loss: 0.0000e+00",
      "\b\b\b\b\b\b\b\b\b\b\b\b\b\b\b\b\b\b\b\b\b\b\b\b\b\b\b\b\b\b\b\b\b\b\b\b\b\b\b\b\b\b\b\b\b\b\b\b\b\b\b\b\b\b\b\b\b\b\b\b\b\b\b\b\b\b\b\b\b\r 80/333 [======>.......................] - ETA: 2s - loss: 2.0947e-04",
      "\b\b\b\b\b\b\b\b\b\b\b\b\b\b\b\b\b\b\b\b\b\b\b\b\b\b\b\b\b\b\b\b\b\b\b\b\b\b\b\b\b\b\b\b\b\b\b\b\b\b\b\b\b\b\b\b\b\b\b\b\b\b\b\b\b\b\b\b\b\r 96/333 [=======>......................] - ETA: 2s - loss: 1.7456e-04",
      "\b\b\b\b\b\b\b\b\b\b\b\b\b\b\b\b\b\b\b\b\b\b\b\b\b\b\b\b\b\b\b\b\b\b\b\b\b\b\b\b\b\b\b\b\b\b\b\b\b\b\b\b\b\b\b\b\b\b\b\b\b\b\b\b\b\b\b\b\b\r112/333 [=========>....................] - ETA: 2s - loss: 5.4478e-04",
      "\b\b\b\b\b\b\b\b\b\b\b\b\b\b\b\b\b\b\b\b\b\b\b\b\b\b\b\b\b\b\b\b\b\b\b\b\b\b\b\b\b\b\b\b\b\b\b\b\b\b\b\b\b\b\b\b\b\b\b\b\b\b\b\b\b\b\b\b\b\r128/333 [==========>...................] - ETA: 1s - loss: 4.7668e-04",
      "\b\b\b\b\b\b\b\b\b\b\b\b\b\b\b\b\b\b\b\b\b\b\b\b\b\b\b\b\b\b\b\b\b\b\b\b\b\b\b\b\b\b\b\b\b\b\b\b\b\b\b\b\b\b\b\b\b\b\b\b\b\b\b\b\b\b\b\b\b\r144/333 [===========>..................] - ETA: 1s - loss: 4.2372e-04",
      "\b\b\b\b\b\b\b\b\b\b\b\b\b\b\b\b\b\b\b\b\b\b\b\b\b\b\b\b\b\b\b\b\b\b\b\b\b\b\b\b\b\b\b\b\b\b\b\b\b\b\b\b\b\b\b\b\b\b\b\b\b\b\b\b\b\b\b\b\b\r160/333 [=============>................] - ETA: 1s - loss: 0.0012    ",
      "\b\b\b\b\b\b\b\b\b\b\b\b\b\b\b\b\b\b\b\b\b\b\b\b\b\b\b\b\b\b\b\b\b\b\b\b\b\b\b\b\b\b\b\b\b\b\b\b\b\b\b\b\b\b\b\b\b\b\b\b\b\b\b\b\b\r176/333 [==============>...............] - ETA: 1s - loss: 0.0011",
      "\b\b\b\b\b\b\b\b\b\b\b\b\b\b\b\b\b\b\b\b\b\b\b\b\b\b\b\b\b\b\b\b\b\b\b\b\b\b\b\b\b\b\b\b\b\b\b\b\b\b\b\b\b\b\b\b\b\b\b\b\b\b\b\b\b\r192/333 [================>.............] - ETA: 1s - loss: 0.0011",
      "\b\b\b\b\b\b\b\b\b\b\b\b\b\b\b\b\b\b\b\b\b\b\b\b\b\b\b\b\b\b\b\b\b\b\b\b\b\b\b\b\b\b\b\b\b\b\b\b\b\b\b\b\b\b\b\b\b\b\b\b\b\b\b\b\b\r208/333 [=================>............] - ETA: 1s - loss: 0.0011",
      "\b\b\b\b\b\b\b\b\b\b\b\b\b\b\b\b\b\b\b\b\b\b\b\b\b\b\b\b\b\b\b\b\b\b\b\b\b\b\b\b\b\b\b\b\b\b\b\b\b\b\b\b\b\b\b\b\b\b\b\b\b\b\b\b\b\r224/333 [===================>..........] - ETA: 1s - loss: 0.0012",
      "\b\b\b\b\b\b\b\b\b\b\b\b\b\b\b\b\b\b\b\b\b\b\b\b\b\b\b\b\b\b\b\b\b\b\b\b\b\b\b\b\b\b\b\b\b\b\b\b\b\b\b\b\b\b\b\b\b\b\b\b\b\b\b\b\b\r240/333 [====================>.........] - ETA: 0s - loss: 0.0011",
      "\b\b\b\b\b\b\b\b\b\b\b\b\b\b\b\b\b\b\b\b\b\b\b\b\b\b\b\b\b\b\b\b\b\b\b\b\b\b\b\b\b\b\b\b\b\b\b\b\b\b\b\b\b\b\b\b\b\b\b\b\b\b\b\b\b\r256/333 [======================>.......] - ETA: 0s - loss: 0.0010",
      "\b\b\b\b\b\b\b\b\b\b\b\b\b\b\b\b\b\b\b\b\b\b\b\b\b\b\b\b\b\b\b\b\b\b\b\b\b\b\b\b\b\b\b\b\b\b\b\b\b\b\b\b\b\b\b\b\b\b\b\b\b\b\b\b\b\r272/333 [=======================>......] - ETA: 0s - loss: 9.4996e-04",
      "\b\b\b\b\b\b\b\b\b\b\b\b\b\b\b\b\b\b\b\b\b\b\b\b\b\b\b\b\b\b\b\b\b\b\b\b\b\b\b\b\b\b\b\b\b\b\b\b\b\b\b\b\b\b\b\b\b\b\b\b\b\b\b\b\b\b\b\b\b\r288/333 [========================>.....] - ETA: 0s - loss: 8.9718e-04",
      "\b\b\b\b\b\b\b\b\b\b\b\b\b\b\b\b\b\b\b\b\b\b\b\b\b\b\b\b\b\b\b\b\b\b\b\b\b\b\b\b\b\b\b\b\b\b\b\b\b\b\b\b\b\b\b\b\b\b\b\b\b\b\b\b\b\b\b\b\b\r304/333 [==========================>...] - ETA: 0s - loss: 8.4996e-04",
      "\b\b\b\b\b\b\b\b\b\b\b\b\b\b\b\b\b\b\b\b\b\b\b\b\b\b\b\b\b\b\b\b\b\b\b\b\b\b\b\b\b\b\b\b\b\b\b\b\b\b\b\b\b\b\b\b\b\b\b\b\b\b\b\b\b\b\b\b\b\r320/333 [===========================>..] - ETA: 0s - loss: 8.0747e-04",
      "\b\b\b\b\b\b\b\b\b\b\b\b\b\b\b\b\b\b\b\b\b\b\b\b\b\b\b\b\b\b\b\b\b\b\b\b\b\b\b\b\b\b\b\b\b\b\b\b\b\b\b\b\b\b\b\b\b\b\b\b\b\b\b\b\b\b\b\b\b\r333/333 [==============================] - 16s 48ms/step - loss: 0.0014 - val_loss: 0.0741\n",
      "Epoch 10/12\n\r 16/333 [>.............................] - ETA: 2s - loss: 0.0000e+00",
      "\b\b\b\b\b\b\b\b\b\b\b\b\b\b\b\b\b\b\b\b\b\b\b\b\b\b\b\b\b\b\b\b\b\b\b\b\b\b\b\b\b\b\b\b\b\b\b\b\b\b\b\b\b\b\b\b\b\b\b\b\b\b\b\b\b\b\b\b\b\r 32/333 [=>............................] - ETA: 2s - loss: 0.0000e+00",
      "\b\b\b\b\b\b\b\b\b\b\b\b\b\b\b\b\b\b\b\b\b\b\b\b\b\b\b\b\b\b\b\b\b\b\b\b\b\b\b\b\b\b\b\b\b\b\b\b\b\b\b\b\b\b\b\b\b\b\b\b\b\b\b\b\b\b\b\b\b\r 48/333 [===>..........................] - ETA: 2s - loss: 0.0000e+00",
      "\b\b\b\b\b\b\b\b\b\b\b\b\b\b\b\b\b\b\b\b\b\b\b\b\b\b\b\b\b\b\b\b\b\b\b\b\b\b\b\b\b\b\b\b\b\b\b\b\b\b\b\b\b\b\b\b\b\b\b\b\b\b\b\b\b\b\b\b\b\r 64/333 [====>.........................] - ETA: 2s - loss: 0.0000e+00",
      "\b\b\b\b\b\b\b\b\b\b\b\b\b\b\b\b\b\b\b\b\b\b\b\b\b\b\b\b\b\b\b\b\b\b\b\b\b\b\b\b\b\b\b\b\b\b\b\b\b\b\b\b\b\b\b\b\b\b\b\b\b\b\b\b\b\b\b\b\b\r 80/333 [======>.......................] - ETA: 2s - loss: 0.0000e+00",
      "\b\b\b\b\b\b\b\b\b\b\b\b\b\b\b\b\b\b\b\b\b\b\b\b\b\b\b\b\b\b\b\b\b\b\b\b\b\b\b\b\b\b\b\b\b\b\b\b\b\b\b\b\b\b\b\b\b\b\b\b\b\b\b\b\b\b\b\b\b\r 96/333 [=======>......................] - ETA: 2s - loss: 0.0000e+00",
      "\b\b\b\b\b\b\b\b\b\b\b\b\b\b\b\b\b\b\b\b\b\b\b\b\b\b\b\b\b\b\b\b\b\b\b\b\b\b\b\b\b\b\b\b\b\b\b\b\b\b\b\b\b\b\b\b\b\b\b\b\b\b\b\b\b\b\b\b\b\r112/333 [=========>....................] - ETA: 2s - loss: 0.0000e+00",
      "\b\b\b\b\b\b\b\b\b\b\b\b\b\b\b\b\b\b\b\b\b\b\b\b\b\b\b\b\b\b\b\b\b\b\b\b\b\b\b\b\b\b\b\b\b\b\b\b\b\b\b\b\b\b\b\b\b\b\b\b\b\b\b\b\b\b\b\b\b\r128/333 [==========>...................] - ETA: 1s - loss: 0.0000e+00",
      "\b\b\b\b\b\b\b\b\b\b\b\b\b\b\b\b\b\b\b\b\b\b\b\b\b\b\b\b\b\b\b\b\b\b\b\b\b\b\b\b\b\b\b\b\b\b\b\b\b\b\b\b\b\b\b\b\b\b\b\b\b\b\b\b\b\b\b\b\b\r144/333 [===========>..................] - ETA: 1s - loss: 0.0000e+00",
      "\b\b\b\b\b\b\b\b\b\b\b\b\b\b\b\b\b\b\b\b\b\b\b\b\b\b\b\b\b\b\b\b\b\b\b\b\b\b\b\b\b\b\b\b\b\b\b\b\b\b\b\b\b\b\b\b\b\b\b\b\b\b\b\b\b\b\b\b\b\r160/333 [=============>................] - ETA: 1s - loss: 0.0000e+00",
      "\b\b\b\b\b\b\b\b\b\b\b\b\b\b\b\b\b\b\b\b\b\b\b\b\b\b\b\b\b\b\b\b\b\b\b\b\b\b\b\b\b\b\b\b\b\b\b\b\b\b\b\b\b\b\b\b\b\b\b\b\b\b\b\b\b\b\b\b\b\r176/333 [==============>...............] - ETA: 1s - loss: 0.0016    ",
      "\b\b\b\b\b\b\b\b\b\b\b\b\b\b\b\b\b\b\b\b\b\b\b\b\b\b\b\b\b\b\b\b\b\b\b\b\b\b\b\b\b\b\b\b\b\b\b\b\b\b\b\b\b\b\b\b\b\b\b\b\b\b\b\b\b\r192/333 [================>.............] - ETA: 1s - loss: 0.0015",
      "\b\b\b\b\b\b\b\b\b\b\b\b\b\b\b\b\b\b\b\b\b\b\b\b\b\b\b\b\b\b\b\b\b\b\b\b\b\b\b\b\b\b\b\b\b\b\b\b\b\b\b\b\b\b\b\b\b\b\b\b\b\b\b\b\b\r208/333 [=================>............] - ETA: 1s - loss: 0.0014",
      "\b\b\b\b\b\b\b\b\b\b\b\b\b\b\b\b\b\b\b\b\b\b\b\b\b\b\b\b\b\b\b\b\b\b\b\b\b\b\b\b\b\b\b\b\b\b\b\b\b\b\b\b\b\b\b\b\b\b\b\b\b\b\b\b\b\r224/333 [===================>..........] - ETA: 1s - loss: 0.0013",
      "\b\b\b\b\b\b\b\b\b\b\b\b\b\b\b\b\b\b\b\b\b\b\b\b\b\b\b\b\b\b\b\b\b\b\b\b\b\b\b\b\b\b\b\b\b\b\b\b\b\b\b\b\b\b\b\b\b\b\b\b\b\b\b\b\b\r240/333 [====================>.........] - ETA: 0s - loss: 0.0012",
      "\b\b\b\b\b\b\b\b\b\b\b\b\b\b\b\b\b\b\b\b\b\b\b\b\b\b\b\b\b\b\b\b\b\b\b\b\b\b\b\b\b\b\b\b\b\b\b\b\b\b\b\b\b\b\b\b\b\b\b\b\b\b\b\b\b\r256/333 [======================>.......] - ETA: 0s - loss: 0.0011",
      "\b\b\b\b\b\b\b\b\b\b\b\b\b\b\b\b\b\b\b\b\b\b\b\b\b\b\b\b\b\b\b\b\b\b\b\b\b\b\b\b\b\b\b\b\b\b\b\b\b\b\b\b\b\b\b\b\b\b\b\b\b\b\b\b\b\r272/333 [=======================>......] - ETA: 0s - loss: 0.0011",
      "\b\b\b\b\b\b\b\b\b\b\b\b\b\b\b\b\b\b\b\b\b\b\b\b\b\b\b\b\b\b\b\b\b\b\b\b\b\b\b\b\b\b\b\b\b\b\b\b\b\b\b\b\b\b\b\b\b\b\b\b\b\b\b\b\b\r288/333 [========================>.....] - ETA: 0s - loss: 9.9798e-04",
      "\b\b\b\b\b\b\b\b\b\b\b\b\b\b\b\b\b\b\b\b\b\b\b\b\b\b\b\b\b\b\b\b\b\b\b\b\b\b\b\b\b\b\b\b\b\b\b\b\b\b\b\b\b\b\b\b\b\b\b\b\b\b\b\b\b\b\b\b\b\r304/333 [==========================>...] - ETA: 0s - loss: 9.4545e-04",
      "\b\b\b\b\b\b\b\b\b\b\b\b\b\b\b\b\b\b\b\b\b\b\b\b\b\b\b\b\b\b\b\b\b\b\b\b\b\b\b\b\b\b\b\b\b\b\b\b\b\b\b\b\b\b\b\b\b\b\b\b\b\b\b\b\b\b\b\b\b\r320/333 [===========================>..] - ETA: 0s - loss: 8.9818e-04",
      "\b\b\b\b\b\b\b\b\b\b\b\b\b\b\b\b\b\b\b\b\b\b\b\b\b\b\b\b\b\b\b\b\b\b\b\b\b\b\b\b\b\b\b\b\b\b\b\b\b\b\b\b\b\b\b\b\b\b\b\b\b\b\b\b\b\b\b\b\b\r333/333 [==============================] - 16s 47ms/step - loss: 8.6312e-04 - val_loss: 0.0729\n",
      "Epoch 11/12\n\r 16/333 [>.............................] - ETA: 2s - loss: 0.0000e+00",
      "\b\b\b\b\b\b\b\b\b\b\b\b\b\b\b\b\b\b\b\b\b\b\b\b\b\b\b\b\b\b\b\b\b\b\b\b\b\b\b\b\b\b\b\b\b\b\b\b\b\b\b\b\b\b\b\b\b\b\b\b\b\b\b\b\b\b\b\b\b\r 32/333 [=>............................] - ETA: 2s - loss: 0.0000e+00",
      "\b\b\b\b\b\b\b\b\b\b\b\b\b\b\b\b\b\b\b\b\b\b\b\b\b\b\b\b\b\b\b\b\b\b\b\b\b\b\b\b\b\b\b\b\b\b\b\b\b\b\b\b\b\b\b\b\b\b\b\b\b\b\b\b\b\b\b\b\b\r 48/333 [===>..........................] - ETA: 2s - loss: 0.0000e+00",
      "\b\b\b\b\b\b\b\b\b\b\b\b\b\b\b\b\b\b\b\b\b\b\b\b\b\b\b\b\b\b\b\b\b\b\b\b\b\b\b\b\b\b\b\b\b\b\b\b\b\b\b\b\b\b\b\b\b\b\b\b\b\b\b\b\b\b\b\b\b\r 64/333 [====>.........................] - ETA: 2s - loss: 0.0000e+00",
      "\b\b\b\b\b\b\b\b\b\b\b\b\b\b\b\b\b\b\b\b\b\b\b\b\b\b\b\b\b\b\b\b\b\b\b\b\b\b\b\b\b\b\b\b\b\b\b\b\b\b\b\b\b\b\b\b\b\b\b\b\b\b\b\b\b\b\b\b\b\r 80/333 [======>.......................] - ETA: 2s - loss: 0.0000e+00",
      "\b\b\b\b\b\b\b\b\b\b\b\b\b\b\b\b\b\b\b\b\b\b\b\b\b\b\b\b\b\b\b\b\b\b\b\b\b\b\b\b\b\b\b\b\b\b\b\b\b\b\b\b\b\b\b\b\b\b\b\b\b\b\b\b\b\b\b\b\b\r 96/333 [=======>......................] - ETA: 2s - loss: 0.0000e+00",
      "\b\b\b\b\b\b\b\b\b\b\b\b\b\b\b\b\b\b\b\b\b\b\b\b\b\b\b\b\b\b\b\b\b\b\b\b\b\b\b\b\b\b\b\b\b\b\b\b\b\b\b\b\b\b\b\b\b\b\b\b\b\b\b\b\b\b\b\b\b\r112/333 [=========>....................] - ETA: 2s - loss: 0.0000e+00",
      "\b\b\b\b\b\b\b\b\b\b\b\b\b\b\b\b\b\b\b\b\b\b\b\b\b\b\b\b\b\b\b\b\b\b\b\b\b\b\b\b\b\b\b\b\b\b\b\b\b\b\b\b\b\b\b\b\b\b\b\b\b\b\b\b\b\b\b\b\b\r128/333 [==========>...................] - ETA: 1s - loss: 0.0000e+00",
      "\b\b\b\b\b\b\b\b\b\b\b\b\b\b\b\b\b\b\b\b\b\b\b\b\b\b\b\b\b\b\b\b\b\b\b\b\b\b\b\b\b\b\b\b\b\b\b\b\b\b\b\b\b\b\b\b\b\b\b\b\b\b\b\b\b\b\b\b\b\r144/333 [===========>..................] - ETA: 1s - loss: 0.0000e+00",
      "\b\b\b\b\b\b\b\b\b\b\b\b\b\b\b\b\b\b\b\b\b\b\b\b\b\b\b\b\b\b\b\b\b\b\b\b\b\b\b\b\b\b\b\b\b\b\b\b\b\b\b\b\b\b\b\b\b\b\b\b\b\b\b\b\b\b\b\b\b\r160/333 [=============>................] - ETA: 1s - loss: 0.0000e+00",
      "\b\b\b\b\b\b\b\b\b\b\b\b\b\b\b\b\b\b\b\b\b\b\b\b\b\b\b\b\b\b\b\b\b\b\b\b\b\b\b\b\b\b\b\b\b\b\b\b\b\b\b\b\b\b\b\b\b\b\b\b\b\b\b\b\b\b\b\b\b\r176/333 [==============>...............] - ETA: 1s - loss: 0.0000e+00",
      "\b\b\b\b\b\b\b\b\b\b\b\b\b\b\b\b\b\b\b\b\b\b\b\b\b\b\b\b\b\b\b\b\b\b\b\b\b\b\b\b\b\b\b\b\b\b\b\b\b\b\b\b\b\b\b\b\b\b\b\b\b\b\b\b\b\b\b\b\b\r192/333 [================>.............] - ETA: 1s - loss: 0.0000e+00",
      "\b\b\b\b\b\b\b\b\b\b\b\b\b\b\b\b\b\b\b\b\b\b\b\b\b\b\b\b\b\b\b\b\b\b\b\b\b\b\b\b\b\b\b\b\b\b\b\b\b\b\b\b\b\b\b\b\b\b\b\b\b\b\b\b\b\b\b\b\b\r208/333 [=================>............] - ETA: 1s - loss: 0.0000e+00",
      "\b\b\b\b\b\b\b\b\b\b\b\b\b\b\b\b\b\b\b\b\b\b\b\b\b\b\b\b\b\b\b\b\b\b\b\b\b\b\b\b\b\b\b\b\b\b\b\b\b\b\b\b\b\b\b\b\b\b\b\b\b\b\b\b\b\b\b\b\b\r224/333 [===================>..........] - ETA: 1s - loss: 5.0496e-05",
      "\b\b\b\b\b\b\b\b\b\b\b\b\b\b\b\b\b\b\b\b\b\b\b\b\b\b\b\b\b\b\b\b\b\b\b\b\b\b\b\b\b\b\b\b\b\b\b\b\b\b\b\b\b\b\b\b\b\b\b\b\b\b\b\b\b\b\b\b\b\r240/333 [====================>.........] - ETA: 0s - loss: 4.7130e-05",
      "\b\b\b\b\b\b\b\b\b\b\b\b\b\b\b\b\b\b\b\b\b\b\b\b\b\b\b\b\b\b\b\b\b\b\b\b\b\b\b\b\b\b\b\b\b\b\b\b\b\b\b\b\b\b\b\b\b\b\b\b\b\b\b\b\b\b\b\b\b\r256/333 [======================>.......] - ETA: 0s - loss: 4.4184e-05",
      "\b\b\b\b\b\b\b\b\b\b\b\b\b\b\b\b\b\b\b\b\b\b\b\b\b\b\b\b\b\b\b\b\b\b\b\b\b\b\b\b\b\b\b\b\b\b\b\b\b\b\b\b\b\b\b\b\b\b\b\b\b\b\b\b\b\b\b\b\b\r272/333 [=======================>......] - ETA: 0s - loss: 4.1585e-05",
      "\b\b\b\b\b\b\b\b\b\b\b\b\b\b\b\b\b\b\b\b\b\b\b\b\b\b\b\b\b\b\b\b\b\b\b\b\b\b\b\b\b\b\b\b\b\b\b\b\b\b\b\b\b\b\b\b\b\b\b\b\b\b\b\b\b\b\b\b\b\r288/333 [========================>.....] - ETA: 0s - loss: 3.9275e-05",
      "\b\b\b\b\b\b\b\b\b\b\b\b\b\b\b\b\b\b\b\b\b\b\b\b\b\b\b\b\b\b\b\b\b\b\b\b\b\b\b\b\b\b\b\b\b\b\b\b\b\b\b\b\b\b\b\b\b\b\b\b\b\b\b\b\b\b\b\b\b\r304/333 [==========================>...] - ETA: 0s - loss: 3.7208e-05",
      "\b\b\b\b\b\b\b\b\b\b\b\b\b\b\b\b\b\b\b\b\b\b\b\b\b\b\b\b\b\b\b\b\b\b\b\b\b\b\b\b\b\b\b\b\b\b\b\b\b\b\b\b\b\b\b\b\b\b\b\b\b\b\b\b\b\b\b\b\b\r320/333 [===========================>..] - ETA: 0s - loss: 2.3151e-04",
      "\b\b\b\b\b\b\b\b\b\b\b\b\b\b\b\b\b\b\b\b\b\b\b\b\b\b\b\b\b\b\b\b\b\b\b\b\b\b\b\b\b\b\b\b\b\b\b\b\b\b\b\b\b\b\b\b\b\b\b\b\b\b\b\b\b\b\b\b\b\r333/333 [==============================] - 16s 48ms/step - loss: 2.2247e-04 - val_loss: 0.0725\n",
      "Epoch 12/12\n\r 16/333 [>.............................] - ETA: 2s - loss: 0.0000e+00",
      "\b\b\b\b\b\b\b\b\b\b\b\b\b\b\b\b\b\b\b\b\b\b\b\b\b\b\b\b\b\b\b\b\b\b\b\b\b\b\b\b\b\b\b\b\b\b\b\b\b\b\b\b\b\b\b\b\b\b\b\b\b\b\b\b\b\b\b\b\b\r 32/333 [=>............................] - ETA: 2s - loss: 0.0000e+00",
      "\b\b\b\b\b\b\b\b\b\b\b\b\b\b\b\b\b\b\b\b\b\b\b\b\b\b\b\b\b\b\b\b\b\b\b\b\b\b\b\b\b\b\b\b\b\b\b\b\b\b\b\b\b\b\b\b\b\b\b\b\b\b\b\b\b\b\b\b\b\r 48/333 [===>..........................] - ETA: 2s - loss: 0.0000e+00",
      "\b\b\b\b\b\b\b\b\b\b\b\b\b\b\b\b\b\b\b\b\b\b\b\b\b\b\b\b\b\b\b\b\b\b\b\b\b\b\b\b\b\b\b\b\b\b\b\b\b\b\b\b\b\b\b\b\b\b\b\b\b\b\b\b\b\b\b\b\b\r 64/333 [====>.........................] - ETA: 2s - loss: 0.0000e+00",
      "\b\b\b\b\b\b\b\b\b\b\b\b\b\b\b\b\b\b\b\b\b\b\b\b\b\b\b\b\b\b\b\b\b\b\b\b\b\b\b\b\b\b\b\b\b\b\b\b\b\b\b\b\b\b\b\b\b\b\b\b\b\b\b\b\b\b\b\b\b\r 80/333 [======>.......................] - ETA: 2s - loss: 0.0000e+00",
      "\b\b\b\b\b\b\b\b\b\b\b\b\b\b\b\b\b\b\b\b\b\b\b\b\b\b\b\b\b\b\b\b\b\b\b\b\b\b\b\b\b\b\b\b\b\b\b\b\b\b\b\b\b\b\b\b\b\b\b\b\b\b\b\b\b\b\b\b\b\r 96/333 [=======>......................] - ETA: 2s - loss: 0.0000e+00",
      "\b\b\b\b\b\b\b\b\b\b\b\b\b\b\b\b\b\b\b\b\b\b\b\b\b\b\b\b\b\b\b\b\b\b\b\b\b\b\b\b\b\b\b\b\b\b\b\b\b\b\b\b\b\b\b\b\b\b\b\b\b\b\b\b\b\b\b\b\b\r112/333 [=========>....................] - ETA: 2s - loss: 0.0000e+00",
      "\b\b\b\b\b\b\b\b\b\b\b\b\b\b\b\b\b\b\b\b\b\b\b\b\b\b\b\b\b\b\b\b\b\b\b\b\b\b\b\b\b\b\b\b\b\b\b\b\b\b\b\b\b\b\b\b\b\b\b\b\b\b\b\b\b\b\b\b\b\r128/333 [==========>...................] - ETA: 1s - loss: 0.0000e+00",
      "\b\b\b\b\b\b\b\b\b\b\b\b\b\b\b\b\b\b\b\b\b\b\b\b\b\b\b\b\b\b\b\b\b\b\b\b\b\b\b\b\b\b\b\b\b\b\b\b\b\b\b\b\b\b\b\b\b\b\b\b\b\b\b\b\b\b\b\b\b\r144/333 [===========>..................] - ETA: 1s - loss: 0.0000e+00",
      "\b\b\b\b\b\b\b\b\b\b\b\b\b\b\b\b\b\b\b\b\b\b\b\b\b\b\b\b\b\b\b\b\b\b\b\b\b\b\b\b\b\b\b\b\b\b\b\b\b\b\b\b\b\b\b\b\b\b\b\b\b\b\b\b\b\b\b\b\b\r160/333 [=============>................] - ETA: 1s - loss: 0.0000e+00",
      "\b\b\b\b\b\b\b\b\b\b\b\b\b\b\b\b\b\b\b\b\b\b\b\b\b\b\b\b\b\b\b\b\b\b\b\b\b\b\b\b\b\b\b\b\b\b\b\b\b\b\b\b\b\b\b\b\b\b\b\b\b\b\b\b\b\b\b\b\b\r176/333 [==============>...............] - ETA: 1s - loss: 0.0000e+00",
      "\b\b\b\b\b\b\b\b\b\b\b\b\b\b\b\b\b\b\b\b\b\b\b\b\b\b\b\b\b\b\b\b\b\b\b\b\b\b\b\b\b\b\b\b\b\b\b\b\b\b\b\b\b\b\b\b\b\b\b\b\b\b\b\b\b\b\b\b\b\r192/333 [================>.............] - ETA: 1s - loss: 0.0000e+00",
      "\b\b\b\b\b\b\b\b\b\b\b\b\b\b\b\b\b\b\b\b\b\b\b\b\b\b\b\b\b\b\b\b\b\b\b\b\b\b\b\b\b\b\b\b\b\b\b\b\b\b\b\b\b\b\b\b\b\b\b\b\b\b\b\b\b\b\b\b\b\r208/333 [=================>............] - ETA: 1s - loss: 0.0000e+00",
      "\b\b\b\b\b\b\b\b\b\b\b\b\b\b\b\b\b\b\b\b\b\b\b\b\b\b\b\b\b\b\b\b\b\b\b\b\b\b\b\b\b\b\b\b\b\b\b\b\b\b\b\b\b\b\b\b\b\b\b\b\b\b\b\b\b\b\b\b\b\r224/333 [===================>..........] - ETA: 1s - loss: 0.0000e+00",
      "\b\b\b\b\b\b\b\b\b\b\b\b\b\b\b\b\b\b\b\b\b\b\b\b\b\b\b\b\b\b\b\b\b\b\b\b\b\b\b\b\b\b\b\b\b\b\b\b\b\b\b\b\b\b\b\b\b\b\b\b\b\b\b\b\b\b\b\b\b\r240/333 [====================>.........] - ETA: 0s - loss: 0.0000e+00",
      "\b\b\b\b\b\b\b\b\b\b\b\b\b\b\b\b\b\b\b\b\b\b\b\b\b\b\b\b\b\b\b\b\b\b\b\b\b\b\b\b\b\b\b\b\b\b\b\b\b\b\b\b\b\b\b\b\b\b\b\b\b\b\b\b\b\b\b\b\b\r256/333 [======================>.......] - ETA: 0s - loss: 0.0026    ",
      "\b\b\b\b\b\b\b\b\b\b\b\b\b\b\b\b\b\b\b\b\b\b\b\b\b\b\b\b\b\b\b\b\b\b\b\b\b\b\b\b\b\b\b\b\b\b\b\b\b\b\b\b\b\b\b\b\b\b\b\b\b\b\b\b\b\r272/333 [=======================>......] - ETA: 0s - loss: 0.0025",
      "\b\b\b\b\b\b\b\b\b\b\b\b\b\b\b\b\b\b\b\b\b\b\b\b\b\b\b\b\b\b\b\b\b\b\b\b\b\b\b\b\b\b\b\b\b\b\b\b\b\b\b\b\b\b\b\b\b\b\b\b\b\b\b\b\b\r288/333 [========================>.....] - ETA: 0s - loss: 0.0023",
      "\b\b\b\b\b\b\b\b\b\b\b\b\b\b\b\b\b\b\b\b\b\b\b\b\b\b\b\b\b\b\b\b\b\b\b\b\b\b\b\b\b\b\b\b\b\b\b\b\b\b\b\b\b\b\b\b\b\b\b\b\b\b\b\b\b\r304/333 [==========================>...] - ETA: 0s - loss: 0.0022",
      "\b\b\b\b\b\b\b\b\b\b\b\b\b\b\b\b\b\b\b\b\b\b\b\b\b\b\b\b\b\b\b\b\b\b\b\b\b\b\b\b\b\b\b\b\b\b\b\b\b\b\b\b\b\b\b\b\b\b\b\b\b\b\b\b\b\r320/333 [===========================>..] - ETA: 0s - loss: 0.0021",
      "\b\b\b\b\b\b\b\b\b\b\b\b\b\b\b\b\b\b\b\b\b\b\b\b\b\b\b\b\b\b\b\b\b\b\b\b\b\b\b\b\b\b\b\b\b\b\b\b\b\b\b\b\b\b\b\b\b\b\b\b\b\b\b\b\b\r333/333 [==============================] - 16s 48ms/step - loss: 0.0020 - val_loss: 0.0723\n",
      "Saved model to disk\n"
     ],
     "output_type": "stream"
    },
    {
     "data": {
      "text/plain": "<Figure size 800x800 with 1 Axes>"
     },
     "metadata": {},
     "output_type": "display_data"
    }
   ],
   "source": [
    "H = resnet_qpn.fit(\n",
    "            x=[queries_train, positives_train, negatives_train],\n",
    "            y=None,\n",
    "            batch_size=batch_size,\n",
    "            epochs=epochs,\n",
    "            validation_data=([queries_test, positives_test, negatives_test], None),\n",
    "            verbose=1,\n",
    "            )\n",
    "\n",
    "import matplotlib.pyplot as plt\n",
    "\n",
    "resnet_qpn.save_weights(\"model.h5\")\n",
    "print(\"Saved model to disk\")\n",
    "\n",
    "        \n",
    "plt.figure(figsize=(8,8))\n",
    "plt.plot(H.history['loss'], label='training loss')\n",
    "plt.plot(H.history['val_loss'], label='validation loss')\n",
    "plt.legend()\n",
    "plt.title('Train/validation loss')\n",
    "plt.show()"
   ],
   "metadata": {
    "collapsed": false,
    "pycharm": {
     "name": "#%%\n",
     "is_executing": false
    }
   }
  },
  {
   "cell_type": "code",
   "execution_count": 11,
   "outputs": [],
   "source": [
    "# pop triplet loss layer\n",
    "# resnet_qpn.layers.pop()\n",
    "\n",
    "result = resnet_qpn.predict([queries[:1], positives[:1], negatives[:1]])\n"
   ],
   "metadata": {
    "collapsed": false,
    "pycharm": {
     "name": "#%%\n",
     "is_executing": false
    }
   }
  },
  {
   "cell_type": "code",
   "execution_count": 12,
   "outputs": [],
   "source": [
    "# reload model from disk\n",
    "resnet_qpn = Model([input_q, input_p, input_n], [embedding_q, embedding_p, embedding_n])\n",
    "\n",
    "resnet_qpn.load_weights('model.h5')"
   ],
   "metadata": {
    "collapsed": false,
    "pycharm": {
     "name": "#%%\n",
     "is_executing": false
    }
   }
  },
  {
   "cell_type": "code",
   "execution_count": 13,
   "outputs": [
    {
     "name": "stdout",
     "text": [
      "tot images = 1491, query images = 500\n"
     ],
     "output_type": "stream"
    }
   ],
   "source": [
    "# test model \n",
    "\n",
    "#this function create a perfect ranking :)\n",
    "\n",
    "from sklearn.neighbors import NearestNeighbors\n",
    "\n",
    "input_shape = (224,224,3)\n",
    "\n",
    "def get_imlist_(path=\"holidays_small\"):\n",
    "    imnames = [os.path.join(path, f) for f in os.listdir(path) if f.endswith(u'.jpg')]\n",
    "    imnames = [path.strip('holidays_small/') for path in imnames]\n",
    "    imnames = [path.strip('.jpg') for path in imnames]\n",
    "    return imnames\n",
    "\n",
    "def images_to_tensor(imnames):\n",
    "  images_array = []\n",
    "\n",
    "  # open all images\n",
    "  for name in imnames:\n",
    "    img_path = 'holidays_small/'+ name +'.jpg'\n",
    "    img = image.load_img(img_path, target_size=(input_shape[0], input_shape[1]))\n",
    "    img = image.img_to_array(img)\n",
    "    img = preprocess_input(img)\n",
    "    images_array.append(img)\n",
    "  images_array = np.array(images_array)\n",
    "  print(images_array.shape)\n",
    "  # images_array = preprocess_input(images_array)\n",
    "  return images_array\n",
    "\n",
    "imnames = get_imlist_()\n",
    "\n",
    "query_imids = [i for i, name in enumerate(imnames) if name[-2:].split('.')[0] == \"00\"]\n",
    "\n",
    "# check that everything is fine - expected output: \"tot images = 1491, query images = 500\"\n",
    "print('tot images = %d, query images = %d' % (len(imnames), len(query_imids)))"
   ],
   "metadata": {
    "collapsed": false,
    "pycharm": {
     "name": "#%%\n",
     "is_executing": false
    }
   }
  },
  {
   "cell_type": "code",
   "execution_count": 14,
   "outputs": [],
   "source": [
    "# img_tensor = images_to_tensor(imnames)\n",
    "img_tensor = [img_dict[key] for key in img_dict]\n",
    "img_tensor = np.array(img_tensor)"
   ],
   "metadata": {
    "collapsed": false,
    "pycharm": {
     "name": "#%%\n",
     "is_executing": false
    }
   }
  },
  {
   "cell_type": "code",
   "execution_count": 15,
   "outputs": [],
   "source": [
    "all_feats, _, _ = resnet_qpn.predict([img_tensor, np.zeros(img_tensor.shape), np.zeros(img_tensor.shape)]) "
   ],
   "metadata": {
    "collapsed": false,
    "pycharm": {
     "name": "#%%\n",
     "is_executing": false
    }
   }
  },
  {
   "cell_type": "code",
   "execution_count": 16,
   "outputs": [],
   "source": [
    "query_feats = all_feats[query_imids]\n",
    "\n",
    "#SOLUTION\n",
    "nbrs = NearestNeighbors(n_neighbors=1491, metric='cosine').fit(all_feats)\n",
    "distances, indices = nbrs.kneighbors(query_feats)"
   ],
   "metadata": {
    "collapsed": false,
    "pycharm": {
     "name": "#%%\n",
     "is_executing": false
    }
   }
  },
  {
   "cell_type": "code",
   "execution_count": 17,
   "outputs": [
    {
     "name": "stdout",
     "text": [
      "mean AP = 0.765\n",
      "Perfect mean AP = 1.000\n"
     ],
     "output_type": "stream"
    }
   ],
   "source": [
    "def make_perfect_holidays_result(imnames, q_ids):\n",
    "  perfect_idx =[]\n",
    "  for qimno in q_ids:\n",
    "      qname = imnames[qimno]\n",
    "      positive_results = set([i for i, name in enumerate(imnames) if name != qname and name[:4] == qname[:4]])\n",
    "      ok=[qimno]+[i for i in  positive_results]\n",
    "      others = [i for i in range(1491) if i not in positive_results and i != qimno]\n",
    "      perfect_idx.append(ok+others)\n",
    "  return np.array(perfect_idx)\n",
    "\n",
    "\n",
    "def mAP(q_ids, idx):\n",
    "  aps = []\n",
    "  for qimno, qres in zip(q_ids, idx):\n",
    "      qname = imnames[qimno]\n",
    "      # collect the positive results in the dataset\n",
    "      # the positives have the same prefix as the query image\n",
    "      positive_results = set([i for i, name in enumerate(imnames)\n",
    "                              if name != qname and name[:4] == qname[:4]])\n",
    "      #\n",
    "      # ranks of positives. We skip the result #0, assumed to be the query image\n",
    "      ranks = [i for i, res in enumerate(qres[1:]) if res in positive_results]\n",
    "      #\n",
    "      # accumulate trapezoids with this basis\n",
    "      recall_step = 1.0 / len(positive_results)\n",
    "      ap = 0\n",
    "      for ntp,rank in enumerate(ranks):\n",
    "          # ntp = nb of true positives so far\n",
    "          # rank = nb of retrieved items so far\n",
    "          # y-size on left side of trapezoid:\n",
    "          precision_0 = ntp/float(rank) if rank > 0 else 1.0\n",
    "          # y-size on right side of trapezoid:\n",
    "          precision_1 = (ntp + 1) / float(rank + 1)\n",
    "          ap += (precision_1 + precision_0) * recall_step / 2.0\n",
    "      #print('query %s, AP = %.3f' % (qname, ap))\n",
    "      aps.append(ap)\n",
    "  return np.mean(aps)\n",
    "\n",
    "\n",
    "print('mean AP = %.3f'%mAP(query_imids, indices))\n",
    "perfect_result=make_perfect_holidays_result(imnames, query_imids)\n",
    "print('Perfect mean AP = %.3f'%mAP(query_imids,perfect_result))"
   ],
   "metadata": {
    "collapsed": false,
    "pycharm": {
     "name": "#%%\n",
     "is_executing": false
    }
   }
  }
 ],
 "metadata": {
  "kernelspec": {
   "display_name": "Python 3",
   "language": "python",
   "name": "python3"
  },
  "language_info": {
   "codemirror_mode": {
    "name": "ipython",
    "version": 2
   },
   "file_extension": ".py",
   "mimetype": "text/x-python",
   "name": "python",
   "nbconvert_exporter": "python",
   "pygments_lexer": "ipython2",
   "version": "2.7.6"
  },
  "pycharm": {
   "stem_cell": {
    "cell_type": "raw",
    "source": [],
    "metadata": {
     "collapsed": false
    }
   }
  }
 },
 "nbformat": 4,
 "nbformat_minor": 0
}